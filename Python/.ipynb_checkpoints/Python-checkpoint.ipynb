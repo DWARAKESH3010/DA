{
 "cells": [
  {
   "cell_type": "markdown",
   "id": "ba844a64-6b53-46ab-913c-9de02b7d8f4e",
   "metadata": {},
   "source": [
    "# OOPs"
   ]
  },
  {
   "cell_type": "code",
   "execution_count": 21,
   "id": "1959f2c9-44c7-418f-94b5-f90e7bf0c0e1",
   "metadata": {},
   "outputs": [
    {
     "name": "stdout",
     "output_type": "stream",
     "text": [
      "(8, 'dwara', 15)\n",
      "dwara\n",
      "15\n"
     ]
    }
   ],
   "source": [
    "class num:\n",
    "    def __init__(self,a,b):\n",
    "        self.f = a\n",
    "        self.s = b\n",
    "        self.name = \"dwara\"\n",
    "        self.age = 15\n",
    "    def sum(self):\n",
    "        return self.f + self.s,self.name,self.age\n",
    "\n",
    "obj = num(3,5)\n",
    "print(obj.sum())\n",
    "print(obj.name)\n",
    "print(obj.age)"
   ]
  },
  {
   "cell_type": "markdown",
   "id": "e6ec078d-5214-4bf7-b406-fdf5cfd8224d",
   "metadata": {},
   "source": [
    "# Single inheritance"
   ]
  },
  {
   "cell_type": "code",
   "execution_count": 27,
   "id": "7b387d38-06b4-4613-8ccc-53860ae62421",
   "metadata": {},
   "outputs": [
    {
     "name": "stdout",
     "output_type": "stream",
     "text": [
      "('Buddy', 10)\n",
      "('Whiskers', 10)\n",
      "catWhiskers\n"
     ]
    }
   ],
   "source": [
    "class Dog:\n",
    "    def __init__(self,name):\n",
    "        self.name = name\n",
    "\n",
    "    def outer(self,a):\n",
    "        \n",
    "        return self.name,a\n",
    "\n",
    "class cat(Dog):\n",
    "    def meow(self):\n",
    "        return \"cat\"+self.name\n",
    "\n",
    "dog = Dog(\"Buddy\")\n",
    "cat = cat(\"Whiskers\")\n",
    "\n",
    "print(dog.outer(10))  \n",
    "print(cat.outer(10))  \n",
    "print(cat.meow())"
   ]
  },
  {
   "cell_type": "markdown",
   "id": "5d4bb691-1720-4b23-ae68-a28c66b87f93",
   "metadata": {},
   "source": [
    "# multilevel "
   ]
  },
  {
   "cell_type": "code",
   "execution_count": 31,
   "id": "bcbbbf1c-4789-4bc4-b87e-1f434a4a0338",
   "metadata": {},
   "outputs": [
    {
     "name": "stdout",
     "output_type": "stream",
     "text": [
      "('Buddy', 10)\n",
      "('Whiskers', 10)\n",
      "catWhiskers\n",
      "15\n"
     ]
    }
   ],
   "source": [
    "class Dog:\n",
    "    def __init__(self,name):\n",
    "        self.name = name\n",
    "\n",
    "    def outer(self,a):\n",
    "        \n",
    "        return self.name,a\n",
    "\n",
    "class cat(Dog):\n",
    "    def meow(self):\n",
    "        return \"cat\"+self.name\n",
    "\n",
    "class lion(cat):\n",
    "    def roar(self,a):\n",
    "        return a + 5\n",
    "\n",
    "\n",
    "dog = Dog(\"Buddy\")\n",
    "cat = cat(\"Whiskers\")\n",
    "lion = lion(\"buddy\")\n",
    "print(dog.outer(10))  \n",
    "print(cat.outer(10))  \n",
    "print(cat.meow())\n",
    "print(lion.roar(10))"
   ]
  },
  {
   "cell_type": "markdown",
   "id": "11b52e93-0aab-4e49-a249-46d401d0c2a3",
   "metadata": {},
   "source": [
    "# inheritance \n"
   ]
  },
  {
   "cell_type": "code",
   "execution_count": 52,
   "id": "51bad8ab-d293-4aa6-9bca-1287d9c5d347",
   "metadata": {},
   "outputs": [
    {
     "data": {
      "text/plain": [
       "'hello dwara how are you you are 5 years old'"
      ]
     },
     "execution_count": 52,
     "metadata": {},
     "output_type": "execute_result"
    }
   ],
   "source": [
    "class greet:\n",
    "    def __init__(self,name):\n",
    "        self.name = name\n",
    "        \n",
    "    def names(self):\n",
    "        return \"hello \" + self.name + \" how are you\"\n",
    "class info:\n",
    "    def __init__(self,age):\n",
    "        self.age = age\n",
    "        \n",
    "    def ages(self):\n",
    "        return \"you are \" + str(self.age) + \" years old\"\n",
    "\n",
    "class prin(greet,info):\n",
    "     def __init__(self, name, age):\n",
    "        greet.__init__(self, name)   \n",
    "        info.__init__(self, age)     \n",
    "\n",
    "     def display(self):\n",
    "        greeting = self.names()  \n",
    "        age_info = self.ages()     \n",
    "        return greeting + \" \" + age_info\n",
    "\n",
    "obj3 = prin(\"dwara\",5)\n",
    "obj3.display()"
   ]
  },
  {
   "cell_type": "markdown",
   "id": "c944c10a-3297-4e04-8ff2-cf53ba4efd86",
   "metadata": {},
   "source": [
    "# Encapsulation"
   ]
  },
  {
   "cell_type": "code",
   "execution_count": 16,
   "id": "fd5737ea-0087-4661-aaed-709b8085f8f9",
   "metadata": {},
   "outputs": [
    {
     "data": {
      "text/plain": [
       "'gooooooooooooogle'"
      ]
     },
     "execution_count": 16,
     "metadata": {},
     "output_type": "execute_result"
    }
   ],
   "source": [
    "class sample:\n",
    "    def __init__(self):\n",
    "        self.company = \"dwara\"\n",
    "\n",
    "obj = sample()\n",
    "obj.company = \"gooooooooooooogle\"\n",
    "obj.company"
   ]
  },
  {
   "cell_type": "code",
   "execution_count": 20,
   "id": "ccafc10e-ca6b-428a-a870-faec1ea4bf57",
   "metadata": {},
   "outputs": [
    {
     "ename": "AttributeError",
     "evalue": "'sample' object has no attribute '__company'",
     "output_type": "error",
     "traceback": [
      "\u001b[1;31m---------------------------------------------------------------------------\u001b[0m",
      "\u001b[1;31mAttributeError\u001b[0m                            Traceback (most recent call last)",
      "Cell \u001b[1;32mIn[20], line 6\u001b[0m\n\u001b[0;32m      3\u001b[0m         \u001b[38;5;28mself\u001b[39m\u001b[38;5;241m.\u001b[39m__company \u001b[38;5;241m=\u001b[39m \u001b[38;5;124m\"\u001b[39m\u001b[38;5;124mdwara\u001b[39m\u001b[38;5;124m\"\u001b[39m                        \u001b[38;5;66;03m# used private key modifier \u001b[39;00m\n\u001b[0;32m      5\u001b[0m obj \u001b[38;5;241m=\u001b[39m sample()\n\u001b[1;32m----> 6\u001b[0m obj\u001b[38;5;241m.\u001b[39m__company\n",
      "\u001b[1;31mAttributeError\u001b[0m: 'sample' object has no attribute '__company'"
     ]
    }
   ],
   "source": [
    "class sample:\n",
    "    def __init__(self):\n",
    "        self.__company = \"dwara\"                        # used private key modifier \n",
    "\n",
    "obj = sample()\n",
    "obj.__company                                           # cannot use outside the class use only in the class only"
   ]
  },
  {
   "cell_type": "code",
   "execution_count": 22,
   "id": "5f67be72-03b1-4213-a38d-71f12648a5e8",
   "metadata": {},
   "outputs": [
    {
     "data": {
      "text/plain": [
       "'dwara'"
      ]
     },
     "execution_count": 22,
     "metadata": {},
     "output_type": "execute_result"
    }
   ],
   "source": [
    "class sample:\n",
    "    def __init__(self):\n",
    "        self.__company = \"dwara\"                        # used private key modifier \n",
    "    def company(self):\n",
    "        return self.__company\n",
    "obj = sample()\n",
    "obj.company()                                          # only use in the class "
   ]
  },
  {
   "cell_type": "markdown",
   "id": "6959ff5d-a8bc-416b-829b-48846731e96a",
   "metadata": {},
   "source": [
    "1. company = public\n",
    "2. __company = private\n",
    "3. _company = protected"
   ]
  },
  {
   "cell_type": "code",
   "execution_count": 25,
   "id": "8661b24e-7853-45df-99d0-23bfd95714fc",
   "metadata": {},
   "outputs": [
    {
     "data": {
      "text/plain": [
       "'dwara'"
      ]
     },
     "execution_count": 25,
     "metadata": {},
     "output_type": "execute_result"
    }
   ],
   "source": [
    "class sample:\n",
    "    def __init__(self):\n",
    "        self._company = \"dwara\"                        # used protect key modifier \n",
    "class child(sample):\n",
    "    pass\n",
    "obj = child()\n",
    "obj._company                                          # only use in the class "
   ]
  },
  {
   "cell_type": "markdown",
   "id": "1bde6d90-f589-4e57-ab0e-a19639426df5",
   "metadata": {},
   "source": [
    "# Pass is the place holder for future coding purpose it will execute with no need\n"
   ]
  },
  {
   "cell_type": "code",
   "execution_count": 26,
   "id": "1865a7e0-60c4-448b-ac0b-fbb6756a3294",
   "metadata": {},
   "outputs": [],
   "source": [
    "for x in [0, 1, 2]:\n",
    "  pass"
   ]
  },
  {
   "cell_type": "markdown",
   "id": "cd518c19-ab38-485e-9419-d175ac8abf21",
   "metadata": {},
   "source": [
    "# Polymorphism "
   ]
  },
  {
   "cell_type": "markdown",
   "id": "0a9faa4c-4eed-42eb-b503-e015d782515e",
   "metadata": {},
   "source": [
    "One function can be used in diffrent way"
   ]
  },
  {
   "cell_type": "code",
   "execution_count": 30,
   "id": "19667df5-712c-4734-a881-797daba2f1e1",
   "metadata": {},
   "outputs": [
    {
     "name": "stdout",
     "output_type": "stream",
     "text": [
      "8\n"
     ]
    },
    {
     "data": {
      "text/plain": [
       "3"
      ]
     },
     "execution_count": 30,
     "metadata": {},
     "output_type": "execute_result"
    }
   ],
   "source": [
    "def add(a,b,c=0):\n",
    "    return a + b + c\n",
    "\n",
    "print(add(1,2,5))         #used in the 3 value \n",
    "add(1,2)                  #used in the 2 value"
   ]
  },
  {
   "cell_type": "code",
   "execution_count": 43,
   "id": "763acc2c-7143-4739-abe9-fd00ee859209",
   "metadata": {},
   "outputs": [
    {
     "data": {
      "text/plain": [
       "'DOG Bark'"
      ]
     },
     "execution_count": 43,
     "metadata": {},
     "output_type": "execute_result"
    }
   ],
   "source": [
    "class sample():\n",
    "    def sound(self):\n",
    "        return \"sound\"\n",
    "\n",
    "class sample1(sample):\n",
    "    def sound(self):\n",
    "        return \"DOG Bark\"               # method riding\n",
    "\n",
    "obj = sample1()\n",
    "obj.sound()"
   ]
  },
  {
   "cell_type": "code",
   "execution_count": 1,
   "id": "7bdee9f9-f345-4de2-8dd9-dea795a3eeca",
   "metadata": {},
   "outputs": [
    {
     "name": "stdout",
     "output_type": "stream",
     "text": [
      "None\n",
      "dict_keys([1, 2, 3])\n",
      "dict_values(['One', 'Two', 'Three'])\n",
      "dict_items([(1, 'One'), (2, 'Two'), (3, 'Three')])\n"
     ]
    }
   ],
   "source": [
    "Dic = {\n",
    "    1:\"One\",\n",
    "    2:\"Two\",\n",
    "    3:\"Three\"\n",
    "}\n",
    "print(Dic.get(\"Two\"))\n",
    "print(Dic.keys())\n",
    "print(Dic.values())\n",
    "print(Dic.items())"
   ]
  },
  {
   "cell_type": "code",
   "execution_count": 22,
   "id": "0029f188-1ec1-4225-be7e-ebdd6f45d7ac",
   "metadata": {},
   "outputs": [
    {
     "name": "stdout",
     "output_type": "stream",
     "text": [
      "3 Three\n"
     ]
    }
   ],
   "source": [
    "for i,j in Dic.items():\n",
    "    if j == \"Three\":\n",
    "        print(i,j)"
   ]
  },
  {
   "cell_type": "code",
   "execution_count": 31,
   "id": "f9e61cdf-122e-4666-9e15-ec0522c14f77",
   "metadata": {},
   "outputs": [
    {
     "name": "stdout",
     "output_type": "stream",
     "text": [
      "3 Three\n"
     ]
    },
    {
     "data": {
      "text/plain": [
       "[None]"
      ]
     },
     "execution_count": 31,
     "metadata": {},
     "output_type": "execute_result"
    }
   ],
   "source": [
    "val = [print(i,j) for i,j in Dic.items() if j == \"Three\" ]"
   ]
  },
  {
   "cell_type": "code",
   "execution_count": 38,
   "id": "254244bc-8689-497a-aacf-8f27f7bf6a5b",
   "metadata": {},
   "outputs": [
    {
     "data": {
      "text/html": [
       "<div>\n",
       "<style scoped>\n",
       "    .dataframe tbody tr th:only-of-type {\n",
       "        vertical-align: middle;\n",
       "    }\n",
       "\n",
       "    .dataframe tbody tr th {\n",
       "        vertical-align: top;\n",
       "    }\n",
       "\n",
       "    .dataframe thead th {\n",
       "        text-align: right;\n",
       "    }\n",
       "</style>\n",
       "<table border=\"1\" class=\"dataframe\">\n",
       "  <thead>\n",
       "    <tr style=\"text-align: right;\">\n",
       "      <th></th>\n",
       "      <th>key</th>\n",
       "      <th>value</th>\n",
       "    </tr>\n",
       "  </thead>\n",
       "  <tbody>\n",
       "    <tr>\n",
       "      <th>0</th>\n",
       "      <td>1</td>\n",
       "      <td>One</td>\n",
       "    </tr>\n",
       "    <tr>\n",
       "      <th>1</th>\n",
       "      <td>2</td>\n",
       "      <td>Two</td>\n",
       "    </tr>\n",
       "    <tr>\n",
       "      <th>2</th>\n",
       "      <td>3</td>\n",
       "      <td>Three</td>\n",
       "    </tr>\n",
       "  </tbody>\n",
       "</table>\n",
       "</div>"
      ],
      "text/plain": [
       "   key  value\n",
       "0    1    One\n",
       "1    2    Two\n",
       "2    3  Three"
      ]
     },
     "execution_count": 38,
     "metadata": {},
     "output_type": "execute_result"
    }
   ],
   "source": [
    "import pandas as pd\n",
    "v = pd.DataFrame(list(Dic.items()), columns= [\"key\",\"value\"])\n",
    "v"
   ]
  },
  {
   "cell_type": "code",
   "execution_count": 39,
   "id": "d7b59784-d909-4a86-9437-d2dc5ca05684",
   "metadata": {},
   "outputs": [
    {
     "data": {
      "text/plain": [
       "[(1, 'One'), (2, 'Two'), (3, 'Three')]"
      ]
     },
     "execution_count": 39,
     "metadata": {},
     "output_type": "execute_result"
    }
   ],
   "source": [
    "list(Dic.items())"
   ]
  },
  {
   "cell_type": "code",
   "execution_count": 43,
   "id": "5baf9395-15d3-4641-add7-01bd9d4c1421",
   "metadata": {},
   "outputs": [
    {
     "data": {
      "text/plain": [
       "{'One', 'Three', 'Two'}"
      ]
     },
     "execution_count": 43,
     "metadata": {},
     "output_type": "execute_result"
    }
   ],
   "source": [
    "se = set(Dic.values())\n",
    "se"
   ]
  },
  {
   "cell_type": "code",
   "execution_count": 56,
   "id": "b96d41a1-37f9-44b1-b46b-7a3a5a25f0f7",
   "metadata": {},
   "outputs": [
    {
     "name": "stdout",
     "output_type": "stream",
     "text": [
      "{0, 1, 2, 3, 4, 5, 6, 67, 7, 69, 8, 9, 12, 87, 32, 34}\n",
      "{1, 2, 3, 4, 5, 6, 7}\n",
      "{32, 0, 34, 69, 8, 9, 12, 87}\n"
     ]
    }
   ],
   "source": [
    "v = {1,1,1,2,2,3,3,3,4,5,5,6,67,7,7}\n",
    "v1 = {1,12,1,32,2,2,4,4,6,69,4,4,3,3,2,4,8,9,0,8,87,6,5,4,3,2,12,34,5,6,6,7}\n",
    "print(v | v1)\n",
    "print(v & v1)\n",
    "print(v1 - v)"
   ]
  },
  {
   "cell_type": "code",
   "execution_count": 57,
   "id": "edc15159-f687-492e-90f0-0e94db8ddfd3",
   "metadata": {},
   "outputs": [
    {
     "name": "stdout",
     "output_type": "stream",
     "text": [
      "bytearray(b' \\x01\\x02\\x03\\x04E\\x06\\x00\\x08\\t\\x05\"\\x0c\\x07W')\n"
     ]
    }
   ],
   "source": [
    "print(bytearray(v1))"
   ]
  },
  {
   "cell_type": "code",
   "execution_count": 70,
   "id": "08c446de-6987-4f2a-95f5-ce8b9024f998",
   "metadata": {},
   "outputs": [
    {
     "name": "stdout",
     "output_type": "stream",
     "text": [
      "B 5\n",
      "A 3\n",
      "C 2\n"
     ]
    }
   ],
   "source": [
    "from collections import Counter\n",
    "   \n",
    "val = Counter(['B','B','A','B','C','A','B','B','A','C'])                  # This will tell the how many values in the list \n",
    "\n",
    "for i,j in val.items():\n",
    "    print(i,j)\n"
   ]
  },
  {
   "cell_type": "code",
   "execution_count": 68,
   "id": "ad979796-55c0-412d-9699-966e199b3f62",
   "metadata": {},
   "outputs": [
    {
     "data": {
      "text/plain": [
       "dict_items([('B', 5), ('A', 3), ('C', 2)])"
      ]
     },
     "execution_count": 68,
     "metadata": {},
     "output_type": "execute_result"
    }
   ],
   "source": [
    "val.items()"
   ]
  },
  {
   "cell_type": "code",
   "execution_count": 69,
   "id": "ac893e73-e9db-492d-85ea-bd7ba524a3dd",
   "metadata": {},
   "outputs": [
    {
     "data": {
      "text/plain": [
       "Counter({'B': 5, 'A': 3, 'C': 2})"
      ]
     },
     "execution_count": 69,
     "metadata": {},
     "output_type": "execute_result"
    }
   ],
   "source": [
    "val"
   ]
  },
  {
   "cell_type": "code",
   "execution_count": 71,
   "id": "a0bc5986-ae77-401d-b60e-095ed79c012f",
   "metadata": {},
   "outputs": [
    {
     "name": "stdout",
     "output_type": "stream",
     "text": [
      "hello 3\n"
     ]
    }
   ],
   "source": [
    "li = [1,2,3]\n",
    "print(\"hello\",li[2])"
   ]
  },
  {
   "cell_type": "code",
   "execution_count": 77,
   "id": "35fff937-caeb-48e9-85b1-8b4d46dbf922",
   "metadata": {},
   "outputs": [
    {
     "name": "stdout",
     "output_type": "stream",
     "text": [
      "<class 'NoneType'>\n"
     ]
    }
   ],
   "source": [
    "t = type(None)\n",
    "print(t)"
   ]
  },
  {
   "cell_type": "markdown",
   "id": "1002f90e-1cf5-4bb1-ac2a-e34b04de53a5",
   "metadata": {},
   "source": [
    "#  Ternary Operator "
   ]
  },
  {
   "cell_type": "code",
   "execution_count": 80,
   "id": "dfb935f4-2857-42c8-a38b-6dd3d8f84b3e",
   "metadata": {},
   "outputs": [
    {
     "data": {
      "text/plain": [
       "20"
      ]
     },
     "execution_count": 80,
     "metadata": {},
     "output_type": "execute_result"
    }
   ],
   "source": [
    "a = 20\n",
    "b = 30\n",
    "val = a if a < b else b\n",
    "val"
   ]
  },
  {
   "cell_type": "code",
   "execution_count": 9,
   "id": "f8afe4f8-e330-4eb5-98d7-37f5f9396e8f",
   "metadata": {},
   "outputs": [
    {
     "data": {
      "text/plain": [
       "{1: 'four', 2: 'Two', 3: 'Three', 'four': 2}"
      ]
     },
     "execution_count": 9,
     "metadata": {},
     "output_type": "execute_result"
    }
   ],
   "source": [
    "Dic"
   ]
  },
  {
   "cell_type": "code",
   "execution_count": 4,
   "id": "80c3a903-60df-4f90-8d3f-2b7eefa248a3",
   "metadata": {},
   "outputs": [],
   "source": [
    "Dic[1] = \"four\""
   ]
  },
  {
   "cell_type": "code",
   "execution_count": 47,
   "id": "8e4ddd1b-b5a5-467c-a416-9b80e2b01062",
   "metadata": {},
   "outputs": [
    {
     "data": {
      "text/plain": [
       "{2: 'Two', 3: 'Three'}"
      ]
     },
     "execution_count": 47,
     "metadata": {},
     "output_type": "execute_result"
    }
   ],
   "source": [
    "Dic"
   ]
  },
  {
   "cell_type": "code",
   "execution_count": 59,
   "id": "67ac5123-feb7-4648-bca2-5f79f2767634",
   "metadata": {},
   "outputs": [],
   "source": [
    "Dic = {\n",
    "    1:\"One\",\n",
    "    2:\"Two\",\n",
    "    3:\"Three\"\n",
    "}"
   ]
  },
  {
   "cell_type": "code",
   "execution_count": 60,
   "id": "24364f90-5ed7-4226-96e8-998e87d8c096",
   "metadata": {},
   "outputs": [],
   "source": [
    "dic = Dic "
   ]
  },
  {
   "cell_type": "markdown",
   "id": "7aa12905-9d25-405d-8617-18b846e8478c",
   "metadata": {},
   "source": [
    "# updating the keys"
   ]
  },
  {
   "cell_type": "code",
   "execution_count": 61,
   "id": "b46c4055-7775-46c7-8577-faed1cfaf057",
   "metadata": {},
   "outputs": [],
   "source": [
    "dic = {69:dic.pop(1),**dic}            #      ** means unpacking the dic"
   ]
  },
  {
   "cell_type": "code",
   "execution_count": 62,
   "id": "4a19bd9c-163e-41fa-bc8d-6ce19bf588b1",
   "metadata": {},
   "outputs": [
    {
     "data": {
      "text/plain": [
       "{69: 'One', 2: 'Two', 3: 'Three'}"
      ]
     },
     "execution_count": 62,
     "metadata": {},
     "output_type": "execute_result"
    }
   ],
   "source": [
    "dic"
   ]
  },
  {
   "cell_type": "code",
   "execution_count": 64,
   "id": "150c6d82-d7a7-4768-b0b8-d30794c6674f",
   "metadata": {},
   "outputs": [
    {
     "data": {
      "text/plain": [
       "{1, 2, 3, 4, 5, 9}"
      ]
     },
     "execution_count": 64,
     "metadata": {},
     "output_type": "execute_result"
    }
   ],
   "source": [
    "a = {1,2,3,4,5}\n",
    "a.add(9)\n",
    "a"
   ]
  },
  {
   "cell_type": "markdown",
   "id": "1eb4f616-3dae-45cf-8dc8-e5026c001e6a",
   "metadata": {},
   "source": [
    "# Frozenset"
   ]
  },
  {
   "cell_type": "code",
   "execution_count": 68,
   "id": "45c7c3f0-cd3e-4e95-8566-10021d9c6f4e",
   "metadata": {},
   "outputs": [
    {
     "name": "stdout",
     "output_type": "stream",
     "text": [
      "Normal Set\n",
      "{'a', 'b', 'c'}\n",
      "\n",
      "Frozen Set\n"
     ]
    },
    {
     "ename": "AttributeError",
     "evalue": "'frozenset' object has no attribute 'add'",
     "output_type": "error",
     "traceback": [
      "\u001b[1;31m---------------------------------------------------------------------------\u001b[0m",
      "\u001b[1;31mAttributeError\u001b[0m                            Traceback (most recent call last)",
      "Cell \u001b[1;32mIn[68], line 10\u001b[0m\n\u001b[0;32m      7\u001b[0m fs \u001b[38;5;241m=\u001b[39m \u001b[38;5;28mfrozenset\u001b[39m([\u001b[38;5;124m\"\u001b[39m\u001b[38;5;124me\u001b[39m\u001b[38;5;124m\"\u001b[39m, \u001b[38;5;124m\"\u001b[39m\u001b[38;5;124mf\u001b[39m\u001b[38;5;124m\"\u001b[39m, \u001b[38;5;124m\"\u001b[39m\u001b[38;5;124mg\u001b[39m\u001b[38;5;124m\"\u001b[39m])\n\u001b[0;32m      9\u001b[0m \u001b[38;5;28mprint\u001b[39m(\u001b[38;5;124m\"\u001b[39m\u001b[38;5;130;01m\\n\u001b[39;00m\u001b[38;5;124mFrozen Set\u001b[39m\u001b[38;5;124m\"\u001b[39m)\n\u001b[1;32m---> 10\u001b[0m \u001b[38;5;28mprint\u001b[39m(fs\u001b[38;5;241m.\u001b[39madd(\u001b[38;5;241m5\u001b[39m))\n",
      "\u001b[1;31mAttributeError\u001b[0m: 'frozenset' object has no attribute 'add'"
     ]
    }
   ],
   "source": [
    "s = set([\"a\", \"b\",\"c\"])\n",
    "\n",
    "print(\"Normal Set\")\n",
    "print(s)\n",
    "\n",
    "# A frozen set we cannot mutate the set\n",
    "fs = frozenset([\"e\", \"f\", \"g\"])\n",
    "\n",
    "print(\"\\nFrozen Set\")\n",
    "print(fs.add(5))"
   ]
  },
  {
   "cell_type": "code",
   "execution_count": 72,
   "id": "2018d9f2-0a0f-41f2-8762-6b17e4d7a5bf",
   "metadata": {},
   "outputs": [
    {
     "name": "stdout",
     "output_type": "stream",
     "text": [
      "{1, 2, 3, 4, 5, 7, 8, 9}\n",
      "{2, 3, 4}\n",
      "{1, 5}\n"
     ]
    }
   ],
   "source": [
    "a = {1,2,3,4,5}\n",
    "b = {2,3,4,7,8,9}\n",
    "print(a.union(b))\n",
    "print(a.intersection(b))\n",
    "print(a - b)\n"
   ]
  },
  {
   "cell_type": "code",
   "execution_count": 81,
   "id": "7ebdefcf-adcb-48ba-ac8f-008e8a4b0b56",
   "metadata": {},
   "outputs": [
    {
     "name": "stdout",
     "output_type": "stream",
     "text": [
      "1 \n",
      "2 2 \n",
      "3 3 3 \n",
      "4 4 4 4 \n"
     ]
    }
   ],
   "source": [
    "for i in range(1, 5):\n",
    "    for j in range(i):\n",
    "        print(i, end=' ')\n",
    "    print()"
   ]
  },
  {
   "cell_type": "code",
   "execution_count": 100,
   "id": "b461a9d4-2dc2-42a6-b39d-d4457a472865",
   "metadata": {},
   "outputs": [
    {
     "name": "stdout",
     "output_type": "stream",
     "text": [
      "True\n",
      "True\n"
     ]
    },
    {
     "data": {
      "text/plain": [
       "'heglo'"
      ]
     },
     "execution_count": 100,
     "metadata": {},
     "output_type": "execute_result"
    }
   ],
   "source": [
    "a = \"hello\"\n",
    "print(\"e\" in a)\n",
    "print(\"g\" not in a)\n",
    "a = list(a)\n",
    "a[2] = \"g\"\n",
    "\"\".join(a)"
   ]
  },
  {
   "cell_type": "code",
   "execution_count": 103,
   "id": "afd27fe0-99bf-4041-ade6-c97c00fda7e1",
   "metadata": {},
   "outputs": [
    {
     "name": "stdout",
     "output_type": "stream",
     "text": [
      "True\n",
      "False\n"
     ]
    }
   ],
   "source": [
    "print(bool(\"Hello\"))\n",
    "print(bool())"
   ]
  },
  {
   "cell_type": "markdown",
   "id": "d39c0dfe-8de2-46af-84a8-dc667ce9b1cc",
   "metadata": {},
   "source": [
    "# Lambda"
   ]
  },
  {
   "cell_type": "code",
   "execution_count": 104,
   "id": "52a85e3c-273e-4eb7-9046-c330a00313a9",
   "metadata": {},
   "outputs": [
    {
     "data": {
      "text/plain": [
       "5"
      ]
     },
     "execution_count": 104,
     "metadata": {},
     "output_type": "execute_result"
    }
   ],
   "source": [
    "a = lambda b: b+2\n",
    "a(b = 3)"
   ]
  },
  {
   "cell_type": "code",
   "execution_count": 106,
   "id": "b2f24626-2c78-4203-81a1-a56ed75f2587",
   "metadata": {},
   "outputs": [
    {
     "data": {
      "text/plain": [
       "18"
      ]
     },
     "execution_count": 106,
     "metadata": {},
     "output_type": "execute_result"
    }
   ],
   "source": [
    "val = lambda a,b,c: a+b-c\n",
    "val(1,20,3)"
   ]
  },
  {
   "cell_type": "code",
   "execution_count": 107,
   "id": "9731b553-d2a7-4175-a37e-ae2ab041c7e0",
   "metadata": {},
   "outputs": [
    {
     "data": {
      "text/plain": [
       "50"
      ]
     },
     "execution_count": 107,
     "metadata": {},
     "output_type": "execute_result"
    }
   ],
   "source": [
    "def fun(n):\n",
    "    return lambda x: x + n\n",
    "val = fun(5)\n",
    "val(45)"
   ]
  },
  {
   "cell_type": "code",
   "execution_count": 4,
   "id": "ac480aca-c2a3-408d-9a3d-e088a621236b",
   "metadata": {},
   "outputs": [
    {
     "name": "stdout",
     "output_type": "stream",
     "text": [
      "Found 3, exiting loop.\n"
     ]
    }
   ],
   "source": [
    "numbers = [1, 2, 3, 4, 5]\n",
    "\n",
    "for number in numbers:\n",
    "    if number == 3:\n",
    "        print(\"Found 3, exiting loop.\")\n",
    "        break\n",
    "else:\n",
    "    print(\"3 not found in the list.\")\n"
   ]
  },
  {
   "cell_type": "code",
   "execution_count": 6,
   "id": "64ed4d80-8fbf-4a7e-9e8a-e551003454d1",
   "metadata": {},
   "outputs": [
    {
     "name": "stdout",
     "output_type": "stream",
     "text": [
      "Count: 0\n",
      "Count: 1\n",
      "Count: 2\n",
      "Count: 3\n",
      "Reached 3, exiting the loop.\n",
      "Loop has exited.\n"
     ]
    }
   ],
   "source": [
    "count = 0\n",
    "\n",
    "while count < 5:\n",
    "    print(f\"Count: {count}\")\n",
    "    if count == 3:\n",
    "        print(\"Reached 3, exiting the loop.\")\n",
    "        break\n",
    "    count += 1\n",
    "else:\n",
    "    print(\"Count reached 5, loop completed without break.\")\n",
    "\n",
    "print(\"Loop has exited.\")\n"
   ]
  },
  {
   "cell_type": "code",
   "execution_count": 8,
   "id": "2d268954-c3df-4acc-af3c-96e2c584c650",
   "metadata": {},
   "outputs": [
    {
     "data": {
      "text/plain": [
       "['not in list', 'not in list', 3, 'not in list', 'not in list', 'not in list']"
      ]
     },
     "execution_count": 8,
     "metadata": {},
     "output_type": "execute_result"
    }
   ],
   "source": [
    "a = [1,2,3,4,5,6]\n",
    "li = [ i if i == 3 else \"not in list\" for i in a]\n",
    "li"
   ]
  },
  {
   "cell_type": "code",
   "execution_count": 12,
   "id": "fcfac3a7-4563-4be5-8969-f1fdd3c48b0f",
   "metadata": {},
   "outputs": [
    {
     "data": {
      "text/plain": [
       "40"
      ]
     },
     "execution_count": 12,
     "metadata": {},
     "output_type": "execute_result"
    }
   ],
   "source": [
    "\n",
    "def fun(n):\n",
    "    return lambda x: x - n\n",
    "val = fun(5)\n",
    "val(45)\n",
    "\n"
   ]
  },
  {
   "cell_type": "code",
   "execution_count": 11,
   "id": "5d491e93-193a-4a98-b3dc-8d37445a929d",
   "metadata": {},
   "outputs": [
    {
     "data": {
      "text/plain": [
       "7"
      ]
     },
     "execution_count": 11,
     "metadata": {},
     "output_type": "execute_result"
    }
   ],
   "source": [
    "res = lambda x: x + 2\n",
    "res(5)"
   ]
  },
  {
   "cell_type": "code",
   "execution_count": null,
   "id": "493ba68f-5100-4fc4-8f04-60a4b8cad963",
   "metadata": {},
   "outputs": [],
   "source": [
    "x = 300\n",
    "\n",
    "def myfunc():\n",
    "    global x\n",
    "    return x\n",
    "def my():\n",
    "    c = myfunc()\n",
    "    print(c)\n",
    "    return c * 2\n",
    "my()\n"
   ]
  },
  {
   "cell_type": "code",
   "execution_count": 17,
   "id": "a8b228d0-a2a4-40e8-b912-fe69bfd08594",
   "metadata": {},
   "outputs": [
    {
     "name": "stdout",
     "output_type": "stream",
     "text": [
      "Sorry ! You are dividing by zero \n"
     ]
    }
   ],
   "source": [
    "def divide(x, y): \n",
    "    try: \n",
    "        # Floor Division : Gives only Fractional\n",
    "        # Part as Answer \n",
    "        result = x // y \n",
    "    except ZeroDivisionError: \n",
    "        print(\"Sorry ! You are dividing by zero \") \n",
    "    else:\n",
    "        print(\"Yeah ! Your answer is :\", result) \n",
    "divide(1,0)"
   ]
  },
  {
   "cell_type": "code",
   "execution_count": 6,
   "id": "84072ef8-4dbf-444c-8d00-274c61730dad",
   "metadata": {},
   "outputs": [
    {
     "name": "stdin",
     "output_type": "stream",
     "text": [
      "Enter the 1 4\n",
      "Enter the 2 2\n"
     ]
    },
    {
     "name": "stdout",
     "output_type": "stream",
     "text": [
      "Yeah ! Your answer is : 2\n"
     ]
    }
   ],
   "source": [
    "def divide():\n",
    "    while True:\n",
    "            try:  \n",
    "                x = int(input(\"Enter the 1\"))\n",
    "                y = int(input(\"Enter the 2\"))\n",
    "                result = x // y \n",
    "            except ZeroDivisionError: \n",
    "                print(\"Sorry ! You are dividing by zero \")\n",
    "            else:\n",
    "                print(\"Yeah ! Your answer is :\", result)\n",
    "                break\n",
    "divide()"
   ]
  },
  {
   "cell_type": "code",
   "execution_count": 14,
   "id": "69817b21-e03c-414f-ac4f-0ca64fa3970e",
   "metadata": {},
   "outputs": [
    {
     "name": "stdout",
     "output_type": "stream",
     "text": [
      "Hello this file where the python want to access \n"
     ]
    }
   ],
   "source": [
    "file = open(\"sample.txt\",\"r\")\n",
    "con = file.read()\n",
    "print(con)"
   ]
  },
  {
   "cell_type": "code",
   "execution_count": 18,
   "id": "8329b784-6f36-4c67-9f80-5460c101a9ed",
   "metadata": {},
   "outputs": [
    {
     "name": "stdout",
     "output_type": "stream",
     "text": [
      "27\n"
     ]
    }
   ],
   "source": [
    "file = open(\"sample2.txt\",\"w\")\n",
    "con = file.write(\"hello this new created file\")\n",
    "print(con)      # returns the len of the string in the file\n",
    "file.close()"
   ]
  },
  {
   "cell_type": "code",
   "execution_count": 17,
   "id": "eafa8a99-6ca9-4ee1-8ac8-b2f1a0ac967f",
   "metadata": {},
   "outputs": [
    {
     "name": "stdout",
     "output_type": "stream",
     "text": [
      "hello this new created file\n"
     ]
    }
   ],
   "source": [
    "file = open(\"sample2.txt\",\"r\")\n",
    "con = file.read()\n",
    "print(con)\n",
    "file.close()     # need to close the file because there will occur some corrupt of the daata "
   ]
  },
  {
   "cell_type": "code",
   "execution_count": 19,
   "id": "be35e575-541a-4657-a2d2-bd72a6251b34",
   "metadata": {},
   "outputs": [
    {
     "name": "stdout",
     "output_type": "stream",
     "text": [
      "['C:\\\\Users\\\\HP\\\\Data Aces\\\\Python', 'C:\\\\Users\\\\HP\\\\anaconda3\\\\python312.zip', 'C:\\\\Users\\\\HP\\\\anaconda3\\\\DLLs', 'C:\\\\Users\\\\HP\\\\anaconda3\\\\Lib', 'C:\\\\Users\\\\HP\\\\anaconda3', '', 'C:\\\\Users\\\\HP\\\\anaconda3\\\\Lib\\\\site-packages', 'C:\\\\Users\\\\HP\\\\anaconda3\\\\Lib\\\\site-packages\\\\win32', 'C:\\\\Users\\\\HP\\\\anaconda3\\\\Lib\\\\site-packages\\\\win32\\\\lib', 'C:\\\\Users\\\\HP\\\\anaconda3\\\\Lib\\\\site-packages\\\\Pythonwin']\n"
     ]
    }
   ],
   "source": [
    "import sys\n",
    "print(sys.path)"
   ]
  },
  {
   "cell_type": "code",
   "execution_count": 29,
   "id": "ae7e38be-60ae-4e3a-90ee-167698de49e2",
   "metadata": {},
   "outputs": [
    {
     "data": {
      "text/plain": [
       "['conf',\n",
       " 'sphinxify',\n",
       " 'sphinxthread',\n",
       " '_asyncio',\n",
       " '_bz2',\n",
       " '_ctypes',\n",
       " '_ctypes_test',\n",
       " '_decimal',\n",
       " '_elementtree',\n",
       " '_hashlib',\n",
       " '_lzma',\n",
       " '_msi',\n",
       " '_multiprocessing',\n",
       " '_overlapped',\n",
       " '_queue',\n",
       " '_socket',\n",
       " '_sqlite3',\n",
       " '_ssl',\n",
       " '_testbuffer',\n",
       " '_testcapi',\n",
       " '_testclinic',\n",
       " '_testconsole',\n",
       " '_testimportmultiple',\n",
       " '_testinternalcapi',\n",
       " '_testmultiphase',\n",
       " '_testsinglephase',\n",
       " '_tkinter',\n",
       " '_uuid',\n",
       " '_wmi',\n",
       " '_zoneinfo',\n",
       " 'pyexpat',\n",
       " 'select',\n",
       " 'unicodedata',\n",
       " 'winsound',\n",
       " 'xxlimited',\n",
       " 'xxlimited_35',\n",
       " '__future__',\n",
       " '__hello__',\n",
       " '__phello__',\n",
       " '_aix_support',\n",
       " '_collections_abc',\n",
       " '_compat_pickle',\n",
       " '_compression',\n",
       " '_markupbase',\n",
       " '_nsis',\n",
       " '_osx_support',\n",
       " '_py_abc',\n",
       " '_pydatetime',\n",
       " '_pydecimal',\n",
       " '_pyio',\n",
       " '_pylong',\n",
       " '_sitebuiltins',\n",
       " '_strptime',\n",
       " '_system_path',\n",
       " '_threading_local',\n",
       " '_weakrefset',\n",
       " 'abc',\n",
       " 'aifc',\n",
       " 'antigravity',\n",
       " 'argparse',\n",
       " 'ast',\n",
       " 'asyncio',\n",
       " 'base64',\n",
       " 'bdb',\n",
       " 'bisect',\n",
       " 'bz2',\n",
       " 'cProfile',\n",
       " 'calendar',\n",
       " 'cgi',\n",
       " 'cgitb',\n",
       " 'chunk',\n",
       " 'cmd',\n",
       " 'code',\n",
       " 'codecs',\n",
       " 'codeop',\n",
       " 'collections',\n",
       " 'colorsys',\n",
       " 'compileall',\n",
       " 'concurrent',\n",
       " 'configparser',\n",
       " 'contextlib',\n",
       " 'contextvars',\n",
       " 'copy',\n",
       " 'copyreg',\n",
       " 'crypt',\n",
       " 'csv',\n",
       " 'ctypes',\n",
       " 'curses',\n",
       " 'dataclasses',\n",
       " 'datetime',\n",
       " 'dbm',\n",
       " 'decimal',\n",
       " 'difflib',\n",
       " 'dis',\n",
       " 'doctest',\n",
       " 'email',\n",
       " 'encodings',\n",
       " 'ensurepip',\n",
       " 'enum',\n",
       " 'filecmp',\n",
       " 'fileinput',\n",
       " 'fnmatch',\n",
       " 'fractions',\n",
       " 'ftplib',\n",
       " 'functools',\n",
       " 'genericpath',\n",
       " 'getopt',\n",
       " 'getpass',\n",
       " 'gettext',\n",
       " 'glob',\n",
       " 'graphlib',\n",
       " 'gzip',\n",
       " 'hashlib',\n",
       " 'heapq',\n",
       " 'hmac',\n",
       " 'html',\n",
       " 'http',\n",
       " 'idlelib',\n",
       " 'imaplib',\n",
       " 'imghdr',\n",
       " 'importlib',\n",
       " 'inspect',\n",
       " 'io',\n",
       " 'ipaddress',\n",
       " 'json',\n",
       " 'keyword',\n",
       " 'lib2to3',\n",
       " 'linecache',\n",
       " 'locale',\n",
       " 'logging',\n",
       " 'lzma',\n",
       " 'mailbox',\n",
       " 'mailcap',\n",
       " 'mimetypes',\n",
       " 'modulefinder',\n",
       " 'msilib',\n",
       " 'multiprocessing',\n",
       " 'netrc',\n",
       " 'nntplib',\n",
       " 'ntpath',\n",
       " 'nturl2path',\n",
       " 'numbers',\n",
       " 'opcode',\n",
       " 'operator',\n",
       " 'optparse',\n",
       " 'os',\n",
       " 'pathlib',\n",
       " 'pdb',\n",
       " 'pickle',\n",
       " 'pickletools',\n",
       " 'pipes',\n",
       " 'pkgutil',\n",
       " 'platform',\n",
       " 'plistlib',\n",
       " 'poplib',\n",
       " 'posixpath',\n",
       " 'pprint',\n",
       " 'profile',\n",
       " 'pstats',\n",
       " 'pty',\n",
       " 'py_compile',\n",
       " 'pyclbr',\n",
       " 'pydoc',\n",
       " 'pydoc_data',\n",
       " 'queue',\n",
       " 'quopri',\n",
       " 'random',\n",
       " 're',\n",
       " 'reprlib',\n",
       " 'rlcompleter',\n",
       " 'runpy',\n",
       " 'sched',\n",
       " 'secrets',\n",
       " 'selectors',\n",
       " 'shelve',\n",
       " 'shlex',\n",
       " 'shutil',\n",
       " 'signal',\n",
       " 'site',\n",
       " 'smtplib',\n",
       " 'sndhdr',\n",
       " 'socket',\n",
       " 'socketserver',\n",
       " 'sqlite3',\n",
       " 'sre_compile',\n",
       " 'sre_constants',\n",
       " 'sre_parse',\n",
       " 'ssl',\n",
       " 'stat',\n",
       " 'statistics',\n",
       " 'string',\n",
       " 'stringprep',\n",
       " 'struct',\n",
       " 'subprocess',\n",
       " 'sunau',\n",
       " 'symtable',\n",
       " 'sysconfig',\n",
       " 'tabnanny',\n",
       " 'tarfile',\n",
       " 'telnetlib',\n",
       " 'tempfile',\n",
       " 'test',\n",
       " 'textwrap',\n",
       " 'this',\n",
       " 'threading',\n",
       " 'timeit',\n",
       " 'tkinter',\n",
       " 'token',\n",
       " 'tokenize',\n",
       " 'tomllib',\n",
       " 'trace',\n",
       " 'traceback',\n",
       " 'tracemalloc',\n",
       " 'tty',\n",
       " 'turtle',\n",
       " 'turtledemo',\n",
       " 'types',\n",
       " 'typing',\n",
       " 'unittest',\n",
       " 'urllib',\n",
       " 'uu',\n",
       " 'uuid',\n",
       " 'venv',\n",
       " 'warnings',\n",
       " 'wave',\n",
       " 'weakref',\n",
       " 'webbrowser',\n",
       " 'wsgiref',\n",
       " 'xdrlib',\n",
       " 'xml',\n",
       " 'xmlrpc',\n",
       " 'zipapp',\n",
       " 'zipfile',\n",
       " 'zipimport',\n",
       " 'zoneinfo',\n",
       " 'cwp',\n",
       " '7f0197f6d050da244d93__mypyc',\n",
       " 'Cython',\n",
       " 'IPython',\n",
       " 'Levenshtein',\n",
       " 'OpenSSL',\n",
       " 'PIL',\n",
       " 'PyQt5',\n",
       " '_argon2_cffi_bindings',\n",
       " '_black_version',\n",
       " '_brotli',\n",
       " '_cffi_backend',\n",
       " '_distutils_hack',\n",
       " '_plotly_future_',\n",
       " '_plotly_utils',\n",
       " '_pytest',\n",
       " '_yaml',\n",
       " 'absl',\n",
       " 'adodbapi',\n",
       " 'aiobotocore',\n",
       " 'aiohttp',\n",
       " 'aioitertools',\n",
       " 'aiosignal',\n",
       " 'alabaster',\n",
       " 'altair',\n",
       " 'anaconda_anon_usage',\n",
       " 'anaconda_catalogs',\n",
       " 'anaconda_cloud_auth',\n",
       " 'anaconda_navigator',\n",
       " 'anaconda_project',\n",
       " 'annotated_types',\n",
       " 'anyio',\n",
       " 'appdirs',\n",
       " 'archspec',\n",
       " 'argon2',\n",
       " 'arrow',\n",
       " 'astroid',\n",
       " 'astropy',\n",
       " 'astropy_iers_data',\n",
       " 'asttokens',\n",
       " 'astunparse',\n",
       " 'async_lru',\n",
       " 'atomicwrites',\n",
       " 'attr',\n",
       " 'attrs',\n",
       " 'automat',\n",
       " 'autopep8',\n",
       " 'babel',\n",
       " 'bcrypt',\n",
       " 'binaryornot',\n",
       " 'binstar_client',\n",
       " 'black',\n",
       " 'blackd',\n",
       " 'bleach',\n",
       " 'blib2to3',\n",
       " 'blinker',\n",
       " 'blis',\n",
       " 'bokeh',\n",
       " 'boltons',\n",
       " 'botocore',\n",
       " 'bottleneck',\n",
       " 'brotli',\n",
       " 'bs4',\n",
       " 'cachetools',\n",
       " 'catalogue',\n",
       " 'certifi',\n",
       " 'cffi',\n",
       " 'chardet',\n",
       " 'charset_normalizer',\n",
       " 'clang',\n",
       " 'click',\n",
       " 'cloudpathlib',\n",
       " 'cloudpickle',\n",
       " 'colorama',\n",
       " 'colorcet',\n",
       " 'comm',\n",
       " 'conda',\n",
       " 'conda_build',\n",
       " 'conda_content_trust',\n",
       " 'conda_env',\n",
       " 'conda_index',\n",
       " 'conda_libmamba_solver',\n",
       " 'conda_pack',\n",
       " 'conda_package_handling',\n",
       " 'conda_package_streaming',\n",
       " 'conda_token',\n",
       " 'confection',\n",
       " 'constantly',\n",
       " 'contourpy',\n",
       " 'cookiecutter',\n",
       " 'cpuinfo',\n",
       " 'cryptography',\n",
       " 'cssselect',\n",
       " 'curl',\n",
       " 'cycler',\n",
       " 'cymem',\n",
       " 'cython',\n",
       " 'cytoolz',\n",
       " 'dask',\n",
       " 'dask_expr',\n",
       " 'datashader',\n",
       " 'dateutil',\n",
       " 'debugpy',\n",
       " 'decorator',\n",
       " 'defusedxml',\n",
       " 'diff_match_patch',\n",
       " 'dill',\n",
       " 'distributed',\n",
       " 'distro',\n",
       " 'docstring_to_markdown',\n",
       " 'docutils',\n",
       " 'dotenv',\n",
       " 'en_core_web_sm',\n",
       " 'entrypoints',\n",
       " 'erfa',\n",
       " 'et_xmlfile',\n",
       " 'executing',\n",
       " 'fastjsonschema',\n",
       " 'filelock',\n",
       " 'flake8',\n",
       " 'flask',\n",
       " 'flatbuffers',\n",
       " 'fontTools',\n",
       " 'frozendict',\n",
       " 'frozenlist',\n",
       " 'fsspec',\n",
       " 'gast',\n",
       " 'gensim',\n",
       " 'git',\n",
       " 'gitdb',\n",
       " 'greenlet',\n",
       " 'grpc',\n",
       " 'h11',\n",
       " 'h5py',\n",
       " 'heapdict',\n",
       " 'holoviews',\n",
       " 'html5lib',\n",
       " 'huggingface_hub',\n",
       " 'hvplot',\n",
       " 'hyperlink',\n",
       " 'idna',\n",
       " 'imagecodecs',\n",
       " 'imageio',\n",
       " 'imagesize',\n",
       " 'imblearn',\n",
       " 'importlib_metadata',\n",
       " 'incremental',\n",
       " 'inflection',\n",
       " 'iniconfig',\n",
       " 'intake',\n",
       " 'intervaltree',\n",
       " 'ipykernel',\n",
       " 'ipykernel_launcher',\n",
       " 'ipython_genutils',\n",
       " 'ipywidgets',\n",
       " 'isapi',\n",
       " 'isort',\n",
       " 'isympy',\n",
       " 'itemadapter',\n",
       " 'itemloaders',\n",
       " 'itsdangerous',\n",
       " 'jedi',\n",
       " 'jellyfish',\n",
       " 'jinja2',\n",
       " 'jmespath',\n",
       " 'joblib',\n",
       " 'json5',\n",
       " 'jsonpatch',\n",
       " 'jsonpointer',\n",
       " 'jsonschema',\n",
       " 'jsonschema_specifications',\n",
       " 'jupyter',\n",
       " 'jupyter_client',\n",
       " 'jupyter_console',\n",
       " 'jupyter_core',\n",
       " 'jupyter_events',\n",
       " 'jupyter_lsp',\n",
       " 'jupyter_server',\n",
       " 'jupyter_server_terminals',\n",
       " 'jupyterlab',\n",
       " 'jupyterlab_plotly',\n",
       " 'jupyterlab_pygments',\n",
       " 'jupyterlab_server',\n",
       " 'jupyterlab_widgets',\n",
       " 'jwt',\n",
       " 'keras',\n",
       " 'keyring',\n",
       " 'kiwisolver',\n",
       " 'langcodes',\n",
       " 'language_data',\n",
       " 'lazy_loader',\n",
       " 'lazy_object_proxy',\n",
       " 'lckr_jupyterlab_variableinspector',\n",
       " 'libarchive',\n",
       " 'libmambapy',\n",
       " 'lief',\n",
       " 'lightgbm',\n",
       " 'linkify_it',\n",
       " 'llvmlite',\n",
       " 'lmdb',\n",
       " 'locket',\n",
       " 'lxml',\n",
       " 'lz4',\n",
       " 'marisa_trie',\n",
       " 'markdown',\n",
       " 'markdown_it',\n",
       " 'markupsafe',\n",
       " 'matplotlib',\n",
       " 'matplotlib_inline',\n",
       " 'mccabe',\n",
       " 'mdit_py_plugins',\n",
       " 'mdurl',\n",
       " 'menuinst',\n",
       " 'mistune',\n",
       " 'mkl',\n",
       " 'mkl_fft',\n",
       " 'ml_dtypes',\n",
       " 'more_itertools',\n",
       " 'mpmath',\n",
       " 'msgpack',\n",
       " 'multidict',\n",
       " 'multipledispatch',\n",
       " 'murmurhash',\n",
       " 'mypy',\n",
       " 'mypy_extensions',\n",
       " 'mypyc',\n",
       " 'nacl',\n",
       " 'namex',\n",
       " 'navigator_updater',\n",
       " 'nbclient',\n",
       " 'nbconvert',\n",
       " 'nbformat',\n",
       " 'nest_asyncio',\n",
       " 'networkx',\n",
       " 'nltk',\n",
       " 'notebook',\n",
       " 'notebook_shim',\n",
       " 'numba',\n",
       " 'numbergen',\n",
       " 'numexpr',\n",
       " 'numpy',\n",
       " 'numpydoc',\n",
       " 'openpyxl',\n",
       " 'opt_einsum',\n",
       " 'optree',\n",
       " 'outcome',\n",
       " 'overrides',\n",
       " 'packaging',\n",
       " 'pandas',\n",
       " 'pandocfilters',\n",
       " 'panel',\n",
       " 'param',\n",
       " 'paramiko',\n",
       " 'parsel',\n",
       " 'parso',\n",
       " 'partd',\n",
       " 'pasta',\n",
       " 'pathspec',\n",
       " 'patsy',\n",
       " 'pexpect',\n",
       " 'pickleshare',\n",
       " 'pip',\n",
       " 'pkce',\n",
       " 'pkg_resources',\n",
       " 'pkginfo',\n",
       " 'platformdirs',\n",
       " 'plotly',\n",
       " 'pluggy',\n",
       " 'ply',\n",
       " 'preshed',\n",
       " 'prometheus_client',\n",
       " 'prompt_toolkit',\n",
       " 'protego',\n",
       " 'psutil',\n",
       " 'ptyprocess',\n",
       " 'pure_eval',\n",
       " 'py',\n",
       " 'pyarrow',\n",
       " 'pyasn1',\n",
       " 'pyasn1_modules',\n",
       " 'pycodestyle',\n",
       " 'pycosat',\n",
       " 'pycparser',\n",
       " 'pyct',\n",
       " 'pycurl',\n",
       " 'pydantic',\n",
       " 'pydantic_core',\n",
       " 'pydeck',\n",
       " 'pydispatch',\n",
       " 'pydocstyle',\n",
       " 'pyflakes',\n",
       " 'pygments',\n",
       " 'pylab',\n",
       " 'pylint',\n",
       " 'pylint_venv',\n",
       " 'pyls_spyder',\n",
       " 'pylsp',\n",
       " 'pylsp_black',\n",
       " 'pylsp_jsonrpc',\n",
       " 'pyodbc',\n",
       " 'pyparsing',\n",
       " 'pytest',\n",
       " 'pythoncom',\n",
       " 'pythonjsonlogger',\n",
       " 'pytoolconfig',\n",
       " 'pytz',\n",
       " 'pyviz_comms',\n",
       " 'pywt',\n",
       " 'pyximport',\n",
       " 'qdarkstyle',\n",
       " 'qstylizer',\n",
       " 'qtawesome',\n",
       " 'qtconsole',\n",
       " 'qtpy',\n",
       " 'queuelib',\n",
       " 'rapidfuzz',\n",
       " 'referencing',\n",
       " 'regex',\n",
       " 'repo_cli',\n",
       " 'requests',\n",
       " 'requests_file',\n",
       " 'requests_toolbelt',\n",
       " 'rfc3339_validator',\n",
       " 'rfc3986_validator',\n",
       " 'rich',\n",
       " 'rope',\n",
       " 'rpds',\n",
       " 'rtree',\n",
       " 'ruamel_yaml',\n",
       " 's3fs',\n",
       " 'safetensors',\n",
       " 'scapy',\n",
       " 'scipy',\n",
       " 'scrapy',\n",
       " 'seaborn',\n",
       " 'selenium',\n",
       " 'semver',\n",
       " 'send2trash',\n",
       " 'service_identity',\n",
       " 'setuptools',\n",
       " 'shellingham',\n",
       " 'sipbuild',\n",
       " 'six',\n",
       " 'skimage',\n",
       " 'sklearn',\n",
       " 'slugify',\n",
       " 'smart_open',\n",
       " 'smmap',\n",
       " 'snappy',\n",
       " 'sniffio',\n",
       " 'snowballstemmer',\n",
       " 'socks',\n",
       " 'sockshandler',\n",
       " 'sortedcontainers',\n",
       " 'soupsieve',\n",
       " 'spacy',\n",
       " 'spacy_legacy',\n",
       " 'spacy_loggers',\n",
       " 'sphinx',\n",
       " 'spyder',\n",
       " 'spyder_kernels',\n",
       " 'sqlalchemy',\n",
       " 'srsly',\n",
       " 'stack_data',\n",
       " 'statsmodels',\n",
       " 'streamlit',\n",
       " 'sympy',\n",
       " 'tables',\n",
       " 'tabulate',\n",
       " 'tblib',\n",
       " 'tenacity',\n",
       " 'tensorboard',\n",
       " 'tensorboard_data_server',\n",
       " 'tensorflow',\n",
       " 'termcolor',\n",
       " 'terminado',\n",
       " 'test_pycosat',\n",
       " 'text_unidecode',\n",
       " 'textdistance',\n",
       " 'tf_keras',\n",
       " 'thinc',\n",
       " 'threadpoolctl',\n",
       " 'three_merge',\n",
       " 'tifffile',\n",
       " 'tinycss2',\n",
       " 'tldextract',\n",
       " 'tlz',\n",
       " 'tokenizers',\n",
       " 'toml',\n",
       " 'tomli',\n",
       " 'tomlkit',\n",
       " 'toolz',\n",
       " 'tornado',\n",
       " 'tqdm',\n",
       " 'traitlets',\n",
       " 'transformers',\n",
       " 'trio',\n",
       " 'trio_websocket',\n",
       " 'truststore',\n",
       " 'twisted',\n",
       " 'typer',\n",
       " 'typing_extensions',\n",
       " 'tzdata',\n",
       " 'uc_micro',\n",
       " 'ujson',\n",
       " 'unicodedata2',\n",
       " 'unidecode',\n",
       " 'urllib3',\n",
       " 'w3lib',\n",
       " 'wasabi',\n",
       " 'watchdog',\n",
       " 'wcwidth',\n",
       " 'weasel',\n",
       " 'webencodings',\n",
       " 'websocket',\n",
       " 'werkzeug',\n",
       " 'whatthepatch',\n",
       " 'wheel',\n",
       " 'widgetsnbextension',\n",
       " 'win32com',\n",
       " 'win32ctypes',\n",
       " 'win_inet_pton',\n",
       " 'winpty',\n",
       " 'wrapt',\n",
       " 'wsproto',\n",
       " 'xarray',\n",
       " 'xgboost',\n",
       " 'xlwings',\n",
       " 'xlwingsjs',\n",
       " 'xyzservices',\n",
       " 'yaml',\n",
       " 'yapf',\n",
       " 'yapf_third_party',\n",
       " 'yapftests',\n",
       " 'yarl',\n",
       " 'zict',\n",
       " 'zipp',\n",
       " 'zmq',\n",
       " 'zope',\n",
       " 'zstandard',\n",
       " '_win32sysloader',\n",
       " '_winxptheme',\n",
       " 'dde',\n",
       " 'mmapfile',\n",
       " 'odbc',\n",
       " 'perfmon',\n",
       " 'servicemanager',\n",
       " 'timer',\n",
       " 'win32api',\n",
       " 'win32clipboard',\n",
       " 'win32console',\n",
       " 'win32cred',\n",
       " 'win32crypt',\n",
       " 'win32event',\n",
       " 'win32evtlog',\n",
       " 'win32file',\n",
       " 'win32gui',\n",
       " 'win32help',\n",
       " 'win32inet',\n",
       " 'win32job',\n",
       " 'win32lz',\n",
       " 'win32net',\n",
       " 'win32pdh',\n",
       " 'win32pipe',\n",
       " 'win32print',\n",
       " 'win32process',\n",
       " 'win32profile',\n",
       " 'win32ras',\n",
       " 'win32security',\n",
       " 'win32service',\n",
       " 'win32trace',\n",
       " 'win32transaction',\n",
       " 'win32ts',\n",
       " 'win32ui',\n",
       " 'win32uiole',\n",
       " 'win32wnet',\n",
       " 'winxpgui',\n",
       " 'afxres',\n",
       " 'commctrl',\n",
       " 'dbi',\n",
       " 'mmsystem',\n",
       " 'netbios',\n",
       " 'ntsecuritycon',\n",
       " 'pywin32_bootstrap',\n",
       " 'pywin32_testutil',\n",
       " 'pywintypes',\n",
       " 'rasutil',\n",
       " 'regcheck',\n",
       " 'regutil',\n",
       " 'sspi',\n",
       " 'sspicon',\n",
       " 'win2kras',\n",
       " 'win32con',\n",
       " 'win32cryptcon',\n",
       " 'win32evtlogutil',\n",
       " 'win32gui_struct',\n",
       " 'win32inetcon',\n",
       " 'win32netcon',\n",
       " 'win32pdhquery',\n",
       " 'win32pdhutil',\n",
       " 'win32rcparser',\n",
       " 'win32serviceutil',\n",
       " 'win32timezone',\n",
       " 'win32traceutil',\n",
       " 'win32verstamp',\n",
       " 'winerror',\n",
       " 'winioctlcon',\n",
       " 'winnt',\n",
       " 'winperf',\n",
       " 'winxptheme',\n",
       " 'pywin']"
      ]
     },
     "execution_count": 29,
     "metadata": {},
     "output_type": "execute_result"
    }
   ],
   "source": [
    "import pkgutil\n",
    "li = []\n",
    "# List all installed modules\n",
    "for module in pkgutil.iter_modules():\n",
    "    li.append(module.name)\n",
    "\n",
    "li"
   ]
  },
  {
   "cell_type": "code",
   "execution_count": 40,
   "id": "8e85d1c6-8ff2-41ed-a64d-9ece9f0ebfdf",
   "metadata": {},
   "outputs": [
    {
     "name": "stdout",
     "output_type": "stream",
     "text": [
      "<class 'dict'>\n"
     ]
    }
   ],
   "source": [
    "import json          #Javascript Object Notation\n",
    "a = '{\"name\": \"John\",\"age\": \"30\",\"city\": \"New York\"}'\n",
    "print(type(json.loads(a)))"
   ]
  },
  {
   "cell_type": "code",
   "execution_count": 41,
   "id": "b53a8fa3-f161-4eae-bcb0-ffddd8cd9348",
   "metadata": {},
   "outputs": [
    {
     "name": "stdout",
     "output_type": "stream",
     "text": [
      "{'name': 'John', 'age': '30', 'city': 'New York'}\n"
     ]
    }
   ],
   "source": [
    "print((json.loads(a)))"
   ]
  },
  {
   "cell_type": "code",
   "execution_count": 42,
   "id": "662adce0-d149-415e-95ca-db535f2645d6",
   "metadata": {},
   "outputs": [
    {
     "data": {
      "text/plain": [
       "['__and__',\n",
       " '__class__',\n",
       " '__class_getitem__',\n",
       " '__contains__',\n",
       " '__delattr__',\n",
       " '__dir__',\n",
       " '__doc__',\n",
       " '__eq__',\n",
       " '__format__',\n",
       " '__ge__',\n",
       " '__getattribute__',\n",
       " '__getstate__',\n",
       " '__gt__',\n",
       " '__hash__',\n",
       " '__init__',\n",
       " '__init_subclass__',\n",
       " '__iter__',\n",
       " '__le__',\n",
       " '__len__',\n",
       " '__lt__',\n",
       " '__ne__',\n",
       " '__new__',\n",
       " '__or__',\n",
       " '__rand__',\n",
       " '__reduce__',\n",
       " '__reduce_ex__',\n",
       " '__repr__',\n",
       " '__ror__',\n",
       " '__rsub__',\n",
       " '__rxor__',\n",
       " '__setattr__',\n",
       " '__sizeof__',\n",
       " '__str__',\n",
       " '__sub__',\n",
       " '__subclasshook__',\n",
       " '__xor__',\n",
       " 'copy',\n",
       " 'difference',\n",
       " 'intersection',\n",
       " 'isdisjoint',\n",
       " 'issubset',\n",
       " 'issuperset',\n",
       " 'symmetric_difference',\n",
       " 'union']"
      ]
     },
     "execution_count": 42,
     "metadata": {},
     "output_type": "execute_result"
    }
   ],
   "source": [
    "dir(frozenset)"
   ]
  },
  {
   "cell_type": "code",
   "execution_count": 44,
   "id": "957c61ed-6626-4051-8ec2-f6d197838b71",
   "metadata": {},
   "outputs": [
    {
     "name": "stdout",
     "output_type": "stream",
     "text": [
      "1\n",
      "2\n",
      "3\n",
      "4\n",
      "5\n",
      "6\n"
     ]
    },
    {
     "data": {
      "text/plain": [
       "21"
      ]
     },
     "execution_count": 44,
     "metadata": {},
     "output_type": "execute_result"
    }
   ],
   "source": [
    "def fun(*args):\n",
    "    for i in args:\n",
    "        print(i)\n",
    "    return sum(args)\n",
    "fun(1,2,3,4,5,6)"
   ]
  },
  {
   "cell_type": "code",
   "execution_count": 52,
   "id": "264fc73b-4295-449e-8f0f-03cd1eb8d016",
   "metadata": {},
   "outputs": [
    {
     "name": "stdout",
     "output_type": "stream",
     "text": [
      "a ONE\n",
      "b TWO\n",
      "c THREE\n",
      "d FOUR\n",
      "e FIVE\n",
      "f SIX\n"
     ]
    }
   ],
   "source": [
    "def fun(**kwargs):\n",
    "    for i,j in kwargs.items():\n",
    "        print(i,j.upper())\n",
    "        \n",
    "fun(a = \"one\",b = \"two\",c = \"three\",d = \"four\",e = \"five\",f = \"six\")"
   ]
  },
  {
   "cell_type": "code",
   "execution_count": 57,
   "id": "9d0680e1-faf2-4759-bb42-01235824ccb8",
   "metadata": {},
   "outputs": [
    {
     "name": "stdout",
     "output_type": "stream",
     "text": [
      "hello\n"
     ]
    },
    {
     "ename": "NameError",
     "evalue": "name 'c' is not defined",
     "output_type": "error",
     "traceback": [
      "\u001b[1;31m---------------------------------------------------------------------------\u001b[0m",
      "\u001b[1;31mNameError\u001b[0m                                 Traceback (most recent call last)",
      "Cell \u001b[1;32mIn[57], line 5\u001b[0m\n\u001b[0;32m      3\u001b[0m \u001b[38;5;28mprint\u001b[39m(\u001b[38;5;124m\"\u001b[39m\u001b[38;5;124mhello\u001b[39m\u001b[38;5;124m\"\u001b[39m)\n\u001b[0;32m      4\u001b[0m \u001b[38;5;28;01mpass\u001b[39;00m\n\u001b[1;32m----> 5\u001b[0m c\n",
      "\u001b[1;31mNameError\u001b[0m: name 'c' is not defined"
     ]
    }
   ],
   "source": [
    "\n"
   ]
  },
  {
   "cell_type": "code",
   "execution_count": null,
   "id": "67573113-fcea-404e-bb92-af36f3cf3850",
   "metadata": {},
   "outputs": [],
   "source": []
  }
 ],
 "metadata": {
  "kernelspec": {
   "display_name": "Python 3 (ipykernel)",
   "language": "python",
   "name": "python3"
  },
  "language_info": {
   "codemirror_mode": {
    "name": "ipython",
    "version": 3
   },
   "file_extension": ".py",
   "mimetype": "text/x-python",
   "name": "python",
   "nbconvert_exporter": "python",
   "pygments_lexer": "ipython3",
   "version": "3.12.3"
  }
 },
 "nbformat": 4,
 "nbformat_minor": 5
}
