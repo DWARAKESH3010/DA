{
 "cells": [
  {
   "cell_type": "markdown",
   "id": "ba844a64-6b53-46ab-913c-9de02b7d8f4e",
   "metadata": {},
   "source": [
    "# OOPs"
   ]
  },
  {
   "cell_type": "code",
   "execution_count": 21,
   "id": "1959f2c9-44c7-418f-94b5-f90e7bf0c0e1",
   "metadata": {},
   "outputs": [
    {
     "name": "stdout",
     "output_type": "stream",
     "text": [
      "(8, 'dwara', 15)\n",
      "dwara\n",
      "15\n"
     ]
    }
   ],
   "source": [
    "class num:\n",
    "    def __init__(self,a,b):\n",
    "        self.f = a\n",
    "        self.s = b\n",
    "        self.name = \"dwara\"\n",
    "        self.age = 15\n",
    "    def sum(self):\n",
    "        return self.f + self.s,self.name,self.age\n",
    "\n",
    "obj = num(3,5)\n",
    "print(obj.sum())\n",
    "print(obj.name)\n",
    "print(obj.age)"
   ]
  },
  {
   "cell_type": "markdown",
   "id": "e6ec078d-5214-4bf7-b406-fdf5cfd8224d",
   "metadata": {},
   "source": [
    "# Single inheritance"
   ]
  },
  {
   "cell_type": "code",
   "execution_count": 27,
   "id": "7b387d38-06b4-4613-8ccc-53860ae62421",
   "metadata": {},
   "outputs": [
    {
     "name": "stdout",
     "output_type": "stream",
     "text": [
      "('Buddy', 10)\n",
      "('Whiskers', 10)\n",
      "catWhiskers\n"
     ]
    }
   ],
   "source": [
    "class Dog:\n",
    "    def __init__(self,name):\n",
    "        self.name = name\n",
    "\n",
    "    def outer(self,a):\n",
    "        \n",
    "        return self.name,a\n",
    "\n",
    "class cat(Dog):\n",
    "    def meow(self):\n",
    "        return \"cat\"+self.name\n",
    "\n",
    "dog = Dog(\"Buddy\")\n",
    "cat = cat(\"Whiskers\")\n",
    "\n",
    "print(dog.outer(10))  \n",
    "print(cat.outer(10))  \n",
    "print(cat.meow())"
   ]
  },
  {
   "cell_type": "markdown",
   "id": "5d4bb691-1720-4b23-ae68-a28c66b87f93",
   "metadata": {},
   "source": [
    "# multilevel "
   ]
  },
  {
   "cell_type": "code",
   "execution_count": 31,
   "id": "bcbbbf1c-4789-4bc4-b87e-1f434a4a0338",
   "metadata": {},
   "outputs": [
    {
     "name": "stdout",
     "output_type": "stream",
     "text": [
      "('Buddy', 10)\n",
      "('Whiskers', 10)\n",
      "catWhiskers\n",
      "15\n"
     ]
    }
   ],
   "source": [
    "class Dog:\n",
    "    def __init__(self,name):\n",
    "        self.name = name\n",
    "\n",
    "    def outer(self,a):\n",
    "        \n",
    "        return self.name,a\n",
    "\n",
    "class cat(Dog):\n",
    "    def meow(self):\n",
    "        return \"cat\"+self.name\n",
    "\n",
    "class lion(cat):\n",
    "    def roar(self,a):\n",
    "        return a + 5\n",
    "\n",
    "\n",
    "dog = Dog(\"Buddy\")\n",
    "cat = cat(\"Whiskers\")\n",
    "lion = lion(\"buddy\")\n",
    "print(dog.outer(10))  \n",
    "print(cat.outer(10))  \n",
    "print(cat.meow())\n",
    "print(lion.roar(10))"
   ]
  },
  {
   "cell_type": "markdown",
   "id": "11b52e93-0aab-4e49-a249-46d401d0c2a3",
   "metadata": {},
   "source": [
    "# inheritance \n"
   ]
  },
  {
   "cell_type": "code",
   "execution_count": 52,
   "id": "51bad8ab-d293-4aa6-9bca-1287d9c5d347",
   "metadata": {},
   "outputs": [
    {
     "data": {
      "text/plain": [
       "'hello dwara how are you you are 5 years old'"
      ]
     },
     "execution_count": 52,
     "metadata": {},
     "output_type": "execute_result"
    }
   ],
   "source": [
    "class greet:\n",
    "    def __init__(self,name):\n",
    "        self.name = name\n",
    "        \n",
    "    def names(self):\n",
    "        return \"hello \" + self.name + \" how are you\"\n",
    "class info:\n",
    "    def __init__(self,age):\n",
    "        self.age = age\n",
    "        \n",
    "    def ages(self):\n",
    "        return \"you are \" + str(self.age) + \" years old\"\n",
    "\n",
    "class prin(greet,info):\n",
    "     def __init__(self, name, age):\n",
    "        greet.__init__(self, name)  # Initialize Greet\n",
    "        info.__init__(self, age)     # Initialize Info\n",
    "\n",
    "     def display(self):\n",
    "        greeting = self.names()  # Call the greet_message method\n",
    "        age_info = self.ages()     # Call the age_message method\n",
    "        return greeting + \" \" + age_info\n",
    "\n",
    "obj3 = prin(\"dwara\",5)\n",
    "obj3.display()"
   ]
  },
  {
   "cell_type": "code",
   "execution_count": null,
   "id": "fd5737ea-0087-4661-aaed-709b8085f8f9",
   "metadata": {},
   "outputs": [],
   "source": []
  },
  {
   "cell_type": "code",
   "execution_count": null,
   "id": "ccafc10e-ca6b-428a-a870-faec1ea4bf57",
   "metadata": {},
   "outputs": [],
   "source": []
  },
  {
   "cell_type": "code",
   "execution_count": null,
   "id": "5f67be72-03b1-4213-a38d-71f12648a5e8",
   "metadata": {},
   "outputs": [],
   "source": []
  },
  {
   "cell_type": "code",
   "execution_count": null,
   "id": "e8184cab-46df-41e1-944e-91eef567ad70",
   "metadata": {},
   "outputs": [],
   "source": []
  },
  {
   "cell_type": "code",
   "execution_count": null,
   "id": "8661b24e-7853-45df-99d0-23bfd95714fc",
   "metadata": {},
   "outputs": [],
   "source": []
  },
  {
   "cell_type": "code",
   "execution_count": null,
   "id": "1865a7e0-60c4-448b-ac0b-fbb6756a3294",
   "metadata": {},
   "outputs": [],
   "source": []
  },
  {
   "cell_type": "code",
   "execution_count": null,
   "id": "ad4ef9df-0fae-4fac-941a-c4d4156060ca",
   "metadata": {},
   "outputs": [],
   "source": []
  },
  {
   "cell_type": "code",
   "execution_count": null,
   "id": "19667df5-712c-4734-a881-797daba2f1e1",
   "metadata": {},
   "outputs": [],
   "source": []
  },
  {
   "cell_type": "code",
   "execution_count": null,
   "id": "763acc2c-7143-4739-abe9-fd00ee859209",
   "metadata": {},
   "outputs": [],
   "source": []
  },
  {
   "cell_type": "code",
   "execution_count": null,
   "id": "7bdee9f9-f345-4de2-8dd9-dea795a3eeca",
   "metadata": {},
   "outputs": [],
   "source": []
  },
  {
   "cell_type": "code",
   "execution_count": null,
   "id": "0029f188-1ec1-4225-be7e-ebdd6f45d7ac",
   "metadata": {},
   "outputs": [],
   "source": []
  },
  {
   "cell_type": "code",
   "execution_count": null,
   "id": "f9e61cdf-122e-4666-9e15-ec0522c14f77",
   "metadata": {},
   "outputs": [],
   "source": []
  }
 ],
 "metadata": {
  "kernelspec": {
   "display_name": "Python 3 (ipykernel)",
   "language": "python",
   "name": "python3"
  },
  "language_info": {
   "codemirror_mode": {
    "name": "ipython",
    "version": 3
   },
   "file_extension": ".py",
   "mimetype": "text/x-python",
   "name": "python",
   "nbconvert_exporter": "python",
   "pygments_lexer": "ipython3",
   "version": "3.12.3"
  }
 },
 "nbformat": 4,
 "nbformat_minor": 5
}
