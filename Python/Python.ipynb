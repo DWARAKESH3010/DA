{
 "cells": [
  {
   "cell_type": "markdown",
   "id": "ba844a64-6b53-46ab-913c-9de02b7d8f4e",
   "metadata": {},
   "source": [
    "# OOPs"
   ]
  },
  {
   "cell_type": "code",
   "execution_count": 21,
   "id": "1959f2c9-44c7-418f-94b5-f90e7bf0c0e1",
   "metadata": {},
   "outputs": [
    {
     "name": "stdout",
     "output_type": "stream",
     "text": [
      "(8, 'dwara', 15)\n",
      "dwara\n",
      "15\n"
     ]
    }
   ],
   "source": [
    "class num:\n",
    "    def __init__(self,a,b):\n",
    "        self.f = a\n",
    "        self.s = b\n",
    "        self.name = \"dwara\"\n",
    "        self.age = 15\n",
    "    def sum(self):\n",
    "        return self.f + self.s,self.name,self.age\n",
    "\n",
    "obj = num(3,5)\n",
    "print(obj.sum())\n",
    "print(obj.name)\n",
    "print(obj.age)"
   ]
  },
  {
   "cell_type": "markdown",
   "id": "e6ec078d-5214-4bf7-b406-fdf5cfd8224d",
   "metadata": {},
   "source": [
    "# Single inheritance"
   ]
  },
  {
   "cell_type": "code",
   "execution_count": 27,
   "id": "7b387d38-06b4-4613-8ccc-53860ae62421",
   "metadata": {},
   "outputs": [
    {
     "name": "stdout",
     "output_type": "stream",
     "text": [
      "('Buddy', 10)\n",
      "('Whiskers', 10)\n",
      "catWhiskers\n"
     ]
    }
   ],
   "source": [
    "class Dog:\n",
    "    def __init__(self,name):\n",
    "        self.name = name\n",
    "\n",
    "    def outer(self,a):\n",
    "        \n",
    "        return self.name,a\n",
    "\n",
    "class cat(Dog):\n",
    "    def meow(self):\n",
    "        return \"cat\"+self.name\n",
    "\n",
    "dog = Dog(\"Buddy\")\n",
    "cat = cat(\"Whiskers\")\n",
    "\n",
    "print(dog.outer(10))  \n",
    "print(cat.outer(10))  \n",
    "print(cat.meow())"
   ]
  },
  {
   "cell_type": "markdown",
   "id": "5d4bb691-1720-4b23-ae68-a28c66b87f93",
   "metadata": {},
   "source": [
    "# multilevel "
   ]
  },
  {
   "cell_type": "code",
   "execution_count": 31,
   "id": "bcbbbf1c-4789-4bc4-b87e-1f434a4a0338",
   "metadata": {},
   "outputs": [
    {
     "name": "stdout",
     "output_type": "stream",
     "text": [
      "('Buddy', 10)\n",
      "('Whiskers', 10)\n",
      "catWhiskers\n",
      "15\n"
     ]
    }
   ],
   "source": [
    "class Dog:\n",
    "    def __init__(self,name):\n",
    "        self.name = name\n",
    "\n",
    "    def outer(self,a):\n",
    "        \n",
    "        return self.name,a\n",
    "\n",
    "class cat(Dog):\n",
    "    def meow(self):\n",
    "        return \"cat\"+self.name\n",
    "\n",
    "class lion(cat):\n",
    "    def roar(self,a):\n",
    "        return a + 5\n",
    "\n",
    "\n",
    "dog = Dog(\"Buddy\")\n",
    "cat = cat(\"Whiskers\")\n",
    "lion = lion(\"buddy\")\n",
    "print(dog.outer(10))  \n",
    "print(cat.outer(10))  \n",
    "print(cat.meow())\n",
    "print(lion.roar(10))"
   ]
  },
  {
   "cell_type": "markdown",
   "id": "11b52e93-0aab-4e49-a249-46d401d0c2a3",
   "metadata": {},
   "source": [
    "# inheritance \n"
   ]
  },
  {
   "cell_type": "code",
   "execution_count": 52,
   "id": "51bad8ab-d293-4aa6-9bca-1287d9c5d347",
   "metadata": {},
   "outputs": [
    {
     "data": {
      "text/plain": [
       "'hello dwara how are you you are 5 years old'"
      ]
     },
     "execution_count": 52,
     "metadata": {},
     "output_type": "execute_result"
    }
   ],
   "source": [
    "class greet:\n",
    "    def __init__(self,name):\n",
    "        self.name = name\n",
    "        \n",
    "    def names(self):\n",
    "        return \"hello \" + self.name + \" how are you\"\n",
    "class info:\n",
    "    def __init__(self,age):\n",
    "        self.age = age\n",
    "        \n",
    "    def ages(self):\n",
    "        return \"you are \" + str(self.age) + \" years old\"\n",
    "\n",
    "class prin(greet,info):\n",
    "     def __init__(self, name, age):\n",
    "        greet.__init__(self, name)   \n",
    "        info.__init__(self, age)     \n",
    "\n",
    "     def display(self):\n",
    "        greeting = self.names()  \n",
    "        age_info = self.ages()     \n",
    "        return greeting + \" \" + age_info\n",
    "\n",
    "obj3 = prin(\"dwara\",5)\n",
    "obj3.display()"
   ]
  },
  {
   "cell_type": "markdown",
   "id": "c944c10a-3297-4e04-8ff2-cf53ba4efd86",
   "metadata": {},
   "source": [
    "# Encapsulation"
   ]
  },
  {
   "cell_type": "code",
   "execution_count": 16,
   "id": "fd5737ea-0087-4661-aaed-709b8085f8f9",
   "metadata": {},
   "outputs": [
    {
     "data": {
      "text/plain": [
       "'gooooooooooooogle'"
      ]
     },
     "execution_count": 16,
     "metadata": {},
     "output_type": "execute_result"
    }
   ],
   "source": [
    "class sample:\n",
    "    def __init__(self):\n",
    "        self.company = \"dwara\"\n",
    "\n",
    "obj = sample()\n",
    "obj.company = \"gooooooooooooogle\"\n",
    "obj.company"
   ]
  },
  {
   "cell_type": "code",
   "execution_count": 20,
   "id": "ccafc10e-ca6b-428a-a870-faec1ea4bf57",
   "metadata": {},
   "outputs": [
    {
     "ename": "AttributeError",
     "evalue": "'sample' object has no attribute '__company'",
     "output_type": "error",
     "traceback": [
      "\u001b[1;31m---------------------------------------------------------------------------\u001b[0m",
      "\u001b[1;31mAttributeError\u001b[0m                            Traceback (most recent call last)",
      "Cell \u001b[1;32mIn[20], line 6\u001b[0m\n\u001b[0;32m      3\u001b[0m         \u001b[38;5;28mself\u001b[39m\u001b[38;5;241m.\u001b[39m__company \u001b[38;5;241m=\u001b[39m \u001b[38;5;124m\"\u001b[39m\u001b[38;5;124mdwara\u001b[39m\u001b[38;5;124m\"\u001b[39m                        \u001b[38;5;66;03m# used private key modifier \u001b[39;00m\n\u001b[0;32m      5\u001b[0m obj \u001b[38;5;241m=\u001b[39m sample()\n\u001b[1;32m----> 6\u001b[0m obj\u001b[38;5;241m.\u001b[39m__company\n",
      "\u001b[1;31mAttributeError\u001b[0m: 'sample' object has no attribute '__company'"
     ]
    }
   ],
   "source": [
    "class sample:\n",
    "    def __init__(self):\n",
    "        self.__company = \"dwara\"                        # used private key modifier \n",
    "\n",
    "obj = sample()\n",
    "obj.__company                                           # cannot use outside the class use only in the class only"
   ]
  },
  {
   "cell_type": "code",
   "execution_count": 22,
   "id": "5f67be72-03b1-4213-a38d-71f12648a5e8",
   "metadata": {},
   "outputs": [
    {
     "data": {
      "text/plain": [
       "'dwara'"
      ]
     },
     "execution_count": 22,
     "metadata": {},
     "output_type": "execute_result"
    }
   ],
   "source": [
    "class sample:\n",
    "    def __init__(self):\n",
    "        self.__company = \"dwara\"                        # used private key modifier \n",
    "    def company(self):\n",
    "        return self.__company\n",
    "obj = sample()\n",
    "obj.company()                                          # only use in the class "
   ]
  },
  {
   "cell_type": "markdown",
   "id": "6959ff5d-a8bc-416b-829b-48846731e96a",
   "metadata": {},
   "source": [
    "1. company = public\n",
    "2. __company = private\n",
    "3. _company = protected"
   ]
  },
  {
   "cell_type": "code",
   "execution_count": 25,
   "id": "8661b24e-7853-45df-99d0-23bfd95714fc",
   "metadata": {},
   "outputs": [
    {
     "data": {
      "text/plain": [
       "'dwara'"
      ]
     },
     "execution_count": 25,
     "metadata": {},
     "output_type": "execute_result"
    }
   ],
   "source": [
    "class sample:\n",
    "    def __init__(self):\n",
    "        self._company = \"dwara\"                        # used protect key modifier \n",
    "class child(sample):\n",
    "    pass\n",
    "obj = child()\n",
    "obj._company                                          # only use in the class "
   ]
  },
  {
   "cell_type": "markdown",
   "id": "1bde6d90-f589-4e57-ab0e-a19639426df5",
   "metadata": {},
   "source": [
    "# Pass is the place holder for future coding purpose it will execute with no need\n"
   ]
  },
  {
   "cell_type": "code",
   "execution_count": 26,
   "id": "1865a7e0-60c4-448b-ac0b-fbb6756a3294",
   "metadata": {},
   "outputs": [],
   "source": [
    "for x in [0, 1, 2]:\n",
    "  pass"
   ]
  },
  {
   "cell_type": "markdown",
   "id": "cd518c19-ab38-485e-9419-d175ac8abf21",
   "metadata": {},
   "source": [
    "# Polymorphism "
   ]
  },
  {
   "cell_type": "markdown",
   "id": "0a9faa4c-4eed-42eb-b503-e015d782515e",
   "metadata": {},
   "source": [
    "One function can be used in diffrent way"
   ]
  },
  {
   "cell_type": "code",
   "execution_count": 30,
   "id": "19667df5-712c-4734-a881-797daba2f1e1",
   "metadata": {},
   "outputs": [
    {
     "name": "stdout",
     "output_type": "stream",
     "text": [
      "8\n"
     ]
    },
    {
     "data": {
      "text/plain": [
       "3"
      ]
     },
     "execution_count": 30,
     "metadata": {},
     "output_type": "execute_result"
    }
   ],
   "source": [
    "def add(a,b,c=0):\n",
    "    return a + b + c\n",
    "\n",
    "print(add(1,2,5))         #used in the 3 value \n",
    "add(1,2)                  #used in the 2 value"
   ]
  },
  {
   "cell_type": "code",
   "execution_count": 43,
   "id": "763acc2c-7143-4739-abe9-fd00ee859209",
   "metadata": {},
   "outputs": [
    {
     "data": {
      "text/plain": [
       "'DOG Bark'"
      ]
     },
     "execution_count": 43,
     "metadata": {},
     "output_type": "execute_result"
    }
   ],
   "source": [
    "class sample():\n",
    "    def sound(self):\n",
    "        return \"sound\"\n",
    "\n",
    "class sample1(sample):\n",
    "    def sound(self):\n",
    "        return \"DOG Bark\"               # method riding\n",
    "\n",
    "obj = sample1()\n",
    "obj.sound()"
   ]
  },
  {
   "cell_type": "code",
   "execution_count": 15,
   "id": "7bdee9f9-f345-4de2-8dd9-dea795a3eeca",
   "metadata": {},
   "outputs": [
    {
     "name": "stdout",
     "output_type": "stream",
     "text": [
      "None\n",
      "dict_keys([1, 2, 3])\n",
      "dict_values(['One', 'Two', 'Three'])\n",
      "dict_items([(1, 'One'), (2, 'Two'), (3, 'Three')])\n"
     ]
    }
   ],
   "source": [
    "Dic = {\n",
    "    1:\"One\",\n",
    "    2:\"Two\",\n",
    "    3:\"Three\"\n",
    "}\n",
    "print(Dic.get(\"Two\"))\n",
    "print(Dic.keys())\n",
    "print(Dic.values())\n",
    "print(Dic.items())"
   ]
  },
  {
   "cell_type": "code",
   "execution_count": 22,
   "id": "0029f188-1ec1-4225-be7e-ebdd6f45d7ac",
   "metadata": {},
   "outputs": [
    {
     "name": "stdout",
     "output_type": "stream",
     "text": [
      "3 Three\n"
     ]
    }
   ],
   "source": [
    "for i,j in Dic.items():\n",
    "    if j == \"Three\":\n",
    "        print(i,j)"
   ]
  },
  {
   "cell_type": "code",
   "execution_count": 31,
   "id": "f9e61cdf-122e-4666-9e15-ec0522c14f77",
   "metadata": {},
   "outputs": [
    {
     "name": "stdout",
     "output_type": "stream",
     "text": [
      "3 Three\n"
     ]
    },
    {
     "data": {
      "text/plain": [
       "[None]"
      ]
     },
     "execution_count": 31,
     "metadata": {},
     "output_type": "execute_result"
    }
   ],
   "source": [
    "val = [print(i,j) for i,j in Dic.items() if j == \"Three\" ]"
   ]
  },
  {
   "cell_type": "code",
   "execution_count": 38,
   "id": "254244bc-8689-497a-aacf-8f27f7bf6a5b",
   "metadata": {},
   "outputs": [
    {
     "data": {
      "text/html": [
       "<div>\n",
       "<style scoped>\n",
       "    .dataframe tbody tr th:only-of-type {\n",
       "        vertical-align: middle;\n",
       "    }\n",
       "\n",
       "    .dataframe tbody tr th {\n",
       "        vertical-align: top;\n",
       "    }\n",
       "\n",
       "    .dataframe thead th {\n",
       "        text-align: right;\n",
       "    }\n",
       "</style>\n",
       "<table border=\"1\" class=\"dataframe\">\n",
       "  <thead>\n",
       "    <tr style=\"text-align: right;\">\n",
       "      <th></th>\n",
       "      <th>key</th>\n",
       "      <th>value</th>\n",
       "    </tr>\n",
       "  </thead>\n",
       "  <tbody>\n",
       "    <tr>\n",
       "      <th>0</th>\n",
       "      <td>1</td>\n",
       "      <td>One</td>\n",
       "    </tr>\n",
       "    <tr>\n",
       "      <th>1</th>\n",
       "      <td>2</td>\n",
       "      <td>Two</td>\n",
       "    </tr>\n",
       "    <tr>\n",
       "      <th>2</th>\n",
       "      <td>3</td>\n",
       "      <td>Three</td>\n",
       "    </tr>\n",
       "  </tbody>\n",
       "</table>\n",
       "</div>"
      ],
      "text/plain": [
       "   key  value\n",
       "0    1    One\n",
       "1    2    Two\n",
       "2    3  Three"
      ]
     },
     "execution_count": 38,
     "metadata": {},
     "output_type": "execute_result"
    }
   ],
   "source": [
    "import pandas as pd\n",
    "v = pd.DataFrame(list(Dic.items()), columns= [\"key\",\"value\"])\n",
    "v"
   ]
  },
  {
   "cell_type": "code",
   "execution_count": 39,
   "id": "d7b59784-d909-4a86-9437-d2dc5ca05684",
   "metadata": {},
   "outputs": [
    {
     "data": {
      "text/plain": [
       "[(1, 'One'), (2, 'Two'), (3, 'Three')]"
      ]
     },
     "execution_count": 39,
     "metadata": {},
     "output_type": "execute_result"
    }
   ],
   "source": [
    "list(Dic.items())"
   ]
  },
  {
   "cell_type": "code",
   "execution_count": 43,
   "id": "5baf9395-15d3-4641-add7-01bd9d4c1421",
   "metadata": {},
   "outputs": [
    {
     "data": {
      "text/plain": [
       "{'One', 'Three', 'Two'}"
      ]
     },
     "execution_count": 43,
     "metadata": {},
     "output_type": "execute_result"
    }
   ],
   "source": [
    "se = set(Dic.values())\n",
    "se"
   ]
  },
  {
   "cell_type": "code",
   "execution_count": 56,
   "id": "b96d41a1-37f9-44b1-b46b-7a3a5a25f0f7",
   "metadata": {},
   "outputs": [
    {
     "name": "stdout",
     "output_type": "stream",
     "text": [
      "{0, 1, 2, 3, 4, 5, 6, 67, 7, 69, 8, 9, 12, 87, 32, 34}\n",
      "{1, 2, 3, 4, 5, 6, 7}\n",
      "{32, 0, 34, 69, 8, 9, 12, 87}\n"
     ]
    }
   ],
   "source": [
    "v = {1,1,1,2,2,3,3,3,4,5,5,6,67,7,7}\n",
    "v1 = {1,12,1,32,2,2,4,4,6,69,4,4,3,3,2,4,8,9,0,8,87,6,5,4,3,2,12,34,5,6,6,7}\n",
    "print(v | v1)\n",
    "print(v & v1)\n",
    "print(v1 - v)"
   ]
  },
  {
   "cell_type": "code",
   "execution_count": 57,
   "id": "edc15159-f687-492e-90f0-0e94db8ddfd3",
   "metadata": {},
   "outputs": [
    {
     "name": "stdout",
     "output_type": "stream",
     "text": [
      "bytearray(b' \\x01\\x02\\x03\\x04E\\x06\\x00\\x08\\t\\x05\"\\x0c\\x07W')\n"
     ]
    }
   ],
   "source": [
    "print(bytearray(v1))"
   ]
  },
  {
   "cell_type": "code",
   "execution_count": 70,
   "id": "08c446de-6987-4f2a-95f5-ce8b9024f998",
   "metadata": {},
   "outputs": [
    {
     "name": "stdout",
     "output_type": "stream",
     "text": [
      "B 5\n",
      "A 3\n",
      "C 2\n"
     ]
    }
   ],
   "source": [
    "from collections import Counter\n",
    "   \n",
    "val = Counter(['B','B','A','B','C','A','B','B','A','C'])                  # This will tell the how many values in the list \n",
    "\n",
    "for i,j in val.items():\n",
    "    print(i,j)\n"
   ]
  },
  {
   "cell_type": "code",
   "execution_count": 68,
   "id": "ad979796-55c0-412d-9699-966e199b3f62",
   "metadata": {},
   "outputs": [
    {
     "data": {
      "text/plain": [
       "dict_items([('B', 5), ('A', 3), ('C', 2)])"
      ]
     },
     "execution_count": 68,
     "metadata": {},
     "output_type": "execute_result"
    }
   ],
   "source": [
    "val.items()"
   ]
  },
  {
   "cell_type": "code",
   "execution_count": 69,
   "id": "ac893e73-e9db-492d-85ea-bd7ba524a3dd",
   "metadata": {},
   "outputs": [
    {
     "data": {
      "text/plain": [
       "Counter({'B': 5, 'A': 3, 'C': 2})"
      ]
     },
     "execution_count": 69,
     "metadata": {},
     "output_type": "execute_result"
    }
   ],
   "source": [
    "val"
   ]
  },
  {
   "cell_type": "code",
   "execution_count": 71,
   "id": "a0bc5986-ae77-401d-b60e-095ed79c012f",
   "metadata": {},
   "outputs": [
    {
     "name": "stdout",
     "output_type": "stream",
     "text": [
      "hello 3\n"
     ]
    }
   ],
   "source": [
    "li = [1,2,3]\n",
    "print(\"hello\",li[2])"
   ]
  },
  {
   "cell_type": "code",
   "execution_count": 77,
   "id": "35fff937-caeb-48e9-85b1-8b4d46dbf922",
   "metadata": {},
   "outputs": [
    {
     "name": "stdout",
     "output_type": "stream",
     "text": [
      "<class 'NoneType'>\n"
     ]
    }
   ],
   "source": [
    "t = type(None)\n",
    "print(t)"
   ]
  },
  {
   "cell_type": "markdown",
   "id": "1002f90e-1cf5-4bb1-ac2a-e34b04de53a5",
   "metadata": {},
   "source": [
    "#  Ternary Operator "
   ]
  },
  {
   "cell_type": "code",
   "execution_count": 80,
   "id": "dfb935f4-2857-42c8-a38b-6dd3d8f84b3e",
   "metadata": {},
   "outputs": [
    {
     "data": {
      "text/plain": [
       "20"
      ]
     },
     "execution_count": 80,
     "metadata": {},
     "output_type": "execute_result"
    }
   ],
   "source": [
    "a = 20\n",
    "b = 30\n",
    "val = a if a < b else b\n",
    "val"
   ]
  },
  {
   "cell_type": "code",
   "execution_count": null,
   "id": "f8afe4f8-e330-4eb5-98d7-37f5f9396e8f",
   "metadata": {},
   "outputs": [],
   "source": []
  }
 ],
 "metadata": {
  "kernelspec": {
   "display_name": "Python 3 (ipykernel)",
   "language": "python",
   "name": "python3"
  },
  "language_info": {
   "codemirror_mode": {
    "name": "ipython",
    "version": 3
   },
   "file_extension": ".py",
   "mimetype": "text/x-python",
   "name": "python",
   "nbconvert_exporter": "python",
   "pygments_lexer": "ipython3",
   "version": "3.12.3"
  }
 },
 "nbformat": 4,
 "nbformat_minor": 5
}
