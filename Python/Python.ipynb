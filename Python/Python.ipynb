{
 "cells": [
  {
   "cell_type": "markdown",
   "id": "ba844a64-6b53-46ab-913c-9de02b7d8f4e",
   "metadata": {},
   "source": [
    "# OOPs"
   ]
  },
  {
   "cell_type": "code",
   "execution_count": 1,
   "id": "1959f2c9-44c7-418f-94b5-f90e7bf0c0e1",
   "metadata": {},
   "outputs": [
    {
     "name": "stdout",
     "output_type": "stream",
     "text": [
      "(8, 'dwara', 15)\n",
      "dwara\n",
      "15\n"
     ]
    }
   ],
   "source": [
    "class num:\n",
    "    def __init__(self,a,b):\n",
    "        self.f = a\n",
    "        self.s = b\n",
    "        self.name = \"dwara\"\n",
    "        self.age = 15\n",
    "    def sum(self):\n",
    "        return self.f + self.s,self.name,self.age\n",
    "\n",
    "obj = num(3,5)\n",
    "print(obj.sum())\n",
    "print(obj.name)\n",
    "print(obj.age)"
   ]
  },
  {
   "cell_type": "markdown",
   "id": "e6ec078d-5214-4bf7-b406-fdf5cfd8224d",
   "metadata": {},
   "source": [
    "# Single inheritance"
   ]
  },
  {
   "cell_type": "code",
   "execution_count": 27,
   "id": "7b387d38-06b4-4613-8ccc-53860ae62421",
   "metadata": {},
   "outputs": [
    {
     "name": "stdout",
     "output_type": "stream",
     "text": [
      "('Buddy', 10)\n",
      "('Whiskers', 10)\n",
      "catWhiskers\n"
     ]
    }
   ],
   "source": [
    "class Dog:\n",
    "    def __init__(self,name):\n",
    "        self.name = name\n",
    "\n",
    "    def outer(self,a):\n",
    "        \n",
    "        return self.name,a\n",
    "\n",
    "class cat(Dog):\n",
    "    def meow(self):\n",
    "        return \"cat\"+self.name\n",
    "\n",
    "dog = Dog(\"Buddy\")\n",
    "cat = cat(\"Whiskers\")\n",
    "\n",
    "print(dog.outer(10))  \n",
    "print(cat.outer(10))  \n",
    "print(cat.meow())"
   ]
  },
  {
   "cell_type": "markdown",
   "id": "5d4bb691-1720-4b23-ae68-a28c66b87f93",
   "metadata": {},
   "source": [
    "# multilevel "
   ]
  },
  {
   "cell_type": "code",
   "execution_count": 31,
   "id": "bcbbbf1c-4789-4bc4-b87e-1f434a4a0338",
   "metadata": {},
   "outputs": [
    {
     "name": "stdout",
     "output_type": "stream",
     "text": [
      "('Buddy', 10)\n",
      "('Whiskers', 10)\n",
      "catWhiskers\n",
      "15\n"
     ]
    }
   ],
   "source": [
    "class Dog:\n",
    "    def __init__(self,name):\n",
    "        self.name = name\n",
    "\n",
    "    def outer(self,a):\n",
    "        \n",
    "        return self.name,a\n",
    "\n",
    "class cat(Dog):\n",
    "    def meow(self):\n",
    "        return \"cat\"+self.name\n",
    "\n",
    "class lion(cat):\n",
    "    def roar(self,a):\n",
    "        return a + 5\n",
    "\n",
    "\n",
    "dog = Dog(\"Buddy\")\n",
    "cat = cat(\"Whiskers\")\n",
    "lion = lion(\"buddy\")\n",
    "print(dog.outer(10))  \n",
    "print(cat.outer(10))  \n",
    "print(cat.meow())\n",
    "print(lion.roar(10))"
   ]
  },
  {
   "cell_type": "markdown",
   "id": "11b52e93-0aab-4e49-a249-46d401d0c2a3",
   "metadata": {},
   "source": [
    "# inheritance \n"
   ]
  },
  {
   "cell_type": "code",
   "execution_count": 52,
   "id": "51bad8ab-d293-4aa6-9bca-1287d9c5d347",
   "metadata": {},
   "outputs": [
    {
     "data": {
      "text/plain": [
       "'hello dwara how are you you are 5 years old'"
      ]
     },
     "execution_count": 52,
     "metadata": {},
     "output_type": "execute_result"
    }
   ],
   "source": [
    "class greet:\n",
    "    def __init__(self,name):\n",
    "        self.name = name\n",
    "        \n",
    "    def names(self):\n",
    "        return \"hello \" + self.name + \" how are you\"\n",
    "class info:\n",
    "    def __init__(self,age):\n",
    "        self.age = age\n",
    "        \n",
    "    def ages(self):\n",
    "        return \"you are \" + str(self.age) + \" years old\"\n",
    "\n",
    "class prin(greet,info):\n",
    "     def __init__(self, name, age):\n",
    "        greet.__init__(self, name)   \n",
    "        info.__init__(self, age)     \n",
    "\n",
    "     def display(self):\n",
    "        greeting = self.names()  \n",
    "        age_info = self.ages()     \n",
    "        return greeting + \" \" + age_info\n",
    "\n",
    "obj3 = prin(\"dwara\",5)\n",
    "obj3.display()"
   ]
  },
  {
   "cell_type": "markdown",
   "id": "c944c10a-3297-4e04-8ff2-cf53ba4efd86",
   "metadata": {},
   "source": [
    "# Encapsulation"
   ]
  },
  {
   "cell_type": "code",
   "execution_count": 16,
   "id": "fd5737ea-0087-4661-aaed-709b8085f8f9",
   "metadata": {},
   "outputs": [
    {
     "data": {
      "text/plain": [
       "'gooooooooooooogle'"
      ]
     },
     "execution_count": 16,
     "metadata": {},
     "output_type": "execute_result"
    }
   ],
   "source": [
    "class sample:\n",
    "    def __init__(self):\n",
    "        self.company = \"dwara\"\n",
    "\n",
    "obj = sample()\n",
    "obj.company = \"gooooooooooooogle\"\n",
    "obj.company"
   ]
  },
  {
   "cell_type": "code",
   "execution_count": 20,
   "id": "ccafc10e-ca6b-428a-a870-faec1ea4bf57",
   "metadata": {},
   "outputs": [
    {
     "ename": "AttributeError",
     "evalue": "'sample' object has no attribute '__company'",
     "output_type": "error",
     "traceback": [
      "\u001b[1;31m---------------------------------------------------------------------------\u001b[0m",
      "\u001b[1;31mAttributeError\u001b[0m                            Traceback (most recent call last)",
      "Cell \u001b[1;32mIn[20], line 6\u001b[0m\n\u001b[0;32m      3\u001b[0m         \u001b[38;5;28mself\u001b[39m\u001b[38;5;241m.\u001b[39m__company \u001b[38;5;241m=\u001b[39m \u001b[38;5;124m\"\u001b[39m\u001b[38;5;124mdwara\u001b[39m\u001b[38;5;124m\"\u001b[39m                        \u001b[38;5;66;03m# used private key modifier \u001b[39;00m\n\u001b[0;32m      5\u001b[0m obj \u001b[38;5;241m=\u001b[39m sample()\n\u001b[1;32m----> 6\u001b[0m obj\u001b[38;5;241m.\u001b[39m__company\n",
      "\u001b[1;31mAttributeError\u001b[0m: 'sample' object has no attribute '__company'"
     ]
    }
   ],
   "source": [
    "class sample:\n",
    "    def __init__(self):\n",
    "        self.__company = \"dwara\"                        # used private key modifier \n",
    "\n",
    "obj = sample()\n",
    "obj.__company                                           # cannot use outside the class use only in the class only"
   ]
  },
  {
   "cell_type": "code",
   "execution_count": 22,
   "id": "5f67be72-03b1-4213-a38d-71f12648a5e8",
   "metadata": {},
   "outputs": [
    {
     "data": {
      "text/plain": [
       "'dwara'"
      ]
     },
     "execution_count": 22,
     "metadata": {},
     "output_type": "execute_result"
    }
   ],
   "source": [
    "class sample:\n",
    "    def __init__(self):\n",
    "        self.__company = \"dwara\"                        # used private key modifier \n",
    "    def company(self):\n",
    "        return self.__company\n",
    "obj = sample()\n",
    "obj.company()                                          # only use in the class "
   ]
  },
  {
   "cell_type": "markdown",
   "id": "6959ff5d-a8bc-416b-829b-48846731e96a",
   "metadata": {},
   "source": [
    "1. company = public\n",
    "2. __company = private\n",
    "3. _company = protected"
   ]
  },
  {
   "cell_type": "code",
   "execution_count": 25,
   "id": "8661b24e-7853-45df-99d0-23bfd95714fc",
   "metadata": {},
   "outputs": [
    {
     "data": {
      "text/plain": [
       "'dwara'"
      ]
     },
     "execution_count": 25,
     "metadata": {},
     "output_type": "execute_result"
    }
   ],
   "source": [
    "class sample:\n",
    "    def __init__(self):\n",
    "        self._company = \"dwara\"                        # used protect key modifier \n",
    "class child(sample):\n",
    "    pass\n",
    "obj = child()\n",
    "obj._company                                          # only use in the class "
   ]
  },
  {
   "cell_type": "markdown",
   "id": "1bde6d90-f589-4e57-ab0e-a19639426df5",
   "metadata": {},
   "source": [
    "# Pass is the place holder for future coding purpose it will execute with no need\n"
   ]
  },
  {
   "cell_type": "code",
   "execution_count": 26,
   "id": "1865a7e0-60c4-448b-ac0b-fbb6756a3294",
   "metadata": {},
   "outputs": [],
   "source": [
    "for x in [0, 1, 2]:\n",
    "  pass"
   ]
  },
  {
   "cell_type": "markdown",
   "id": "cd518c19-ab38-485e-9419-d175ac8abf21",
   "metadata": {},
   "source": [
    "# Polymorphism "
   ]
  },
  {
   "cell_type": "markdown",
   "id": "0a9faa4c-4eed-42eb-b503-e015d782515e",
   "metadata": {},
   "source": [
    "One function can be used in diffrent way"
   ]
  },
  {
   "cell_type": "code",
   "execution_count": 30,
   "id": "19667df5-712c-4734-a881-797daba2f1e1",
   "metadata": {},
   "outputs": [
    {
     "name": "stdout",
     "output_type": "stream",
     "text": [
      "8\n"
     ]
    },
    {
     "data": {
      "text/plain": [
       "3"
      ]
     },
     "execution_count": 30,
     "metadata": {},
     "output_type": "execute_result"
    }
   ],
   "source": [
    "def add(a,b,c=0):\n",
    "    return a + b + c\n",
    "\n",
    "print(add(1,2,5))         #used in the 3 value \n",
    "add(1,2)                  #used in the 2 value"
   ]
  },
  {
   "cell_type": "code",
   "execution_count": 43,
   "id": "763acc2c-7143-4739-abe9-fd00ee859209",
   "metadata": {},
   "outputs": [
    {
     "data": {
      "text/plain": [
       "'DOG Bark'"
      ]
     },
     "execution_count": 43,
     "metadata": {},
     "output_type": "execute_result"
    }
   ],
   "source": [
    "class sample():\n",
    "    def sound(self):\n",
    "        return \"sound\"\n",
    "\n",
    "class sample1(sample):\n",
    "    def sound(self):\n",
    "        return \"DOG Bark\"               # method riding\n",
    "\n",
    "obj = sample1()\n",
    "obj.sound()"
   ]
  },
  {
   "cell_type": "code",
   "execution_count": 1,
   "id": "7bdee9f9-f345-4de2-8dd9-dea795a3eeca",
   "metadata": {},
   "outputs": [
    {
     "name": "stdout",
     "output_type": "stream",
     "text": [
      "None\n",
      "dict_keys([1, 2, 3])\n",
      "dict_values(['One', 'Two', 'Three'])\n",
      "dict_items([(1, 'One'), (2, 'Two'), (3, 'Three')])\n"
     ]
    }
   ],
   "source": [
    "Dic = {\n",
    "    1:\"One\",\n",
    "    2:\"Two\",\n",
    "    3:\"Three\"\n",
    "}\n",
    "print(Dic.get(\"Two\"))\n",
    "print(Dic.keys())\n",
    "print(Dic.values())\n",
    "print(Dic.items())"
   ]
  },
  {
   "cell_type": "code",
   "execution_count": 22,
   "id": "0029f188-1ec1-4225-be7e-ebdd6f45d7ac",
   "metadata": {},
   "outputs": [
    {
     "name": "stdout",
     "output_type": "stream",
     "text": [
      "3 Three\n"
     ]
    }
   ],
   "source": [
    "for i,j in Dic.items():\n",
    "    if j == \"Three\":\n",
    "        print(i,j)"
   ]
  },
  {
   "cell_type": "code",
   "execution_count": 31,
   "id": "f9e61cdf-122e-4666-9e15-ec0522c14f77",
   "metadata": {},
   "outputs": [
    {
     "name": "stdout",
     "output_type": "stream",
     "text": [
      "3 Three\n"
     ]
    },
    {
     "data": {
      "text/plain": [
       "[None]"
      ]
     },
     "execution_count": 31,
     "metadata": {},
     "output_type": "execute_result"
    }
   ],
   "source": [
    "val = [print(i,j) for i,j in Dic.items() if j == \"Three\" ]"
   ]
  },
  {
   "cell_type": "code",
   "execution_count": 38,
   "id": "254244bc-8689-497a-aacf-8f27f7bf6a5b",
   "metadata": {},
   "outputs": [
    {
     "data": {
      "text/html": [
       "<div>\n",
       "<style scoped>\n",
       "    .dataframe tbody tr th:only-of-type {\n",
       "        vertical-align: middle;\n",
       "    }\n",
       "\n",
       "    .dataframe tbody tr th {\n",
       "        vertical-align: top;\n",
       "    }\n",
       "\n",
       "    .dataframe thead th {\n",
       "        text-align: right;\n",
       "    }\n",
       "</style>\n",
       "<table border=\"1\" class=\"dataframe\">\n",
       "  <thead>\n",
       "    <tr style=\"text-align: right;\">\n",
       "      <th></th>\n",
       "      <th>key</th>\n",
       "      <th>value</th>\n",
       "    </tr>\n",
       "  </thead>\n",
       "  <tbody>\n",
       "    <tr>\n",
       "      <th>0</th>\n",
       "      <td>1</td>\n",
       "      <td>One</td>\n",
       "    </tr>\n",
       "    <tr>\n",
       "      <th>1</th>\n",
       "      <td>2</td>\n",
       "      <td>Two</td>\n",
       "    </tr>\n",
       "    <tr>\n",
       "      <th>2</th>\n",
       "      <td>3</td>\n",
       "      <td>Three</td>\n",
       "    </tr>\n",
       "  </tbody>\n",
       "</table>\n",
       "</div>"
      ],
      "text/plain": [
       "   key  value\n",
       "0    1    One\n",
       "1    2    Two\n",
       "2    3  Three"
      ]
     },
     "execution_count": 38,
     "metadata": {},
     "output_type": "execute_result"
    }
   ],
   "source": [
    "import pandas as pd\n",
    "v = pd.DataFrame(list(Dic.items()), columns= [\"key\",\"value\"])\n",
    "v"
   ]
  },
  {
   "cell_type": "code",
   "execution_count": 39,
   "id": "d7b59784-d909-4a86-9437-d2dc5ca05684",
   "metadata": {},
   "outputs": [
    {
     "data": {
      "text/plain": [
       "[(1, 'One'), (2, 'Two'), (3, 'Three')]"
      ]
     },
     "execution_count": 39,
     "metadata": {},
     "output_type": "execute_result"
    }
   ],
   "source": [
    "list(Dic.items())"
   ]
  },
  {
   "cell_type": "code",
   "execution_count": 43,
   "id": "5baf9395-15d3-4641-add7-01bd9d4c1421",
   "metadata": {},
   "outputs": [
    {
     "data": {
      "text/plain": [
       "{'One', 'Three', 'Two'}"
      ]
     },
     "execution_count": 43,
     "metadata": {},
     "output_type": "execute_result"
    }
   ],
   "source": [
    "se = set(Dic.values())\n",
    "se"
   ]
  },
  {
   "cell_type": "code",
   "execution_count": 56,
   "id": "b96d41a1-37f9-44b1-b46b-7a3a5a25f0f7",
   "metadata": {},
   "outputs": [
    {
     "name": "stdout",
     "output_type": "stream",
     "text": [
      "{0, 1, 2, 3, 4, 5, 6, 67, 7, 69, 8, 9, 12, 87, 32, 34}\n",
      "{1, 2, 3, 4, 5, 6, 7}\n",
      "{32, 0, 34, 69, 8, 9, 12, 87}\n"
     ]
    }
   ],
   "source": [
    "v = {1,1,1,2,2,3,3,3,4,5,5,6,67,7,7}\n",
    "v1 = {1,12,1,32,2,2,4,4,6,69,4,4,3,3,2,4,8,9,0,8,87,6,5,4,3,2,12,34,5,6,6,7}\n",
    "print(v | v1)\n",
    "print(v & v1)\n",
    "print(v1 - v)"
   ]
  },
  {
   "cell_type": "code",
   "execution_count": 57,
   "id": "edc15159-f687-492e-90f0-0e94db8ddfd3",
   "metadata": {},
   "outputs": [
    {
     "name": "stdout",
     "output_type": "stream",
     "text": [
      "bytearray(b' \\x01\\x02\\x03\\x04E\\x06\\x00\\x08\\t\\x05\"\\x0c\\x07W')\n"
     ]
    }
   ],
   "source": [
    "print(bytearray(v1))"
   ]
  },
  {
   "cell_type": "code",
   "execution_count": 70,
   "id": "08c446de-6987-4f2a-95f5-ce8b9024f998",
   "metadata": {},
   "outputs": [
    {
     "name": "stdout",
     "output_type": "stream",
     "text": [
      "B 5\n",
      "A 3\n",
      "C 2\n"
     ]
    }
   ],
   "source": [
    "from collections import Counter\n",
    "   \n",
    "val = Counter(['B','B','A','B','C','A','B','B','A','C'])                  # This will tell the how many values in the list \n",
    "\n",
    "for i,j in val.items():\n",
    "    print(i,j)\n"
   ]
  },
  {
   "cell_type": "code",
   "execution_count": 68,
   "id": "ad979796-55c0-412d-9699-966e199b3f62",
   "metadata": {},
   "outputs": [
    {
     "data": {
      "text/plain": [
       "dict_items([('B', 5), ('A', 3), ('C', 2)])"
      ]
     },
     "execution_count": 68,
     "metadata": {},
     "output_type": "execute_result"
    }
   ],
   "source": [
    "val.items()"
   ]
  },
  {
   "cell_type": "code",
   "execution_count": 69,
   "id": "ac893e73-e9db-492d-85ea-bd7ba524a3dd",
   "metadata": {},
   "outputs": [
    {
     "data": {
      "text/plain": [
       "Counter({'B': 5, 'A': 3, 'C': 2})"
      ]
     },
     "execution_count": 69,
     "metadata": {},
     "output_type": "execute_result"
    }
   ],
   "source": [
    "val"
   ]
  },
  {
   "cell_type": "code",
   "execution_count": 71,
   "id": "a0bc5986-ae77-401d-b60e-095ed79c012f",
   "metadata": {},
   "outputs": [
    {
     "name": "stdout",
     "output_type": "stream",
     "text": [
      "hello 3\n"
     ]
    }
   ],
   "source": [
    "li = [1,2,3]\n",
    "print(\"hello\",li[2])"
   ]
  },
  {
   "cell_type": "code",
   "execution_count": 77,
   "id": "35fff937-caeb-48e9-85b1-8b4d46dbf922",
   "metadata": {},
   "outputs": [
    {
     "name": "stdout",
     "output_type": "stream",
     "text": [
      "<class 'NoneType'>\n"
     ]
    }
   ],
   "source": [
    "t = type(None)\n",
    "print(t)"
   ]
  },
  {
   "cell_type": "markdown",
   "id": "1002f90e-1cf5-4bb1-ac2a-e34b04de53a5",
   "metadata": {},
   "source": [
    "#  Ternary Operator "
   ]
  },
  {
   "cell_type": "code",
   "execution_count": 80,
   "id": "dfb935f4-2857-42c8-a38b-6dd3d8f84b3e",
   "metadata": {},
   "outputs": [
    {
     "data": {
      "text/plain": [
       "20"
      ]
     },
     "execution_count": 80,
     "metadata": {},
     "output_type": "execute_result"
    }
   ],
   "source": [
    "a = 20\n",
    "b = 30\n",
    "val = a if a < b else b\n",
    "val"
   ]
  },
  {
   "cell_type": "code",
   "execution_count": 9,
   "id": "f8afe4f8-e330-4eb5-98d7-37f5f9396e8f",
   "metadata": {},
   "outputs": [
    {
     "data": {
      "text/plain": [
       "{1: 'four', 2: 'Two', 3: 'Three', 'four': 2}"
      ]
     },
     "execution_count": 9,
     "metadata": {},
     "output_type": "execute_result"
    }
   ],
   "source": [
    "Dic"
   ]
  },
  {
   "cell_type": "code",
   "execution_count": 4,
   "id": "80c3a903-60df-4f90-8d3f-2b7eefa248a3",
   "metadata": {},
   "outputs": [],
   "source": [
    "Dic[1] = \"four\""
   ]
  },
  {
   "cell_type": "code",
   "execution_count": 47,
   "id": "8e4ddd1b-b5a5-467c-a416-9b80e2b01062",
   "metadata": {},
   "outputs": [
    {
     "data": {
      "text/plain": [
       "{2: 'Two', 3: 'Three'}"
      ]
     },
     "execution_count": 47,
     "metadata": {},
     "output_type": "execute_result"
    }
   ],
   "source": [
    "Dic"
   ]
  },
  {
   "cell_type": "code",
   "execution_count": 59,
   "id": "67ac5123-feb7-4648-bca2-5f79f2767634",
   "metadata": {},
   "outputs": [],
   "source": [
    "Dic = {\n",
    "    1:\"One\",\n",
    "    2:\"Two\",\n",
    "    3:\"Three\"\n",
    "}"
   ]
  },
  {
   "cell_type": "code",
   "execution_count": 60,
   "id": "24364f90-5ed7-4226-96e8-998e87d8c096",
   "metadata": {},
   "outputs": [],
   "source": [
    "dic = Dic "
   ]
  },
  {
   "cell_type": "markdown",
   "id": "7aa12905-9d25-405d-8617-18b846e8478c",
   "metadata": {},
   "source": [
    "# updating the keys"
   ]
  },
  {
   "cell_type": "code",
   "execution_count": 61,
   "id": "b46c4055-7775-46c7-8577-faed1cfaf057",
   "metadata": {},
   "outputs": [],
   "source": [
    "dic = {69:dic.pop(1),**dic}            #      ** means unpacking the dic"
   ]
  },
  {
   "cell_type": "code",
   "execution_count": 62,
   "id": "4a19bd9c-163e-41fa-bc8d-6ce19bf588b1",
   "metadata": {},
   "outputs": [
    {
     "data": {
      "text/plain": [
       "{69: 'One', 2: 'Two', 3: 'Three'}"
      ]
     },
     "execution_count": 62,
     "metadata": {},
     "output_type": "execute_result"
    }
   ],
   "source": [
    "dic"
   ]
  },
  {
   "cell_type": "code",
   "execution_count": 64,
   "id": "150c6d82-d7a7-4768-b0b8-d30794c6674f",
   "metadata": {},
   "outputs": [
    {
     "data": {
      "text/plain": [
       "{1, 2, 3, 4, 5, 9}"
      ]
     },
     "execution_count": 64,
     "metadata": {},
     "output_type": "execute_result"
    }
   ],
   "source": [
    "a = {1,2,3,4,5}\n",
    "a.add(9)\n",
    "a"
   ]
  },
  {
   "cell_type": "markdown",
   "id": "1eb4f616-3dae-45cf-8dc8-e5026c001e6a",
   "metadata": {},
   "source": [
    "# Frozenset"
   ]
  },
  {
   "cell_type": "code",
   "execution_count": 68,
   "id": "45c7c3f0-cd3e-4e95-8566-10021d9c6f4e",
   "metadata": {},
   "outputs": [
    {
     "name": "stdout",
     "output_type": "stream",
     "text": [
      "Normal Set\n",
      "{'a', 'b', 'c'}\n",
      "\n",
      "Frozen Set\n"
     ]
    },
    {
     "ename": "AttributeError",
     "evalue": "'frozenset' object has no attribute 'add'",
     "output_type": "error",
     "traceback": [
      "\u001b[1;31m---------------------------------------------------------------------------\u001b[0m",
      "\u001b[1;31mAttributeError\u001b[0m                            Traceback (most recent call last)",
      "Cell \u001b[1;32mIn[68], line 10\u001b[0m\n\u001b[0;32m      7\u001b[0m fs \u001b[38;5;241m=\u001b[39m \u001b[38;5;28mfrozenset\u001b[39m([\u001b[38;5;124m\"\u001b[39m\u001b[38;5;124me\u001b[39m\u001b[38;5;124m\"\u001b[39m, \u001b[38;5;124m\"\u001b[39m\u001b[38;5;124mf\u001b[39m\u001b[38;5;124m\"\u001b[39m, \u001b[38;5;124m\"\u001b[39m\u001b[38;5;124mg\u001b[39m\u001b[38;5;124m\"\u001b[39m])\n\u001b[0;32m      9\u001b[0m \u001b[38;5;28mprint\u001b[39m(\u001b[38;5;124m\"\u001b[39m\u001b[38;5;130;01m\\n\u001b[39;00m\u001b[38;5;124mFrozen Set\u001b[39m\u001b[38;5;124m\"\u001b[39m)\n\u001b[1;32m---> 10\u001b[0m \u001b[38;5;28mprint\u001b[39m(fs\u001b[38;5;241m.\u001b[39madd(\u001b[38;5;241m5\u001b[39m))\n",
      "\u001b[1;31mAttributeError\u001b[0m: 'frozenset' object has no attribute 'add'"
     ]
    }
   ],
   "source": [
    "s = set([\"a\", \"b\",\"c\"])\n",
    "\n",
    "print(\"Normal Set\")\n",
    "print(s)\n",
    "\n",
    "# A frozen set we cannot mutate the set\n",
    "fs = frozenset([\"e\", \"f\", \"g\"])\n",
    "\n",
    "print(\"\\nFrozen Set\")\n",
    "print(fs.add(5))"
   ]
  },
  {
   "cell_type": "code",
   "execution_count": 72,
   "id": "2018d9f2-0a0f-41f2-8762-6b17e4d7a5bf",
   "metadata": {},
   "outputs": [
    {
     "name": "stdout",
     "output_type": "stream",
     "text": [
      "{1, 2, 3, 4, 5, 7, 8, 9}\n",
      "{2, 3, 4}\n",
      "{1, 5}\n"
     ]
    }
   ],
   "source": [
    "a = {1,2,3,4,5}\n",
    "b = {2,3,4,7,8,9}\n",
    "print(a.union(b))\n",
    "print(a.intersection(b))\n",
    "print(a - b)\n"
   ]
  },
  {
   "cell_type": "code",
   "execution_count": 81,
   "id": "7ebdefcf-adcb-48ba-ac8f-008e8a4b0b56",
   "metadata": {},
   "outputs": [
    {
     "name": "stdout",
     "output_type": "stream",
     "text": [
      "1 \n",
      "2 2 \n",
      "3 3 3 \n",
      "4 4 4 4 \n"
     ]
    }
   ],
   "source": [
    "for i in range(1, 5):\n",
    "    for j in range(i):\n",
    "        print(i, end=' ')\n",
    "    print()"
   ]
  },
  {
   "cell_type": "code",
   "execution_count": 100,
   "id": "b461a9d4-2dc2-42a6-b39d-d4457a472865",
   "metadata": {},
   "outputs": [
    {
     "name": "stdout",
     "output_type": "stream",
     "text": [
      "True\n",
      "True\n"
     ]
    },
    {
     "data": {
      "text/plain": [
       "'heglo'"
      ]
     },
     "execution_count": 100,
     "metadata": {},
     "output_type": "execute_result"
    }
   ],
   "source": [
    "a = \"hello\"\n",
    "print(\"e\" in a)\n",
    "print(\"g\" not in a)\n",
    "a = list(a)\n",
    "a[2] = \"g\"\n",
    "\"\".join(a)"
   ]
  },
  {
   "cell_type": "code",
   "execution_count": 103,
   "id": "afd27fe0-99bf-4041-ade6-c97c00fda7e1",
   "metadata": {},
   "outputs": [
    {
     "name": "stdout",
     "output_type": "stream",
     "text": [
      "True\n",
      "False\n"
     ]
    }
   ],
   "source": [
    "print(bool(\"Hello\"))\n",
    "print(bool())"
   ]
  },
  {
   "cell_type": "markdown",
   "id": "d39c0dfe-8de2-46af-84a8-dc667ce9b1cc",
   "metadata": {},
   "source": [
    "# Lambda"
   ]
  },
  {
   "cell_type": "code",
   "execution_count": 104,
   "id": "52a85e3c-273e-4eb7-9046-c330a00313a9",
   "metadata": {},
   "outputs": [
    {
     "data": {
      "text/plain": [
       "5"
      ]
     },
     "execution_count": 104,
     "metadata": {},
     "output_type": "execute_result"
    }
   ],
   "source": [
    "a = lambda b: b+2\n",
    "a(b = 3)"
   ]
  },
  {
   "cell_type": "code",
   "execution_count": 106,
   "id": "b2f24626-2c78-4203-81a1-a56ed75f2587",
   "metadata": {},
   "outputs": [
    {
     "data": {
      "text/plain": [
       "18"
      ]
     },
     "execution_count": 106,
     "metadata": {},
     "output_type": "execute_result"
    }
   ],
   "source": [
    "val = lambda a,b,c: a+b-c\n",
    "val(1,20,3)"
   ]
  },
  {
   "cell_type": "code",
   "execution_count": 107,
   "id": "9731b553-d2a7-4175-a37e-ae2ab041c7e0",
   "metadata": {},
   "outputs": [
    {
     "data": {
      "text/plain": [
       "50"
      ]
     },
     "execution_count": 107,
     "metadata": {},
     "output_type": "execute_result"
    }
   ],
   "source": [
    "def fun(n):\n",
    "    return lambda x: x + n\n",
    "val = fun(5)\n",
    "val(45)"
   ]
  },
  {
   "cell_type": "code",
   "execution_count": 4,
   "id": "ac480aca-c2a3-408d-9a3d-e088a621236b",
   "metadata": {},
   "outputs": [
    {
     "name": "stdout",
     "output_type": "stream",
     "text": [
      "Found 3, exiting loop.\n"
     ]
    }
   ],
   "source": [
    "numbers = [1, 2, 3, 4, 5]\n",
    "\n",
    "for number in numbers:\n",
    "    if number == 3:\n",
    "        print(\"Found 3, exiting loop.\")\n",
    "        break\n",
    "else:\n",
    "    print(\"3 not found in the list.\")\n"
   ]
  },
  {
   "cell_type": "code",
   "execution_count": 6,
   "id": "64ed4d80-8fbf-4a7e-9e8a-e551003454d1",
   "metadata": {},
   "outputs": [
    {
     "name": "stdout",
     "output_type": "stream",
     "text": [
      "Count: 0\n",
      "Count: 1\n",
      "Count: 2\n",
      "Count: 3\n",
      "Reached 3, exiting the loop.\n",
      "Loop has exited.\n"
     ]
    }
   ],
   "source": [
    "count = 0\n",
    "\n",
    "while count < 5:\n",
    "    print(f\"Count: {count}\")\n",
    "    if count == 3:\n",
    "        print(\"Reached 3, exiting the loop.\")\n",
    "        break\n",
    "    count += 1\n",
    "else:\n",
    "    print(\"Count reached 5, loop completed without break.\")\n",
    "\n",
    "print(\"Loop has exited.\")\n"
   ]
  },
  {
   "cell_type": "code",
   "execution_count": 8,
   "id": "2d268954-c3df-4acc-af3c-96e2c584c650",
   "metadata": {},
   "outputs": [
    {
     "data": {
      "text/plain": [
       "['not in list', 'not in list', 3, 'not in list', 'not in list', 'not in list']"
      ]
     },
     "execution_count": 8,
     "metadata": {},
     "output_type": "execute_result"
    }
   ],
   "source": [
    "a = [1,2,3,4,5,6]\n",
    "li = [ i if i == 3 else \"not in list\" for i in a]\n",
    "li"
   ]
  },
  {
   "cell_type": "code",
   "execution_count": 12,
   "id": "fcfac3a7-4563-4be5-8969-f1fdd3c48b0f",
   "metadata": {},
   "outputs": [
    {
     "data": {
      "text/plain": [
       "40"
      ]
     },
     "execution_count": 12,
     "metadata": {},
     "output_type": "execute_result"
    }
   ],
   "source": [
    "\n",
    "def fun(n):\n",
    "    return lambda x: x - n\n",
    "val = fun(5)\n",
    "val(45)\n",
    "\n"
   ]
  },
  {
   "cell_type": "code",
   "execution_count": 11,
   "id": "5d491e93-193a-4a98-b3dc-8d37445a929d",
   "metadata": {},
   "outputs": [
    {
     "data": {
      "text/plain": [
       "7"
      ]
     },
     "execution_count": 11,
     "metadata": {},
     "output_type": "execute_result"
    }
   ],
   "source": [
    "res = lambda x: x + 2\n",
    "res(5)"
   ]
  },
  {
   "cell_type": "code",
   "execution_count": null,
   "id": "493ba68f-5100-4fc4-8f04-60a4b8cad963",
   "metadata": {},
   "outputs": [],
   "source": [
    "x = 300\n",
    "\n",
    "def myfunc():\n",
    "    global x\n",
    "    return x\n",
    "def my():\n",
    "    c = myfunc()\n",
    "    print(c)\n",
    "    return c * 2\n",
    "my()\n"
   ]
  },
  {
   "cell_type": "code",
   "execution_count": 17,
   "id": "a8b228d0-a2a4-40e8-b912-fe69bfd08594",
   "metadata": {},
   "outputs": [
    {
     "name": "stdout",
     "output_type": "stream",
     "text": [
      "Sorry ! You are dividing by zero \n"
     ]
    }
   ],
   "source": [
    "def divide(x, y): \n",
    "    try: \n",
    "        # Floor Division : Gives only Fractional\n",
    "        # Part as Answer \n",
    "        result = x // y \n",
    "    except ZeroDivisionError: \n",
    "        print(\"Sorry ! You are dividing by zero \") \n",
    "    else:\n",
    "        print(\"Yeah ! Your answer is :\", result) \n",
    "divide(1,0)"
   ]
  },
  {
   "cell_type": "code",
   "execution_count": 6,
   "id": "84072ef8-4dbf-444c-8d00-274c61730dad",
   "metadata": {},
   "outputs": [
    {
     "name": "stdin",
     "output_type": "stream",
     "text": [
      "Enter the 1 4\n",
      "Enter the 2 2\n"
     ]
    },
    {
     "name": "stdout",
     "output_type": "stream",
     "text": [
      "Yeah ! Your answer is : 2\n"
     ]
    }
   ],
   "source": [
    "def divide():\n",
    "    while True:\n",
    "            try:  \n",
    "                x = int(input(\"Enter the 1\"))\n",
    "                y = int(input(\"Enter the 2\"))\n",
    "                result = x // y \n",
    "            except ZeroDivisionError: \n",
    "                print(\"Sorry ! You are dividing by zero \")\n",
    "            else:\n",
    "                print(\"Yeah ! Your answer is :\", result)\n",
    "                break\n",
    "divide()"
   ]
  },
  {
   "cell_type": "code",
   "execution_count": 14,
   "id": "69817b21-e03c-414f-ac4f-0ca64fa3970e",
   "metadata": {},
   "outputs": [
    {
     "name": "stdout",
     "output_type": "stream",
     "text": [
      "Hello this file where the python want to access \n"
     ]
    }
   ],
   "source": [
    "file = open(\"sample.txt\",\"r\")\n",
    "con = file.read()\n",
    "print(con)"
   ]
  },
  {
   "cell_type": "code",
   "execution_count": 18,
   "id": "8329b784-6f36-4c67-9f80-5460c101a9ed",
   "metadata": {},
   "outputs": [
    {
     "name": "stdout",
     "output_type": "stream",
     "text": [
      "27\n"
     ]
    }
   ],
   "source": [
    "file = open(\"sample2.txt\",\"w\")\n",
    "con = file.write(\"hello this new created file\")\n",
    "print(con)      # returns the len of the string in the file\n",
    "file.close()"
   ]
  },
  {
   "cell_type": "code",
   "execution_count": 17,
   "id": "eafa8a99-6ca9-4ee1-8ac8-b2f1a0ac967f",
   "metadata": {},
   "outputs": [
    {
     "name": "stdout",
     "output_type": "stream",
     "text": [
      "hello this new created file\n"
     ]
    }
   ],
   "source": [
    "file = open(\"sample2.txt\",\"r\")\n",
    "con = file.read()\n",
    "print(con)\n",
    "file.close()     # need to close the file because there will occur some corrupt of the daata "
   ]
  },
  {
   "cell_type": "code",
   "execution_count": 19,
   "id": "be35e575-541a-4657-a2d2-bd72a6251b34",
   "metadata": {},
   "outputs": [
    {
     "name": "stdout",
     "output_type": "stream",
     "text": [
      "['C:\\\\Users\\\\HP\\\\Data Aces\\\\Python', 'C:\\\\Users\\\\HP\\\\anaconda3\\\\python312.zip', 'C:\\\\Users\\\\HP\\\\anaconda3\\\\DLLs', 'C:\\\\Users\\\\HP\\\\anaconda3\\\\Lib', 'C:\\\\Users\\\\HP\\\\anaconda3', '', 'C:\\\\Users\\\\HP\\\\anaconda3\\\\Lib\\\\site-packages', 'C:\\\\Users\\\\HP\\\\anaconda3\\\\Lib\\\\site-packages\\\\win32', 'C:\\\\Users\\\\HP\\\\anaconda3\\\\Lib\\\\site-packages\\\\win32\\\\lib', 'C:\\\\Users\\\\HP\\\\anaconda3\\\\Lib\\\\site-packages\\\\Pythonwin']\n"
     ]
    }
   ],
   "source": [
    "import sys\n",
    "print(sys.path)"
   ]
  },
  {
   "cell_type": "code",
   "execution_count": 29,
   "id": "ae7e38be-60ae-4e3a-90ee-167698de49e2",
   "metadata": {
    "scrolled": true
   },
   "outputs": [
    {
     "data": {
      "text/plain": [
       "['conf',\n",
       " 'sphinxify',\n",
       " 'sphinxthread',\n",
       " '_asyncio',\n",
       " '_bz2',\n",
       " '_ctypes',\n",
       " '_ctypes_test',\n",
       " '_decimal',\n",
       " '_elementtree',\n",
       " '_hashlib',\n",
       " '_lzma',\n",
       " '_msi',\n",
       " '_multiprocessing',\n",
       " '_overlapped',\n",
       " '_queue',\n",
       " '_socket',\n",
       " '_sqlite3',\n",
       " '_ssl',\n",
       " '_testbuffer',\n",
       " '_testcapi',\n",
       " '_testclinic',\n",
       " '_testconsole',\n",
       " '_testimportmultiple',\n",
       " '_testinternalcapi',\n",
       " '_testmultiphase',\n",
       " '_testsinglephase',\n",
       " '_tkinter',\n",
       " '_uuid',\n",
       " '_wmi',\n",
       " '_zoneinfo',\n",
       " 'pyexpat',\n",
       " 'select',\n",
       " 'unicodedata',\n",
       " 'winsound',\n",
       " 'xxlimited',\n",
       " 'xxlimited_35',\n",
       " '__future__',\n",
       " '__hello__',\n",
       " '__phello__',\n",
       " '_aix_support',\n",
       " '_collections_abc',\n",
       " '_compat_pickle',\n",
       " '_compression',\n",
       " '_markupbase',\n",
       " '_nsis',\n",
       " '_osx_support',\n",
       " '_py_abc',\n",
       " '_pydatetime',\n",
       " '_pydecimal',\n",
       " '_pyio',\n",
       " '_pylong',\n",
       " '_sitebuiltins',\n",
       " '_strptime',\n",
       " '_system_path',\n",
       " '_threading_local',\n",
       " '_weakrefset',\n",
       " 'abc',\n",
       " 'aifc',\n",
       " 'antigravity',\n",
       " 'argparse',\n",
       " 'ast',\n",
       " 'asyncio',\n",
       " 'base64',\n",
       " 'bdb',\n",
       " 'bisect',\n",
       " 'bz2',\n",
       " 'cProfile',\n",
       " 'calendar',\n",
       " 'cgi',\n",
       " 'cgitb',\n",
       " 'chunk',\n",
       " 'cmd',\n",
       " 'code',\n",
       " 'codecs',\n",
       " 'codeop',\n",
       " 'collections',\n",
       " 'colorsys',\n",
       " 'compileall',\n",
       " 'concurrent',\n",
       " 'configparser',\n",
       " 'contextlib',\n",
       " 'contextvars',\n",
       " 'copy',\n",
       " 'copyreg',\n",
       " 'crypt',\n",
       " 'csv',\n",
       " 'ctypes',\n",
       " 'curses',\n",
       " 'dataclasses',\n",
       " 'datetime',\n",
       " 'dbm',\n",
       " 'decimal',\n",
       " 'difflib',\n",
       " 'dis',\n",
       " 'doctest',\n",
       " 'email',\n",
       " 'encodings',\n",
       " 'ensurepip',\n",
       " 'enum',\n",
       " 'filecmp',\n",
       " 'fileinput',\n",
       " 'fnmatch',\n",
       " 'fractions',\n",
       " 'ftplib',\n",
       " 'functools',\n",
       " 'genericpath',\n",
       " 'getopt',\n",
       " 'getpass',\n",
       " 'gettext',\n",
       " 'glob',\n",
       " 'graphlib',\n",
       " 'gzip',\n",
       " 'hashlib',\n",
       " 'heapq',\n",
       " 'hmac',\n",
       " 'html',\n",
       " 'http',\n",
       " 'idlelib',\n",
       " 'imaplib',\n",
       " 'imghdr',\n",
       " 'importlib',\n",
       " 'inspect',\n",
       " 'io',\n",
       " 'ipaddress',\n",
       " 'json',\n",
       " 'keyword',\n",
       " 'lib2to3',\n",
       " 'linecache',\n",
       " 'locale',\n",
       " 'logging',\n",
       " 'lzma',\n",
       " 'mailbox',\n",
       " 'mailcap',\n",
       " 'mimetypes',\n",
       " 'modulefinder',\n",
       " 'msilib',\n",
       " 'multiprocessing',\n",
       " 'netrc',\n",
       " 'nntplib',\n",
       " 'ntpath',\n",
       " 'nturl2path',\n",
       " 'numbers',\n",
       " 'opcode',\n",
       " 'operator',\n",
       " 'optparse',\n",
       " 'os',\n",
       " 'pathlib',\n",
       " 'pdb',\n",
       " 'pickle',\n",
       " 'pickletools',\n",
       " 'pipes',\n",
       " 'pkgutil',\n",
       " 'platform',\n",
       " 'plistlib',\n",
       " 'poplib',\n",
       " 'posixpath',\n",
       " 'pprint',\n",
       " 'profile',\n",
       " 'pstats',\n",
       " 'pty',\n",
       " 'py_compile',\n",
       " 'pyclbr',\n",
       " 'pydoc',\n",
       " 'pydoc_data',\n",
       " 'queue',\n",
       " 'quopri',\n",
       " 'random',\n",
       " 're',\n",
       " 'reprlib',\n",
       " 'rlcompleter',\n",
       " 'runpy',\n",
       " 'sched',\n",
       " 'secrets',\n",
       " 'selectors',\n",
       " 'shelve',\n",
       " 'shlex',\n",
       " 'shutil',\n",
       " 'signal',\n",
       " 'site',\n",
       " 'smtplib',\n",
       " 'sndhdr',\n",
       " 'socket',\n",
       " 'socketserver',\n",
       " 'sqlite3',\n",
       " 'sre_compile',\n",
       " 'sre_constants',\n",
       " 'sre_parse',\n",
       " 'ssl',\n",
       " 'stat',\n",
       " 'statistics',\n",
       " 'string',\n",
       " 'stringprep',\n",
       " 'struct',\n",
       " 'subprocess',\n",
       " 'sunau',\n",
       " 'symtable',\n",
       " 'sysconfig',\n",
       " 'tabnanny',\n",
       " 'tarfile',\n",
       " 'telnetlib',\n",
       " 'tempfile',\n",
       " 'test',\n",
       " 'textwrap',\n",
       " 'this',\n",
       " 'threading',\n",
       " 'timeit',\n",
       " 'tkinter',\n",
       " 'token',\n",
       " 'tokenize',\n",
       " 'tomllib',\n",
       " 'trace',\n",
       " 'traceback',\n",
       " 'tracemalloc',\n",
       " 'tty',\n",
       " 'turtle',\n",
       " 'turtledemo',\n",
       " 'types',\n",
       " 'typing',\n",
       " 'unittest',\n",
       " 'urllib',\n",
       " 'uu',\n",
       " 'uuid',\n",
       " 'venv',\n",
       " 'warnings',\n",
       " 'wave',\n",
       " 'weakref',\n",
       " 'webbrowser',\n",
       " 'wsgiref',\n",
       " 'xdrlib',\n",
       " 'xml',\n",
       " 'xmlrpc',\n",
       " 'zipapp',\n",
       " 'zipfile',\n",
       " 'zipimport',\n",
       " 'zoneinfo',\n",
       " 'cwp',\n",
       " '7f0197f6d050da244d93__mypyc',\n",
       " 'Cython',\n",
       " 'IPython',\n",
       " 'Levenshtein',\n",
       " 'OpenSSL',\n",
       " 'PIL',\n",
       " 'PyQt5',\n",
       " '_argon2_cffi_bindings',\n",
       " '_black_version',\n",
       " '_brotli',\n",
       " '_cffi_backend',\n",
       " '_distutils_hack',\n",
       " '_plotly_future_',\n",
       " '_plotly_utils',\n",
       " '_pytest',\n",
       " '_yaml',\n",
       " 'absl',\n",
       " 'adodbapi',\n",
       " 'aiobotocore',\n",
       " 'aiohttp',\n",
       " 'aioitertools',\n",
       " 'aiosignal',\n",
       " 'alabaster',\n",
       " 'altair',\n",
       " 'anaconda_anon_usage',\n",
       " 'anaconda_catalogs',\n",
       " 'anaconda_cloud_auth',\n",
       " 'anaconda_navigator',\n",
       " 'anaconda_project',\n",
       " 'annotated_types',\n",
       " 'anyio',\n",
       " 'appdirs',\n",
       " 'archspec',\n",
       " 'argon2',\n",
       " 'arrow',\n",
       " 'astroid',\n",
       " 'astropy',\n",
       " 'astropy_iers_data',\n",
       " 'asttokens',\n",
       " 'astunparse',\n",
       " 'async_lru',\n",
       " 'atomicwrites',\n",
       " 'attr',\n",
       " 'attrs',\n",
       " 'automat',\n",
       " 'autopep8',\n",
       " 'babel',\n",
       " 'bcrypt',\n",
       " 'binaryornot',\n",
       " 'binstar_client',\n",
       " 'black',\n",
       " 'blackd',\n",
       " 'bleach',\n",
       " 'blib2to3',\n",
       " 'blinker',\n",
       " 'blis',\n",
       " 'bokeh',\n",
       " 'boltons',\n",
       " 'botocore',\n",
       " 'bottleneck',\n",
       " 'brotli',\n",
       " 'bs4',\n",
       " 'cachetools',\n",
       " 'catalogue',\n",
       " 'certifi',\n",
       " 'cffi',\n",
       " 'chardet',\n",
       " 'charset_normalizer',\n",
       " 'clang',\n",
       " 'click',\n",
       " 'cloudpathlib',\n",
       " 'cloudpickle',\n",
       " 'colorama',\n",
       " 'colorcet',\n",
       " 'comm',\n",
       " 'conda',\n",
       " 'conda_build',\n",
       " 'conda_content_trust',\n",
       " 'conda_env',\n",
       " 'conda_index',\n",
       " 'conda_libmamba_solver',\n",
       " 'conda_pack',\n",
       " 'conda_package_handling',\n",
       " 'conda_package_streaming',\n",
       " 'conda_token',\n",
       " 'confection',\n",
       " 'constantly',\n",
       " 'contourpy',\n",
       " 'cookiecutter',\n",
       " 'cpuinfo',\n",
       " 'cryptography',\n",
       " 'cssselect',\n",
       " 'curl',\n",
       " 'cycler',\n",
       " 'cymem',\n",
       " 'cython',\n",
       " 'cytoolz',\n",
       " 'dask',\n",
       " 'dask_expr',\n",
       " 'datashader',\n",
       " 'dateutil',\n",
       " 'debugpy',\n",
       " 'decorator',\n",
       " 'defusedxml',\n",
       " 'diff_match_patch',\n",
       " 'dill',\n",
       " 'distributed',\n",
       " 'distro',\n",
       " 'docstring_to_markdown',\n",
       " 'docutils',\n",
       " 'dotenv',\n",
       " 'en_core_web_sm',\n",
       " 'entrypoints',\n",
       " 'erfa',\n",
       " 'et_xmlfile',\n",
       " 'executing',\n",
       " 'fastjsonschema',\n",
       " 'filelock',\n",
       " 'flake8',\n",
       " 'flask',\n",
       " 'flatbuffers',\n",
       " 'fontTools',\n",
       " 'frozendict',\n",
       " 'frozenlist',\n",
       " 'fsspec',\n",
       " 'gast',\n",
       " 'gensim',\n",
       " 'git',\n",
       " 'gitdb',\n",
       " 'greenlet',\n",
       " 'grpc',\n",
       " 'h11',\n",
       " 'h5py',\n",
       " 'heapdict',\n",
       " 'holoviews',\n",
       " 'html5lib',\n",
       " 'huggingface_hub',\n",
       " 'hvplot',\n",
       " 'hyperlink',\n",
       " 'idna',\n",
       " 'imagecodecs',\n",
       " 'imageio',\n",
       " 'imagesize',\n",
       " 'imblearn',\n",
       " 'importlib_metadata',\n",
       " 'incremental',\n",
       " 'inflection',\n",
       " 'iniconfig',\n",
       " 'intake',\n",
       " 'intervaltree',\n",
       " 'ipykernel',\n",
       " 'ipykernel_launcher',\n",
       " 'ipython_genutils',\n",
       " 'ipywidgets',\n",
       " 'isapi',\n",
       " 'isort',\n",
       " 'isympy',\n",
       " 'itemadapter',\n",
       " 'itemloaders',\n",
       " 'itsdangerous',\n",
       " 'jedi',\n",
       " 'jellyfish',\n",
       " 'jinja2',\n",
       " 'jmespath',\n",
       " 'joblib',\n",
       " 'json5',\n",
       " 'jsonpatch',\n",
       " 'jsonpointer',\n",
       " 'jsonschema',\n",
       " 'jsonschema_specifications',\n",
       " 'jupyter',\n",
       " 'jupyter_client',\n",
       " 'jupyter_console',\n",
       " 'jupyter_core',\n",
       " 'jupyter_events',\n",
       " 'jupyter_lsp',\n",
       " 'jupyter_server',\n",
       " 'jupyter_server_terminals',\n",
       " 'jupyterlab',\n",
       " 'jupyterlab_plotly',\n",
       " 'jupyterlab_pygments',\n",
       " 'jupyterlab_server',\n",
       " 'jupyterlab_widgets',\n",
       " 'jwt',\n",
       " 'keras',\n",
       " 'keyring',\n",
       " 'kiwisolver',\n",
       " 'langcodes',\n",
       " 'language_data',\n",
       " 'lazy_loader',\n",
       " 'lazy_object_proxy',\n",
       " 'lckr_jupyterlab_variableinspector',\n",
       " 'libarchive',\n",
       " 'libmambapy',\n",
       " 'lief',\n",
       " 'lightgbm',\n",
       " 'linkify_it',\n",
       " 'llvmlite',\n",
       " 'lmdb',\n",
       " 'locket',\n",
       " 'lxml',\n",
       " 'lz4',\n",
       " 'marisa_trie',\n",
       " 'markdown',\n",
       " 'markdown_it',\n",
       " 'markupsafe',\n",
       " 'matplotlib',\n",
       " 'matplotlib_inline',\n",
       " 'mccabe',\n",
       " 'mdit_py_plugins',\n",
       " 'mdurl',\n",
       " 'menuinst',\n",
       " 'mistune',\n",
       " 'mkl',\n",
       " 'mkl_fft',\n",
       " 'ml_dtypes',\n",
       " 'more_itertools',\n",
       " 'mpmath',\n",
       " 'msgpack',\n",
       " 'multidict',\n",
       " 'multipledispatch',\n",
       " 'murmurhash',\n",
       " 'mypy',\n",
       " 'mypy_extensions',\n",
       " 'mypyc',\n",
       " 'nacl',\n",
       " 'namex',\n",
       " 'navigator_updater',\n",
       " 'nbclient',\n",
       " 'nbconvert',\n",
       " 'nbformat',\n",
       " 'nest_asyncio',\n",
       " 'networkx',\n",
       " 'nltk',\n",
       " 'notebook',\n",
       " 'notebook_shim',\n",
       " 'numba',\n",
       " 'numbergen',\n",
       " 'numexpr',\n",
       " 'numpy',\n",
       " 'numpydoc',\n",
       " 'openpyxl',\n",
       " 'opt_einsum',\n",
       " 'optree',\n",
       " 'outcome',\n",
       " 'overrides',\n",
       " 'packaging',\n",
       " 'pandas',\n",
       " 'pandocfilters',\n",
       " 'panel',\n",
       " 'param',\n",
       " 'paramiko',\n",
       " 'parsel',\n",
       " 'parso',\n",
       " 'partd',\n",
       " 'pasta',\n",
       " 'pathspec',\n",
       " 'patsy',\n",
       " 'pexpect',\n",
       " 'pickleshare',\n",
       " 'pip',\n",
       " 'pkce',\n",
       " 'pkg_resources',\n",
       " 'pkginfo',\n",
       " 'platformdirs',\n",
       " 'plotly',\n",
       " 'pluggy',\n",
       " 'ply',\n",
       " 'preshed',\n",
       " 'prometheus_client',\n",
       " 'prompt_toolkit',\n",
       " 'protego',\n",
       " 'psutil',\n",
       " 'ptyprocess',\n",
       " 'pure_eval',\n",
       " 'py',\n",
       " 'pyarrow',\n",
       " 'pyasn1',\n",
       " 'pyasn1_modules',\n",
       " 'pycodestyle',\n",
       " 'pycosat',\n",
       " 'pycparser',\n",
       " 'pyct',\n",
       " 'pycurl',\n",
       " 'pydantic',\n",
       " 'pydantic_core',\n",
       " 'pydeck',\n",
       " 'pydispatch',\n",
       " 'pydocstyle',\n",
       " 'pyflakes',\n",
       " 'pygments',\n",
       " 'pylab',\n",
       " 'pylint',\n",
       " 'pylint_venv',\n",
       " 'pyls_spyder',\n",
       " 'pylsp',\n",
       " 'pylsp_black',\n",
       " 'pylsp_jsonrpc',\n",
       " 'pyodbc',\n",
       " 'pyparsing',\n",
       " 'pytest',\n",
       " 'pythoncom',\n",
       " 'pythonjsonlogger',\n",
       " 'pytoolconfig',\n",
       " 'pytz',\n",
       " 'pyviz_comms',\n",
       " 'pywt',\n",
       " 'pyximport',\n",
       " 'qdarkstyle',\n",
       " 'qstylizer',\n",
       " 'qtawesome',\n",
       " 'qtconsole',\n",
       " 'qtpy',\n",
       " 'queuelib',\n",
       " 'rapidfuzz',\n",
       " 'referencing',\n",
       " 'regex',\n",
       " 'repo_cli',\n",
       " 'requests',\n",
       " 'requests_file',\n",
       " 'requests_toolbelt',\n",
       " 'rfc3339_validator',\n",
       " 'rfc3986_validator',\n",
       " 'rich',\n",
       " 'rope',\n",
       " 'rpds',\n",
       " 'rtree',\n",
       " 'ruamel_yaml',\n",
       " 's3fs',\n",
       " 'safetensors',\n",
       " 'scapy',\n",
       " 'scipy',\n",
       " 'scrapy',\n",
       " 'seaborn',\n",
       " 'selenium',\n",
       " 'semver',\n",
       " 'send2trash',\n",
       " 'service_identity',\n",
       " 'setuptools',\n",
       " 'shellingham',\n",
       " 'sipbuild',\n",
       " 'six',\n",
       " 'skimage',\n",
       " 'sklearn',\n",
       " 'slugify',\n",
       " 'smart_open',\n",
       " 'smmap',\n",
       " 'snappy',\n",
       " 'sniffio',\n",
       " 'snowballstemmer',\n",
       " 'socks',\n",
       " 'sockshandler',\n",
       " 'sortedcontainers',\n",
       " 'soupsieve',\n",
       " 'spacy',\n",
       " 'spacy_legacy',\n",
       " 'spacy_loggers',\n",
       " 'sphinx',\n",
       " 'spyder',\n",
       " 'spyder_kernels',\n",
       " 'sqlalchemy',\n",
       " 'srsly',\n",
       " 'stack_data',\n",
       " 'statsmodels',\n",
       " 'streamlit',\n",
       " 'sympy',\n",
       " 'tables',\n",
       " 'tabulate',\n",
       " 'tblib',\n",
       " 'tenacity',\n",
       " 'tensorboard',\n",
       " 'tensorboard_data_server',\n",
       " 'tensorflow',\n",
       " 'termcolor',\n",
       " 'terminado',\n",
       " 'test_pycosat',\n",
       " 'text_unidecode',\n",
       " 'textdistance',\n",
       " 'tf_keras',\n",
       " 'thinc',\n",
       " 'threadpoolctl',\n",
       " 'three_merge',\n",
       " 'tifffile',\n",
       " 'tinycss2',\n",
       " 'tldextract',\n",
       " 'tlz',\n",
       " 'tokenizers',\n",
       " 'toml',\n",
       " 'tomli',\n",
       " 'tomlkit',\n",
       " 'toolz',\n",
       " 'tornado',\n",
       " 'tqdm',\n",
       " 'traitlets',\n",
       " 'transformers',\n",
       " 'trio',\n",
       " 'trio_websocket',\n",
       " 'truststore',\n",
       " 'twisted',\n",
       " 'typer',\n",
       " 'typing_extensions',\n",
       " 'tzdata',\n",
       " 'uc_micro',\n",
       " 'ujson',\n",
       " 'unicodedata2',\n",
       " 'unidecode',\n",
       " 'urllib3',\n",
       " 'w3lib',\n",
       " 'wasabi',\n",
       " 'watchdog',\n",
       " 'wcwidth',\n",
       " 'weasel',\n",
       " 'webencodings',\n",
       " 'websocket',\n",
       " 'werkzeug',\n",
       " 'whatthepatch',\n",
       " 'wheel',\n",
       " 'widgetsnbextension',\n",
       " 'win32com',\n",
       " 'win32ctypes',\n",
       " 'win_inet_pton',\n",
       " 'winpty',\n",
       " 'wrapt',\n",
       " 'wsproto',\n",
       " 'xarray',\n",
       " 'xgboost',\n",
       " 'xlwings',\n",
       " 'xlwingsjs',\n",
       " 'xyzservices',\n",
       " 'yaml',\n",
       " 'yapf',\n",
       " 'yapf_third_party',\n",
       " 'yapftests',\n",
       " 'yarl',\n",
       " 'zict',\n",
       " 'zipp',\n",
       " 'zmq',\n",
       " 'zope',\n",
       " 'zstandard',\n",
       " '_win32sysloader',\n",
       " '_winxptheme',\n",
       " 'dde',\n",
       " 'mmapfile',\n",
       " 'odbc',\n",
       " 'perfmon',\n",
       " 'servicemanager',\n",
       " 'timer',\n",
       " 'win32api',\n",
       " 'win32clipboard',\n",
       " 'win32console',\n",
       " 'win32cred',\n",
       " 'win32crypt',\n",
       " 'win32event',\n",
       " 'win32evtlog',\n",
       " 'win32file',\n",
       " 'win32gui',\n",
       " 'win32help',\n",
       " 'win32inet',\n",
       " 'win32job',\n",
       " 'win32lz',\n",
       " 'win32net',\n",
       " 'win32pdh',\n",
       " 'win32pipe',\n",
       " 'win32print',\n",
       " 'win32process',\n",
       " 'win32profile',\n",
       " 'win32ras',\n",
       " 'win32security',\n",
       " 'win32service',\n",
       " 'win32trace',\n",
       " 'win32transaction',\n",
       " 'win32ts',\n",
       " 'win32ui',\n",
       " 'win32uiole',\n",
       " 'win32wnet',\n",
       " 'winxpgui',\n",
       " 'afxres',\n",
       " 'commctrl',\n",
       " 'dbi',\n",
       " 'mmsystem',\n",
       " 'netbios',\n",
       " 'ntsecuritycon',\n",
       " 'pywin32_bootstrap',\n",
       " 'pywin32_testutil',\n",
       " 'pywintypes',\n",
       " 'rasutil',\n",
       " 'regcheck',\n",
       " 'regutil',\n",
       " 'sspi',\n",
       " 'sspicon',\n",
       " 'win2kras',\n",
       " 'win32con',\n",
       " 'win32cryptcon',\n",
       " 'win32evtlogutil',\n",
       " 'win32gui_struct',\n",
       " 'win32inetcon',\n",
       " 'win32netcon',\n",
       " 'win32pdhquery',\n",
       " 'win32pdhutil',\n",
       " 'win32rcparser',\n",
       " 'win32serviceutil',\n",
       " 'win32timezone',\n",
       " 'win32traceutil',\n",
       " 'win32verstamp',\n",
       " 'winerror',\n",
       " 'winioctlcon',\n",
       " 'winnt',\n",
       " 'winperf',\n",
       " 'winxptheme',\n",
       " 'pywin']"
      ]
     },
     "execution_count": 29,
     "metadata": {},
     "output_type": "execute_result"
    }
   ],
   "source": [
    "import pkgutil\n",
    "li = []\n",
    "# List all installed modules\n",
    "for module in pkgutil.iter_modules():\n",
    "    li.append(module.name)\n",
    "\n",
    "li"
   ]
  },
  {
   "cell_type": "code",
   "execution_count": 40,
   "id": "8e85d1c6-8ff2-41ed-a64d-9ece9f0ebfdf",
   "metadata": {},
   "outputs": [
    {
     "name": "stdout",
     "output_type": "stream",
     "text": [
      "<class 'dict'>\n"
     ]
    }
   ],
   "source": [
    "import json          #Javascript Object Notation\n",
    "a = '{\"name\": \"John\",\"age\": \"30\",\"city\": \"New York\"}'\n",
    "print(type(json.loads(a)))"
   ]
  },
  {
   "cell_type": "code",
   "execution_count": 41,
   "id": "b53a8fa3-f161-4eae-bcb0-ffddd8cd9348",
   "metadata": {},
   "outputs": [
    {
     "name": "stdout",
     "output_type": "stream",
     "text": [
      "{'name': 'John', 'age': '30', 'city': 'New York'}\n"
     ]
    }
   ],
   "source": [
    "print((json.loads(a)))"
   ]
  },
  {
   "cell_type": "code",
   "execution_count": 42,
   "id": "662adce0-d149-415e-95ca-db535f2645d6",
   "metadata": {},
   "outputs": [
    {
     "data": {
      "text/plain": [
       "['__and__',\n",
       " '__class__',\n",
       " '__class_getitem__',\n",
       " '__contains__',\n",
       " '__delattr__',\n",
       " '__dir__',\n",
       " '__doc__',\n",
       " '__eq__',\n",
       " '__format__',\n",
       " '__ge__',\n",
       " '__getattribute__',\n",
       " '__getstate__',\n",
       " '__gt__',\n",
       " '__hash__',\n",
       " '__init__',\n",
       " '__init_subclass__',\n",
       " '__iter__',\n",
       " '__le__',\n",
       " '__len__',\n",
       " '__lt__',\n",
       " '__ne__',\n",
       " '__new__',\n",
       " '__or__',\n",
       " '__rand__',\n",
       " '__reduce__',\n",
       " '__reduce_ex__',\n",
       " '__repr__',\n",
       " '__ror__',\n",
       " '__rsub__',\n",
       " '__rxor__',\n",
       " '__setattr__',\n",
       " '__sizeof__',\n",
       " '__str__',\n",
       " '__sub__',\n",
       " '__subclasshook__',\n",
       " '__xor__',\n",
       " 'copy',\n",
       " 'difference',\n",
       " 'intersection',\n",
       " 'isdisjoint',\n",
       " 'issubset',\n",
       " 'issuperset',\n",
       " 'symmetric_difference',\n",
       " 'union']"
      ]
     },
     "execution_count": 42,
     "metadata": {},
     "output_type": "execute_result"
    }
   ],
   "source": [
    "dir(frozenset)"
   ]
  },
  {
   "cell_type": "code",
   "execution_count": 44,
   "id": "957c61ed-6626-4051-8ec2-f6d197838b71",
   "metadata": {},
   "outputs": [
    {
     "name": "stdout",
     "output_type": "stream",
     "text": [
      "1\n",
      "2\n",
      "3\n",
      "4\n",
      "5\n",
      "6\n"
     ]
    },
    {
     "data": {
      "text/plain": [
       "21"
      ]
     },
     "execution_count": 44,
     "metadata": {},
     "output_type": "execute_result"
    }
   ],
   "source": [
    "def fun(*args):\n",
    "    for i in args:\n",
    "        print(i)\n",
    "    return sum(args)\n",
    "fun(1,2,3,4,5,6)"
   ]
  },
  {
   "cell_type": "code",
   "execution_count": 52,
   "id": "264fc73b-4295-449e-8f0f-03cd1eb8d016",
   "metadata": {},
   "outputs": [
    {
     "name": "stdout",
     "output_type": "stream",
     "text": [
      "a ONE\n",
      "b TWO\n",
      "c THREE\n",
      "d FOUR\n",
      "e FIVE\n",
      "f SIX\n"
     ]
    }
   ],
   "source": [
    "def fun(**kwargs):\n",
    "    for i,j in kwargs.items():\n",
    "        print(i,j.upper())\n",
    "        \n",
    "fun(a = \"one\",b = \"two\",c = \"three\",d = \"four\",e = \"five\",f = \"six\")"
   ]
  },
  {
   "cell_type": "markdown",
   "id": "1913f255-78dd-430e-bcb9-e571f6387d20",
   "metadata": {},
   "source": [
    "# Decorators"
   ]
  },
  {
   "cell_type": "code",
   "execution_count": 51,
   "id": "9d0680e1-faf2-4759-bb42-01235824ccb8",
   "metadata": {
    "scrolled": true
   },
   "outputs": [
    {
     "name": "stdout",
     "output_type": "stream",
     "text": [
      "Execution time: 0.9973049164 ms\n",
      "Execution time: 0.9970664978 ms\n"
     ]
    }
   ],
   "source": [
    "import time\n",
    "def time_it(func):\n",
    "    def wrapper(*arg):\n",
    "        start = time.time()\n",
    "        result = func(*arg)\n",
    "        end = time.time()\n",
    "        print(f\"Execution time: {(end - start) * 1000:.10f} ms\")\n",
    "    return wrapper\n",
    "\n",
    "@time_it\n",
    "def sqaure(nums):\n",
    "    li = []\n",
    "    for num in nums:\n",
    "        li.append(num * num)\n",
    "    return li\n",
    "\n",
    "@time_it\n",
    "def cube(nums):\n",
    "    li1 = []\n",
    "    for num in nums:\n",
    "        li1.append(num * num * num)\n",
    "    return li1\n",
    "\n",
    "arra = range(1,10000)\n",
    "val1 = square(arra)\n",
    "val = cube(arra)\n"
   ]
  },
  {
   "cell_type": "markdown",
   "id": "eeead463-4eea-45bc-a110-868ae1f7815f",
   "metadata": {},
   "source": [
    "# iterator"
   ]
  },
  {
   "cell_type": "code",
   "execution_count": 49,
   "id": "9e5dda0f-4747-4f05-b592-3e9783b72211",
   "metadata": {},
   "outputs": [],
   "source": [
    "s = [1,2,3,4,5,6,7]\n"
   ]
  },
  {
   "cell_type": "code",
   "execution_count": 52,
   "id": "e504217b-a6c5-4642-90f3-c9a55997d124",
   "metadata": {},
   "outputs": [],
   "source": [
    "a = iter(s)\n"
   ]
  },
  {
   "cell_type": "code",
   "execution_count": 60,
   "id": "9153d301-d784-4c54-92f7-f423c0c7bdf4",
   "metadata": {},
   "outputs": [
    {
     "ename": "StopIteration",
     "evalue": "",
     "output_type": "error",
     "traceback": [
      "\u001b[1;31m---------------------------------------------------------------------------\u001b[0m",
      "\u001b[1;31mStopIteration\u001b[0m                             Traceback (most recent call last)",
      "Cell \u001b[1;32mIn[60], line 1\u001b[0m\n\u001b[1;32m----> 1\u001b[0m \u001b[38;5;28mprint\u001b[39m(\u001b[38;5;28mnext\u001b[39m(a))\n",
      "\u001b[1;31mStopIteration\u001b[0m: "
     ]
    }
   ],
   "source": [
    "print(next(a))"
   ]
  },
  {
   "cell_type": "markdown",
   "id": "f60e1e9b-945b-42ac-a14c-8b4dfbc783d8",
   "metadata": {},
   "source": [
    "# Generator"
   ]
  },
  {
   "cell_type": "code",
   "execution_count": 83,
   "id": "270e2c8b-f6d7-4e06-80d5-298ba0d99fce",
   "metadata": {},
   "outputs": [
    {
     "name": "stdout",
     "output_type": "stream",
     "text": [
      "0\n",
      "1\n",
      "4\n"
     ]
    }
   ],
   "source": [
    "def fun(n):\n",
    "    for i in range(n):\n",
    "        yield(i ** 2)\n",
    "\n",
    "for i in fun(3):\n",
    "    print(i)"
   ]
  },
  {
   "cell_type": "code",
   "execution_count": 62,
   "id": "2ba2de13-3752-4ef3-83a1-fe6574cc9d13",
   "metadata": {},
   "outputs": [
    {
     "data": {
      "text/plain": [
       "<generator object number_generator at 0x000002290D2CE400>"
      ]
     },
     "execution_count": 62,
     "metadata": {},
     "output_type": "execute_result"
    }
   ],
   "source": [
    "def number_generator(n):\n",
    "    \"\"\"A simple generator that yields numbers from 0 to n-1.\"\"\"\n",
    "    for i in range(n):\n",
    "        yield i  # Yield the current number\n",
    "\n",
    "# Using the number generator\n",
    "number_generator(5)\n"
   ]
  },
  {
   "cell_type": "markdown",
   "id": "133aa3c6-9fea-4f70-9272-0b014be9468d",
   "metadata": {},
   "source": [
    "# RegExp"
   ]
  },
  {
   "cell_type": "code",
   "execution_count": 84,
   "id": "1a312865-94bf-4a4e-94ad-c458cfe6afa3",
   "metadata": {},
   "outputs": [
    {
     "name": "stdout",
     "output_type": "stream",
     "text": [
      "true\n"
     ]
    }
   ],
   "source": [
    "import re \n",
    "a = \"This is dwarakesh\"\n",
    "x = re.search(\"dwar\",a)       # This is case sensitive\n",
    "if x :\n",
    "    print(\"true\")\n",
    "else:\n",
    "    print(\"f\")"
   ]
  },
  {
   "cell_type": "code",
   "execution_count": 85,
   "id": "a9af0c4e-2555-49ef-b277-fb7e9e9e9f89",
   "metadata": {},
   "outputs": [
    {
     "name": "stdout",
     "output_type": "stream",
     "text": [
      "true ['This is dwarakesh ', ' 2 3 4 3 ', ' 2 3 ', '']\n"
     ]
    }
   ],
   "source": [
    "import re \n",
    "a = \"This is dwarakesh 1 2 3 4 3 1 2 3 1\"\n",
    "x = re.split(\"1\",a)       # This is case sensitive\n",
    "if x :\n",
    "    print(\"true\",x)\n",
    "else:\n",
    "    print(\"f\")"
   ]
  },
  {
   "cell_type": "code",
   "execution_count": 86,
   "id": "0804932e-1e59-4d26-81d3-c5df642eec64",
   "metadata": {},
   "outputs": [
    {
     "name": "stdout",
     "output_type": "stream",
     "text": [
      "true ['dwar']\n"
     ]
    }
   ],
   "source": [
    "import re \n",
    "a = \"This is dwarakesh\"\n",
    "x = re.findall(\"dwar\",a)       # This is case sensitive\n",
    "if x :\n",
    "    print(\"true\",x)\n",
    "else:\n",
    "    print(\"f\")"
   ]
  },
  {
   "cell_type": "code",
   "execution_count": 11,
   "id": "b197cac3-d670-4307-b57c-d5160d7b40a6",
   "metadata": {},
   "outputs": [
    {
     "name": "stdout",
     "output_type": "stream",
     "text": [
      "h\n",
      "he\n",
      "hel\n",
      "hell\n",
      "hello\n",
      "hello \n",
      "hello w\n",
      "hello wo\n",
      "hello wor\n",
      "hello worl\n",
      "hello world\n"
     ]
    }
   ],
   "source": [
    "import time \n",
    "li = []\n",
    "for i in \"hello world\":\n",
    "    time.sleep(0.35)\n",
    "    li.append(i)\n",
    "    print(\"\".join(li))"
   ]
  },
  {
   "cell_type": "code",
   "execution_count": 26,
   "id": "5e8e34ad-d969-4f85-ac03-975c01213d40",
   "metadata": {},
   "outputs": [
    {
     "data": {
      "text/plain": [
       "[('Éléonore', 'inactive')]"
      ]
     },
     "execution_count": 26,
     "metadata": {},
     "output_type": "execute_result"
    }
   ],
   "source": [
    "users = {'Hans': 'active', 'Éléonore': 'inactive', '景太郎': 'active'}\n",
    "a =users.items()\n",
    "li = []\n",
    "li1 = []\n",
    "li2 = []\n",
    "for i in a:\n",
    "    if len(li) == 0:\n",
    "        li.append(i)\n",
    "    elif len(li1) == 0:\n",
    "        li1.append(i)\n",
    "    elif len(li2) == 0:\n",
    "        li2.append(i)\n",
    "\n",
    "li\n",
    "li2\n",
    "li1"
   ]
  },
  {
   "cell_type": "code",
   "execution_count": 40,
   "id": "c5f94f1a-13da-4b02-bbf8-c85c24df0e4a",
   "metadata": {},
   "outputs": [
    {
     "data": {
      "text/plain": [
       "4"
      ]
     },
     "execution_count": 40,
     "metadata": {},
     "output_type": "execute_result"
    }
   ],
   "source": [
    "class Point:\n",
    "    def __init__(self, x, y):\n",
    "        self.x = x\n",
    "        self.y = y\n",
    "def fun(Point):\n",
    "    return Point.x + Point.y\n",
    "    \n",
    "obj = Point(1,3)\n",
    "fun(obj)"
   ]
  },
  {
   "cell_type": "code",
   "execution_count": 54,
   "id": "2f297b55-1d2f-428f-8280-6eb21f8f0b2b",
   "metadata": {},
   "outputs": [
    {
     "name": "stdin",
     "output_type": "stream",
     "text": [
      "enter the respose:  d\n"
     ]
    },
    {
     "name": "stdout",
     "output_type": "stream",
     "text": [
      "\n",
      "invalid response you have 3 try\n"
     ]
    },
    {
     "name": "stdin",
     "output_type": "stream",
     "text": [
      "enter the respose:  yes\n"
     ]
    },
    {
     "name": "stdout",
     "output_type": "stream",
     "text": [
      "hello to the website\n"
     ]
    }
   ],
   "source": [
    "re = 0\n",
    "while True:\n",
    "    a  = input(\"enter the respose: \")\n",
    "    if a in [\"yes\",\"y\",\"yep\"]:\n",
    "        print(\"hello to the website\")\n",
    "        break\n",
    "    else:\n",
    "        re = re + 1\n",
    "        print()\n",
    "        if re >= 4:\n",
    "            print(\"sorry we cant able to connect to the website\")\n",
    "            break\n",
    "        val = abs(re - 4)\n",
    "        print(f\"invalid response you have {val} try\")"
   ]
  },
  {
   "cell_type": "code",
   "execution_count": 74,
   "id": "4730615d-e267-4ec8-bf1e-8c4c7013198b",
   "metadata": {},
   "outputs": [
    {
     "name": "stdout",
     "output_type": "stream",
     "text": [
      "1 3\n",
      "2 4\n",
      "3 5\n",
      "34 4\n",
      "45 5\n",
      "5 7\n"
     ]
    }
   ],
   "source": [
    "def fun(**kwargs):\n",
    "    for i, j in kwargs.items():\n",
    "        print(i, j)\n",
    "val = {'1': 3, '2': 4, '3': 5, \"34\": 4, \"45\": 5, '5': 7}\n",
    "fun(**val)\n"
   ]
  },
  {
   "cell_type": "code",
   "execution_count": 96,
   "id": "7bd3c2cf-6e7d-4e8c-ad64-c7905f24b004",
   "metadata": {},
   "outputs": [
    {
     "name": "stdout",
     "output_type": "stream",
     "text": [
      "<class 'list'>\n",
      "<class 'list'>\n"
     ]
    }
   ],
   "source": [
    "l1 = [2, 10, 2]\n",
    "l2 = [3, 4]\n",
    "\n",
    "print(type(list(range(*l1))))    # unpacking \n",
    "print(type(list(range(2,10,2))))"
   ]
  },
  {
   "cell_type": "code",
   "execution_count": 97,
   "id": "a12ca553-3e2d-43d2-93d0-0e4dbe98d860",
   "metadata": {},
   "outputs": [
    {
     "name": "stdout",
     "output_type": "stream",
     "text": [
      "Unpacking time: 0.04311699999925622\n",
      "Direct passing time: 0.024717899999814108\n"
     ]
    }
   ],
   "source": [
    "import timeit\n",
    "\n",
    "# Using unpacking\n",
    "unpacking_time = timeit.timeit('list(range(*[2, 10, 2]))', number=100000)\n",
    "\n",
    "# Direct argument passing\n",
    "direct_time = timeit.timeit('list(range(2, 10, 2))', number=100000)\n",
    "\n",
    "print(f\"Unpacking time: {unpacking_time}\")\n",
    "print(f\"Direct passing time: {direct_time}\")\n"
   ]
  },
  {
   "cell_type": "code",
   "execution_count": 108,
   "id": "e78130d4-82a6-4e08-b7d3-5034ea92491b",
   "metadata": {},
   "outputs": [
    {
     "name": "stdout",
     "output_type": "stream",
     "text": [
      "Do nothing, but document it.\n",
      "\n",
      "    No, really, it doesn't do anything.\n",
      "    \n"
     ]
    }
   ],
   "source": [
    "def my_function():\n",
    "    \"\"\"Do nothing, but document it.\n",
    "\n",
    "    No, really, it doesn't do anything.\n",
    "    \"\"\"\n",
    "    pass\n",
    "\n",
    "print(my_function.__doc__)"
   ]
  },
  {
   "cell_type": "code",
   "execution_count": 105,
   "id": "69252771-34aa-4473-b5f2-536487331ce1",
   "metadata": {},
   "outputs": [
    {
     "data": {
      "text/plain": [
       "\"Do nothing, but document it.\\n\\n    No, really, it doesn't do anything.\\n    \""
      ]
     },
     "execution_count": 105,
     "metadata": {},
     "output_type": "execute_result"
    }
   ],
   "source": [
    "\"\"\"Do nothing, but document it.\n",
    "\n",
    "    No, really, it doesn't do anything.\n",
    "    \"\"\""
   ]
  },
  {
   "cell_type": "code",
   "execution_count": 107,
   "id": "bb656d30-bdfd-4cb6-ba1f-329294861e3d",
   "metadata": {},
   "outputs": [
    {
     "data": {
      "text/plain": [
       "str"
      ]
     },
     "execution_count": 107,
     "metadata": {},
     "output_type": "execute_result"
    }
   ],
   "source": [
    "type(\"\"\"Do nothing, but document it.\n",
    "\n",
    "    No, really, it doesn't do anything.\n",
    "    \"\"\")"
   ]
  },
  {
   "cell_type": "code",
   "execution_count": 112,
   "id": "ecd94d93-912c-4973-b016-e08a3ea08568",
   "metadata": {},
   "outputs": [
    {
     "name": "stdin",
     "output_type": "stream",
     "text": [
      "entter the word Do nothing, but document it.      No, really, it doesn't do anything.\n"
     ]
    },
    {
     "name": "stdout",
     "output_type": "stream",
     "text": [
      "None\n"
     ]
    }
   ],
   "source": [
    "def my_function(val):\n",
    "    val\n",
    "    pass\n",
    "\n",
    "num = input(\"entter the word\")\n",
    "val = f\"\"\"{num}\"\"\"\n",
    "print(my_function(val).__doc__)"
   ]
  },
  {
   "cell_type": "code",
   "execution_count": null,
   "id": "01a4a391-6724-4aa0-8678-d3f9560e1dee",
   "metadata": {},
   "outputs": [],
   "source": [
    "def my_function(val):\n",
    "    \"\"\"This function takes a value and does nothing with it.\"\"\"\n",
    "    pass  # You can implement the desired functionality here later\n",
    "\n",
    "num = input(\"Enter a word: \")\n",
    "val = f\"\"\"{num}\"\"\"  # This is effectively just a formatted string of the input\n",
    "print(my_function(val).__doc__)  # Accessing the docstring of the function\n"
   ]
  },
  {
   "cell_type": "code",
   "execution_count": 13,
   "id": "649640c4-7fe9-4c8f-b555-2394a9439334",
   "metadata": {},
   "outputs": [
    {
     "data": {
      "text/plain": [
       "[1, 2, 5, 3, 4]"
      ]
     },
     "execution_count": 13,
     "metadata": {},
     "output_type": "execute_result"
    }
   ],
   "source": [
    "a = [1,2,3,4]\n",
    "a.insert(2,5)\n",
    "a"
   ]
  },
  {
   "cell_type": "code",
   "execution_count": 14,
   "id": "a29d5fec-397d-467c-a93f-7adaa708b085",
   "metadata": {},
   "outputs": [
    {
     "data": {
      "text/plain": [
       "[1, 5, 3, 4]"
      ]
     },
     "execution_count": 14,
     "metadata": {},
     "output_type": "execute_result"
    }
   ],
   "source": [
    "a.remove(2)\n",
    "a"
   ]
  },
  {
   "cell_type": "code",
   "execution_count": 16,
   "id": "626fea7f-3f19-4307-8e45-6d684fc46dad",
   "metadata": {},
   "outputs": [
    {
     "data": {
      "text/plain": [
       "[1, 5, 3]"
      ]
     },
     "execution_count": 16,
     "metadata": {},
     "output_type": "execute_result"
    }
   ],
   "source": [
    "a.pop()\n",
    "a"
   ]
  },
  {
   "cell_type": "markdown",
   "id": "bbafa1dc-8058-43fc-981f-2443bfdc4896",
   "metadata": {},
   "source": [
    "# Stack "
   ]
  },
  {
   "cell_type": "code",
   "execution_count": 66,
   "id": "d3069b2d-14c9-4bb3-90c8-c90a280ce22b",
   "metadata": {},
   "outputs": [
    {
     "name": "stdout",
     "output_type": "stream",
     "text": [
      "[1]\n",
      "[1, 2]\n",
      "[1, 2, 3]\n",
      "[1, 2, 3, 4]\n",
      "[1, 2, 3, 4, 5]\n",
      "[1, 2, 3, 4, 5, 6]\n",
      "[1, 2, 3, 4, 5, 6, 7]\n",
      "[1, 2, 3, 4, 5, 6, 7, 8]\n",
      "[1, 2, 3, 4, 5, 6, 7, 8, 9]\n",
      "[1, 2, 3, 4, 5, 6, 7, 8, 9, 10]\n",
      "[1, 2, 3, 4, 5, 6, 7, 8, 9]\n",
      "[1, 2, 3, 4, 5, 6, 7, 8]\n",
      "[1, 2, 3, 4, 5, 6, 7]\n",
      "[1, 2, 3, 4, 5, 6]\n",
      "[1, 2, 3, 4, 5]\n",
      "[1, 2, 3, 4]\n",
      "[1, 2, 3]\n",
      "[1, 2]\n",
      "[1]\n",
      "10017.504215240479\n"
     ]
    }
   ],
   "source": [
    "import time\n",
    "l = []\n",
    "start = time.time()\n",
    "for i in [1,2,3,4,5,6,7,8,9,10]:\n",
    "    l.append(i)\n",
    "    time.sleep(0.5)\n",
    "    print(l)\n",
    "else:\n",
    "    time.sleep(0.5)\n",
    "    for j in range(len(l)-1):\n",
    "        l.pop()\n",
    "        print(l)\n",
    "        time.sleep(0.5)\n",
    "end = time.time()\n",
    "print((end-start)*1000)"
   ]
  },
  {
   "cell_type": "code",
   "execution_count": 69,
   "id": "3651235e-c61f-4e4f-bad2-9b0b124f3db9",
   "metadata": {},
   "outputs": [
    {
     "name": "stdout",
     "output_type": "stream",
     "text": [
      "[1]\n",
      "[1, 2]\n",
      "[1, 2, 3]\n",
      "[1, 2, 3, 4]\n",
      "[1, 2, 3, 4, 5]\n",
      "[1, 2, 3, 4, 5, 6]\n",
      "[1, 2, 3, 4, 5, 6, 7]\n",
      "[1, 2, 3, 4, 5, 6, 7, 8]\n",
      "[1, 2, 3, 4, 5, 6, 7, 8, 9]\n",
      "[1, 2, 3, 4, 5, 6, 7, 8, 9, 10]\n",
      "[1, 2, 3, 4, 5, 6, 7, 8, 9]\n",
      "[1, 2, 3, 4, 5, 6, 7, 8]\n",
      "[1, 2, 3, 4, 5, 6, 7]\n",
      "[1, 2, 3, 4, 5, 6]\n",
      "[1, 2, 3, 4, 5]\n",
      "[1, 2, 3, 4]\n",
      "[1, 2, 3]\n",
      "[1, 2]\n",
      "[1]\n",
      "9515.685081481934\n"
     ]
    }
   ],
   "source": [
    "import time\n",
    "l = []\n",
    "start = time.time()\n",
    "for i in [1,2,3,4,5,6,7,8,9,10]:\n",
    "    l.append(i)\n",
    "    time.sleep(0.5)\n",
    "    print(l)\n",
    "else:\n",
    "    while True:\n",
    "        l.pop()\n",
    "        time.sleep(0.5)\n",
    "        print(l)\n",
    "        if len(l) == 1:\n",
    "            break\n",
    "\n",
    "end = time.time()\n",
    "print((end-start)*1000)"
   ]
  },
  {
   "cell_type": "markdown",
   "id": "ad5aa55a-6b20-4ba7-b64a-0b6fd24792a9",
   "metadata": {},
   "source": [
    "# Quene"
   ]
  },
  {
   "cell_type": "code",
   "execution_count": 1,
   "id": "f0d93b5f-f30e-4219-9a21-db7187b1ce2e",
   "metadata": {},
   "outputs": [
    {
     "name": "stdout",
     "output_type": "stream",
     "text": [
      "deque(['dwara', 'dgvc', 'Gill', 'adarsh', 'guru'])\n",
      "deque(['dgvc', 'Gill', 'adarsh', 'guru'])\n",
      "deque(['Gill', 'adarsh', 'guru'])\n",
      "deque(['adarsh', 'guru'])\n",
      "deque(['guru'])\n"
     ]
    }
   ],
   "source": [
    "from collections import deque\n",
    "queue = deque([\"dwara\", \"dgvc\", \"Gill\"])\n",
    "queue.extend([\"adarsh\",\"guru\"])                   \n",
    "for i in range(len(queue)):\n",
    "    print(queue)\n",
    "    queue.popleft()\n"
   ]
  },
  {
   "cell_type": "markdown",
   "id": "13f1c2c6-a38e-487e-8757-3e1eb999581b",
   "metadata": {},
   "source": [
    "# List compresion"
   ]
  },
  {
   "cell_type": "code",
   "execution_count": 87,
   "id": "76eaeaf7-5462-4fc7-8c2e-e30ae70de5a2",
   "metadata": {},
   "outputs": [
    {
     "data": {
      "text/plain": [
       "[-1, 2, 7, 14, 23, 34, 47, 62, 79]"
      ]
     },
     "execution_count": 87,
     "metadata": {},
     "output_type": "execute_result"
    }
   ],
   "source": [
    "li = list(map(lambda x: x * x - 2,range(1,10)))\n",
    "li"
   ]
  },
  {
   "cell_type": "code",
   "execution_count": 89,
   "id": "ecfb5d16-fc12-4791-9340-c4393b1a1091",
   "metadata": {},
   "outputs": [
    {
     "name": "stdout",
     "output_type": "stream",
     "text": [
      "[-1, 2, 7, 14, 23, 34, 47, 62, 79]\n"
     ]
    }
   ],
   "source": [
    "print([i * i - 2 for i in range(1,10)])"
   ]
  },
  {
   "cell_type": "code",
   "execution_count": 128,
   "id": "7a1c9c95-bf1f-452b-bd1a-d6adc0ccce80",
   "metadata": {},
   "outputs": [
    {
     "data": {
      "text/plain": [
       "[[1, 2, 3, 4],\n",
       " [5, 6, 7, 8],\n",
       " [9, 10, 11, 12],\n",
       " [1, 2, 3, 4],\n",
       " [5, 6, 7, 8],\n",
       " [9, 10, 11, 12],\n",
       " [1, 2, 3, 4],\n",
       " [5, 6, 7, 8],\n",
       " [9, 10, 11, 12]]"
      ]
     },
     "execution_count": 128,
     "metadata": {},
     "output_type": "execute_result"
    }
   ],
   "source": [
    "matrix = [\n",
    "    [1, 2, 3, 4],\n",
    "    [5, 6, 7, 8],\n",
    "    [9, 10, 11, 12],\n",
    "]\n",
    "res = [j for i in matrix for j in matrix]\n",
    "res"
   ]
  },
  {
   "cell_type": "code",
   "execution_count": 131,
   "id": "72ce33c1-eefb-470b-9a75-61e531f11d35",
   "metadata": {},
   "outputs": [
    {
     "data": {
      "text/plain": [
       "[([1, 2, 3, 4],), ([5, 6, 7, 8],), ([9, 10, 11, 12],)]"
      ]
     },
     "execution_count": 131,
     "metadata": {},
     "output_type": "execute_result"
    }
   ],
   "source": [
    "list(zip(matrix))"
   ]
  },
  {
   "cell_type": "code",
   "execution_count": 132,
   "id": "6672e649-f19f-47b2-924c-b274891c2500",
   "metadata": {},
   "outputs": [
    {
     "data": {
      "text/plain": [
       "[(1, 5, 9), (2, 6, 10), (3, 7, 11), (4, 8, 12)]"
      ]
     },
     "execution_count": 132,
     "metadata": {},
     "output_type": "execute_result"
    }
   ],
   "source": [
    "list(zip(*matrix))"
   ]
  },
  {
   "cell_type": "code",
   "execution_count": 139,
   "id": "34bbc8f3-173e-4015-b851-245afc8fe4a2",
   "metadata": {},
   "outputs": [
    {
     "data": {
      "text/plain": [
       "[2, 3, 4, 5, 6, 7, 8, 9]"
      ]
     },
     "execution_count": 139,
     "metadata": {},
     "output_type": "execute_result"
    }
   ],
   "source": [
    "a = list(range(1,10))\n",
    "del(a[0])\n",
    "a"
   ]
  },
  {
   "cell_type": "code",
   "execution_count": 141,
   "id": "67d19759-b329-4340-80eb-f0b2a9cdf2c3",
   "metadata": {},
   "outputs": [
    {
     "data": {
      "text/plain": [
       "[2, 7, 8, 9]"
      ]
     },
     "execution_count": 141,
     "metadata": {},
     "output_type": "execute_result"
    }
   ],
   "source": [
    "del(a[1:3])\n",
    "a"
   ]
  },
  {
   "cell_type": "code",
   "execution_count": 19,
   "id": "0d94e920-c080-4f97-902e-c81a68270f21",
   "metadata": {},
   "outputs": [
    {
     "data": {
      "text/plain": [
       "[(1, 'a'), (2, 'b'), (3, 'c')]"
      ]
     },
     "execution_count": 19,
     "metadata": {},
     "output_type": "execute_result"
    }
   ],
   "source": [
    "result = []\n",
    "a = [1, 2, 3]\n",
    "b = ['a', 'b', 'c']\n",
    "for x,y in zip(a,['a', 'b', 'c']):\n",
    "    result.append((x,y))\n",
    "    \n",
    "\n",
    "result"
   ]
  },
  {
   "cell_type": "code",
   "execution_count": 25,
   "id": "646cb99c-5914-4375-a961-5a221839a7a2",
   "metadata": {},
   "outputs": [
    {
     "name": "stdout",
     "output_type": "stream",
     "text": [
      "[(1, 'a'), (2, 'b'), (3, 'c')]\n"
     ]
    }
   ],
   "source": [
    "result = [(i,j) for i,j in zip(a,b)]\n",
    "print(result)"
   ]
  },
  {
   "cell_type": "code",
   "execution_count": 28,
   "id": "ef02249d-a5ea-4b1a-aac1-1b529555be6b",
   "metadata": {},
   "outputs": [
    {
     "name": "stdout",
     "output_type": "stream",
     "text": [
      "['a', 'b', 'r', 'c', 'd']\n"
     ]
    },
    {
     "data": {
      "text/plain": [
       "['a', 'a', 'a', 'b', 'r', 'a']"
      ]
     },
     "execution_count": 28,
     "metadata": {},
     "output_type": "execute_result"
    }
   ],
   "source": [
    "a = \"abracadabra\"\n",
    "li = []\n",
    "li1 = []\n",
    "for i in a:\n",
    "    if i not in li:\n",
    "        li.append(i)\n",
    "    else:\n",
    "        li1.append(i)\n",
    "print(li)\n",
    "li1"
   ]
  },
  {
   "cell_type": "code",
   "execution_count": 30,
   "id": "b0551e84-fe45-4c27-8eb0-f76cbd3dccc9",
   "metadata": {},
   "outputs": [
    {
     "data": {
      "text/plain": [
       "{'d', 'r'}"
      ]
     },
     "execution_count": 30,
     "metadata": {},
     "output_type": "execute_result"
    }
   ],
   "source": [
    "a = {x for x in 'abracadabra' if x not in 'abc'}\n",
    "a"
   ]
  },
  {
   "cell_type": "code",
   "execution_count": 32,
   "id": "3548f4cc-b763-4b2b-bd6c-7b8d8854977e",
   "metadata": {},
   "outputs": [
    {
     "name": "stdout",
     "output_type": "stream",
     "text": [
      "gallahad\n",
      "robin\n"
     ]
    }
   ],
   "source": [
    "knights = {'gallahad': 'the pure', 'robin': 'the brave'}\n",
    "for k, v in knights.items():\n",
    "    print(k)"
   ]
  },
  {
   "cell_type": "code",
   "execution_count": 39,
   "id": "d9cbcc07-03e9-4272-87f3-5b55fac6c36f",
   "metadata": {},
   "outputs": [
    {
     "name": "stdout",
     "output_type": "stream",
     "text": [
      "(0, 'gallahad')\n",
      "(1, 'the pure')\n",
      "(2, 'robin')\n",
      "(3, 'the brave')\n"
     ]
    }
   ],
   "source": [
    "knights = ['gallahad','the pure','robin','the brave']\n",
    "for k in enumerate(knights):\n",
    "    print(k)"
   ]
  },
  {
   "cell_type": "code",
   "execution_count": 52,
   "id": "777fc82d-04d5-40e7-8529-07abf7d3a544",
   "metadata": {},
   "outputs": [
    {
     "data": {
      "text/plain": [
       "'Hammer Dance'"
      ]
     },
     "execution_count": 52,
     "metadata": {},
     "output_type": "execute_result"
    }
   ],
   "source": [
    "string1, string2, string3 = '', 'Trondheim', 'Hammer Dance'\n",
    "non_null = string1 or string3 or string2 \n",
    "non_null"
   ]
  },
  {
   "cell_type": "code",
   "execution_count": 53,
   "id": "55627c94-51c6-4bdc-8266-a1b660c92653",
   "metadata": {},
   "outputs": [
    {
     "name": "stdout",
     "output_type": "stream",
     "text": [
      "True\n"
     ]
    }
   ],
   "source": [
    "print(False or True or True)"
   ]
  },
  {
   "cell_type": "code",
   "execution_count": 58,
   "id": "975286f4-524b-400b-ac44-ed6f6569c1a3",
   "metadata": {},
   "outputs": [
    {
     "data": {
      "text/plain": [
       "True"
      ]
     },
     "execution_count": 58,
     "metadata": {},
     "output_type": "execute_result"
    }
   ],
   "source": [
    "(1, 2, 3, 4) < (1, 2, 4)       # compare the third element to thrid element in the secound tuple and determent the true"
   ]
  },
  {
   "cell_type": "code",
   "execution_count": 59,
   "id": "9d739c84-428e-4a0a-b130-f4bfd93220c7",
   "metadata": {},
   "outputs": [
    {
     "data": {
      "text/plain": [
       "False"
      ]
     },
     "execution_count": 59,
     "metadata": {},
     "output_type": "execute_result"
    }
   ],
   "source": [
    "(1, 2, 5, 4) < (1, 2, 4)"
   ]
  },
  {
   "cell_type": "code",
   "execution_count": 60,
   "id": "c099601b-341b-40a4-9422-507a76f4a3eb",
   "metadata": {},
   "outputs": [
    {
     "data": {
      "text/plain": [
       "True"
      ]
     },
     "execution_count": 60,
     "metadata": {},
     "output_type": "execute_result"
    }
   ],
   "source": [
    "(1, 2, ('aa', 'ab'))   < (1, 2, ('abc', 'a'), 4)"
   ]
  },
  {
   "cell_type": "code",
   "execution_count": 62,
   "id": "2401d083-5bcc-4c60-beb5-e287132916f6",
   "metadata": {},
   "outputs": [
    {
     "data": {
      "text/plain": [
       "False"
      ]
     },
     "execution_count": 62,
     "metadata": {},
     "output_type": "execute_result"
    }
   ],
   "source": [
    "'ABC' < 'C' < 'Pascal' < 'Python'"
   ]
  },
  {
   "cell_type": "code",
   "execution_count": 63,
   "id": "9702fbd6-8bfb-4692-af75-1c0112405832",
   "metadata": {},
   "outputs": [
    {
     "data": {
      "text/plain": [
       "'Results of the 2016 Referendum'"
      ]
     },
     "execution_count": 63,
     "metadata": {},
     "output_type": "execute_result"
    }
   ],
   "source": [
    "year = 2016\n",
    "event = 'Referendum'\n",
    "f'Results of the {year} {event}'"
   ]
  },
  {
   "cell_type": "code",
   "execution_count": 64,
   "id": "82dbe9eb-6467-4452-9834-9e61636b4fa9",
   "metadata": {},
   "outputs": [
    {
     "name": "stdout",
     "output_type": "stream",
     "text": [
      "The value of x is 32.5, and y is 40000...\n"
     ]
    }
   ],
   "source": [
    "x = 10 * 3.25\n",
    "y = 200 * 200\n",
    "s = 'The value of x is ' + repr(x) + ', and y is ' + repr(y) + '...'\n",
    "print(s)"
   ]
  },
  {
   "cell_type": "markdown",
   "id": "cc2b337d-bca5-4122-8e36-bca02824640f",
   "metadata": {},
   "source": [
    "# File Handling"
   ]
  },
  {
   "cell_type": "code",
   "execution_count": 69,
   "id": "80525246-5f37-453a-8a51-d291c7368c28",
   "metadata": {},
   "outputs": [
    {
     "name": "stdout",
     "output_type": "stream",
     "text": [
      "0\n",
      "Hello, World!\n",
      "\n",
      "7\n",
      "World!\n",
      "\n"
     ]
    }
   ],
   "source": [
    "with open('example.txt', 'w') as file:\n",
    "    file.write('Hello, World!\\n')\n",
    "\n",
    "# Reading from the file\n",
    "with open('example.txt', 'r') as file:\n",
    "    file.seek(0)  \n",
    "    print(file.tell())           \n",
    "    print(file.read())    \n",
    "    file.seek(7)  \n",
    "    print(file.tell())\n",
    "    print(file.read())  "
   ]
  },
  {
   "cell_type": "code",
   "execution_count": 3,
   "id": "8b5e1c0e-c772-4950-9b08-64c8d1658a37",
   "metadata": {},
   "outputs": [
    {
     "data": {
      "text/plain": [
       "'[1, \"simple\", \"list\"]'"
      ]
     },
     "execution_count": 3,
     "metadata": {},
     "output_type": "execute_result"
    }
   ],
   "source": [
    "import json\n",
    "x = [1, 'simple', 'list']\n",
    "json.dumps(x)"
   ]
  },
  {
   "cell_type": "code",
   "execution_count": 7,
   "id": "b7fc9a97-c9ad-4e7c-bc0a-8fce5d4a63f1",
   "metadata": {},
   "outputs": [
    {
     "name": "stdout",
     "output_type": "stream",
     "text": [
      "cannot open -f\n",
      "C:\\Users\\HP\\AppData\\Roaming\\jupyter\\runtime\\kernel-8368976e-34e3-48f2-b85d-88a760916bbd.json has 13 lines\n"
     ]
    }
   ],
   "source": [
    "import sys\n",
    "\n",
    "for arg in sys.argv[1:]:\n",
    "    try:\n",
    "        f = open(arg, 'r')\n",
    "    except OSError:\n",
    "        print('cannot open', arg)\n",
    "    else:\n",
    "        print(arg, 'has', len(f.readlines()), 'lines')\n",
    "        f.close()"
   ]
  },
  {
   "cell_type": "code",
   "execution_count": 5,
   "id": "6b24dc01-b778-4f61-a7f8-0d55a8bc96e1",
   "metadata": {},
   "outputs": [
    {
     "ename": "ConnectionRefusedError",
     "evalue": "",
     "output_type": "error",
     "traceback": [
      "\u001b[1;31m---------------------------------------------------------------------------\u001b[0m",
      "\u001b[1;31mConnectionRefusedError\u001b[0m                    Traceback (most recent call last)",
      "Cell \u001b[1;32mIn[5], line 1\u001b[0m\n\u001b[1;32m----> 1\u001b[0m \u001b[38;5;28;01mraise\u001b[39;00m(\u001b[38;5;167;01mConnectionRefusedError\u001b[39;00m)\n",
      "\u001b[1;31mConnectionRefusedError\u001b[0m: "
     ]
    }
   ],
   "source": [
    "raise(ConnectionRefusedError)"
   ]
  },
  {
   "cell_type": "code",
   "execution_count": 7,
   "id": "3a5b2d7a-7bbc-4402-bbe8-6f2e9ca6798b",
   "metadata": {},
   "outputs": [
    {
     "ename": "ImportError",
     "evalue": "",
     "output_type": "error",
     "traceback": [
      "\u001b[1;31m---------------------------------------------------------------------------\u001b[0m",
      "\u001b[1;31mImportError\u001b[0m                               Traceback (most recent call last)",
      "Cell \u001b[1;32mIn[7], line 1\u001b[0m\n\u001b[1;32m----> 1\u001b[0m \u001b[38;5;28;01mraise\u001b[39;00m(\u001b[38;5;167;01mImportError\u001b[39;00m)\n",
      "\u001b[1;31mImportError\u001b[0m: "
     ]
    }
   ],
   "source": [
    "raise(ImportError)"
   ]
  },
  {
   "cell_type": "code",
   "execution_count": 9,
   "id": "7db3b6a0-2075-4948-9175-2e5f73b79aca",
   "metadata": {},
   "outputs": [
    {
     "ename": "ValueError",
     "evalue": "This is dummy error",
     "output_type": "error",
     "traceback": [
      "\u001b[1;31m---------------------------------------------------------------------------\u001b[0m",
      "\u001b[1;31mValueError\u001b[0m                                Traceback (most recent call last)",
      "Cell \u001b[1;32mIn[9], line 1\u001b[0m\n\u001b[1;32m----> 1\u001b[0m \u001b[38;5;28;01mraise\u001b[39;00m \u001b[38;5;167;01mValueError\u001b[39;00m(\u001b[38;5;124m\"\u001b[39m\u001b[38;5;124mThis is dummy error\u001b[39m\u001b[38;5;124m\"\u001b[39m)\n",
      "\u001b[1;31mValueError\u001b[0m: This is dummy error"
     ]
    }
   ],
   "source": [
    "raise ValueError(\"This is dummy error\")"
   ]
  },
  {
   "cell_type": "markdown",
   "id": "fd957430-ad71-4f3a-a2dd-40da28f53938",
   "metadata": {},
   "source": [
    "# Using from in exception "
   ]
  },
  {
   "cell_type": "code",
   "execution_count": 21,
   "id": "7712d685-cf1b-42db-825a-b51e65ff91fb",
   "metadata": {},
   "outputs": [
    {
     "name": "stdin",
     "output_type": "stream",
     "text": [
      "Enter the value hjgfss\n"
     ]
    },
    {
     "ename": "ValueError",
     "evalue": "name error ",
     "output_type": "error",
     "traceback": [
      "\u001b[1;31m---------------------------------------------------------------------------\u001b[0m",
      "\u001b[1;31mValueError\u001b[0m                                Traceback (most recent call last)",
      "Cell \u001b[1;32mIn[21], line 2\u001b[0m\n\u001b[0;32m      1\u001b[0m \u001b[38;5;28;01mtry\u001b[39;00m:\n\u001b[1;32m----> 2\u001b[0m     val \u001b[38;5;241m=\u001b[39m \u001b[38;5;28mint\u001b[39m(\u001b[38;5;28minput\u001b[39m(\u001b[38;5;124m\"\u001b[39m\u001b[38;5;124mEnter the value\u001b[39m\u001b[38;5;124m\"\u001b[39m))\n\u001b[0;32m      3\u001b[0m     \u001b[38;5;28mprint\u001b[39m(val)\n",
      "\u001b[1;31mValueError\u001b[0m: invalid literal for int() with base 10: 'hjgfss'",
      "\nThe above exception was the direct cause of the following exception:\n",
      "\u001b[1;31mValueError\u001b[0m                                Traceback (most recent call last)",
      "Cell \u001b[1;32mIn[21], line 6\u001b[0m\n\u001b[0;32m      3\u001b[0m     \u001b[38;5;28mprint\u001b[39m(val)\n\u001b[0;32m      5\u001b[0m \u001b[38;5;28;01mexcept\u001b[39;00m \u001b[38;5;167;01mValueError\u001b[39;00m \u001b[38;5;28;01mas\u001b[39;00m ne:\n\u001b[1;32m----> 6\u001b[0m     \u001b[38;5;28;01mraise\u001b[39;00m \u001b[38;5;167;01mValueError\u001b[39;00m(\u001b[38;5;124m\"\u001b[39m\u001b[38;5;124mname error \u001b[39m\u001b[38;5;124m\"\u001b[39m) \u001b[38;5;28;01mfrom\u001b[39;00m \u001b[38;5;21;01mne\u001b[39;00m\n",
      "\u001b[1;31mValueError\u001b[0m: name error "
     ]
    }
   ],
   "source": [
    "try:\n",
    "    val = int(input(\"Enter the value\"))\n",
    "    print(val)\n",
    "\n",
    "except ValueError as ne:\n",
    "    raise ValueError(\"name error \") from ne\n",
    "    "
   ]
  },
  {
   "cell_type": "code",
   "execution_count": 30,
   "id": "e17d49d1-d96a-468d-a7c6-c511bde7b753",
   "metadata": {},
   "outputs": [
    {
     "ename": "custom_error",
     "evalue": "",
     "output_type": "error",
     "traceback": [
      "\u001b[1;31m---------------------------------------------------------------------------\u001b[0m",
      "\u001b[1;31mValueError\u001b[0m                                Traceback (most recent call last)",
      "Cell \u001b[1;32mIn[30], line 5\u001b[0m\n\u001b[0;32m      4\u001b[0m \u001b[38;5;28;01mtry\u001b[39;00m:\n\u001b[1;32m----> 5\u001b[0m     \u001b[38;5;28mint\u001b[39m(\u001b[38;5;124m\"\u001b[39m\u001b[38;5;124mh\u001b[39m\u001b[38;5;124m\"\u001b[39m)\n\u001b[0;32m      6\u001b[0m \u001b[38;5;28;01mexcept\u001b[39;00m \u001b[38;5;167;01mValueError\u001b[39;00m \u001b[38;5;28;01mas\u001b[39;00m ce:\n",
      "\u001b[1;31mValueError\u001b[0m: invalid literal for int() with base 10: 'h'",
      "\nThe above exception was the direct cause of the following exception:\n",
      "\u001b[1;31mcustom_error\u001b[0m                              Traceback (most recent call last)",
      "Cell \u001b[1;32mIn[30], line 7\u001b[0m\n\u001b[0;32m      5\u001b[0m     \u001b[38;5;28mint\u001b[39m(\u001b[38;5;124m\"\u001b[39m\u001b[38;5;124mh\u001b[39m\u001b[38;5;124m\"\u001b[39m)\n\u001b[0;32m      6\u001b[0m \u001b[38;5;28;01mexcept\u001b[39;00m \u001b[38;5;167;01mValueError\u001b[39;00m \u001b[38;5;28;01mas\u001b[39;00m ce:\n\u001b[1;32m----> 7\u001b[0m     \u001b[38;5;28;01mraise\u001b[39;00m custom_error \u001b[38;5;28;01mfrom\u001b[39;00m \u001b[38;5;21;01mce\u001b[39;00m\n",
      "\u001b[1;31mcustom_error\u001b[0m: "
     ]
    }
   ],
   "source": [
    "class custom_error(Exception):\n",
    "    \"\"\"This is custom error\"\"\"\n",
    "    pass\n",
    "try:\n",
    "    int(\"h\")\n",
    "except ValueError as ce:\n",
    "    raise custom_error from ce\n"
   ]
  },
  {
   "cell_type": "code",
   "execution_count": 33,
   "id": "bd5265ab-1979-4afe-bd96-c0b6589ab330",
   "metadata": {
    "scrolled": true
   },
   "outputs": [
    {
     "name": "stdout",
     "output_type": "stream",
     "text": [
      "Help on class custom_error in module __main__:\n",
      "\n",
      "class custom_error(builtins.Exception)\n",
      " |  This is custom error\n",
      " |\n",
      " |  Method resolution order:\n",
      " |      custom_error\n",
      " |      builtins.Exception\n",
      " |      builtins.BaseException\n",
      " |      builtins.object\n",
      " |\n",
      " |  Data descriptors defined here:\n",
      " |\n",
      " |  __weakref__\n",
      " |      list of weak references to the object\n",
      " |\n",
      " |  ----------------------------------------------------------------------\n",
      " |  Methods inherited from builtins.Exception:\n",
      " |\n",
      " |  __init__(self, /, *args, **kwargs)\n",
      " |      Initialize self.  See help(type(self)) for accurate signature.\n",
      " |\n",
      " |  ----------------------------------------------------------------------\n",
      " |  Static methods inherited from builtins.Exception:\n",
      " |\n",
      " |  __new__(*args, **kwargs) class method of builtins.Exception\n",
      " |      Create and return a new object.  See help(type) for accurate signature.\n",
      " |\n",
      " |  ----------------------------------------------------------------------\n",
      " |  Methods inherited from builtins.BaseException:\n",
      " |\n",
      " |  __delattr__(self, name, /)\n",
      " |      Implement delattr(self, name).\n",
      " |\n",
      " |  __getattribute__(self, name, /)\n",
      " |      Return getattr(self, name).\n",
      " |\n",
      " |  __reduce__(...)\n",
      " |      Helper for pickle.\n",
      " |\n",
      " |  __repr__(self, /)\n",
      " |      Return repr(self).\n",
      " |\n",
      " |  __setattr__(self, name, value, /)\n",
      " |      Implement setattr(self, name, value).\n",
      " |\n",
      " |  __setstate__(...)\n",
      " |\n",
      " |  __str__(self, /)\n",
      " |      Return str(self).\n",
      " |\n",
      " |  add_note(...)\n",
      " |      Exception.add_note(note) --\n",
      " |      add a note to the exception\n",
      " |\n",
      " |  with_traceback(...)\n",
      " |      Exception.with_traceback(tb) --\n",
      " |      set self.__traceback__ to tb and return self.\n",
      " |\n",
      " |  ----------------------------------------------------------------------\n",
      " |  Data descriptors inherited from builtins.BaseException:\n",
      " |\n",
      " |  __cause__\n",
      " |      exception cause\n",
      " |\n",
      " |  __context__\n",
      " |      exception context\n",
      " |\n",
      " |  __dict__\n",
      " |\n",
      " |  __suppress_context__\n",
      " |\n",
      " |  __traceback__\n",
      " |\n",
      " |  args\n",
      "\n"
     ]
    }
   ],
   "source": [
    "help(custom_error)"
   ]
  },
  {
   "cell_type": "code",
   "execution_count": 34,
   "id": "433d7a52-f953-4f92-b23c-3a2f3884846a",
   "metadata": {},
   "outputs": [
    {
     "name": "stdout",
     "output_type": "stream",
     "text": [
      "Good bye \n"
     ]
    },
    {
     "ename": "ValueError",
     "evalue": "",
     "output_type": "error",
     "traceback": [
      "\u001b[1;31m---------------------------------------------------------------------------\u001b[0m",
      "\u001b[1;31mValueError\u001b[0m                                Traceback (most recent call last)",
      "Cell \u001b[1;32mIn[34], line 2\u001b[0m\n\u001b[0;32m      1\u001b[0m \u001b[38;5;28;01mtry\u001b[39;00m:\n\u001b[1;32m----> 2\u001b[0m     \u001b[38;5;28;01mraise\u001b[39;00m \u001b[38;5;167;01mValueError\u001b[39;00m\n\u001b[0;32m      3\u001b[0m \u001b[38;5;28;01mfinally\u001b[39;00m:\n\u001b[0;32m      4\u001b[0m     \u001b[38;5;28mprint\u001b[39m(\u001b[38;5;124m\"\u001b[39m\u001b[38;5;124mGood bye \u001b[39m\u001b[38;5;124m\"\u001b[39m)\n",
      "\u001b[1;31mValueError\u001b[0m: "
     ]
    }
   ],
   "source": [
    "try:\n",
    "    raise ValueError\n",
    "finally:\n",
    "    print(\"Good bye \")"
   ]
  },
  {
   "cell_type": "code",
   "execution_count": 37,
   "id": "abd3d4e6-ba4f-47ae-962a-418d0214b291",
   "metadata": {},
   "outputs": [
    {
     "name": "stdout",
     "output_type": "stream",
     "text": [
      "False\n",
      "True\n"
     ]
    }
   ],
   "source": [
    "def val():\n",
    "    try:\n",
    "        print(False)\n",
    "    finally:\n",
    "        print(True)\n",
    "val()"
   ]
  },
  {
   "cell_type": "code",
   "execution_count": 38,
   "id": "f228a095-c9b7-475d-b97c-4e2fc2206979",
   "metadata": {},
   "outputs": [
    {
     "name": "stdout",
     "output_type": "stream",
     "text": [
      "Good bye\n"
     ]
    },
    {
     "ename": "ValueError",
     "evalue": "An error occurred!",
     "output_type": "error",
     "traceback": [
      "\u001b[1;31m---------------------------------------------------------------------------\u001b[0m",
      "\u001b[1;31mValueError\u001b[0m                                Traceback (most recent call last)",
      "Cell \u001b[1;32mIn[38], line 2\u001b[0m\n\u001b[0;32m      1\u001b[0m \u001b[38;5;28;01mtry\u001b[39;00m:\n\u001b[1;32m----> 2\u001b[0m     \u001b[38;5;28;01mraise\u001b[39;00m \u001b[38;5;167;01mValueError\u001b[39;00m(\u001b[38;5;124m\"\u001b[39m\u001b[38;5;124mAn error occurred!\u001b[39m\u001b[38;5;124m\"\u001b[39m)\n\u001b[0;32m      3\u001b[0m \u001b[38;5;28;01mfinally\u001b[39;00m:\n\u001b[0;32m      4\u001b[0m     \u001b[38;5;28mprint\u001b[39m(\u001b[38;5;124m\"\u001b[39m\u001b[38;5;124mGood bye\u001b[39m\u001b[38;5;124m\"\u001b[39m)\n",
      "\u001b[1;31mValueError\u001b[0m: An error occurred!"
     ]
    }
   ],
   "source": [
    "try:\n",
    "    raise ValueError(\"An error occurred!\")\n",
    "finally:\n",
    "    print(\"Good bye\")\n",
    "\n"
   ]
  },
  {
   "cell_type": "code",
   "execution_count": 40,
   "id": "a6bf9d7a-0171-4d40-ba64-088aecefd025",
   "metadata": {},
   "outputs": [
    {
     "data": {
      "text/plain": [
       "False"
      ]
     },
     "execution_count": 40,
     "metadata": {},
     "output_type": "execute_result"
    }
   ],
   "source": [
    "def bool_return():\n",
    "    try:\n",
    "        return True\n",
    "    finally:\n",
    "        return False\n",
    "\n",
    "bool_return()"
   ]
  },
  {
   "cell_type": "code",
   "execution_count": 43,
   "id": "55c5fbf7-1609-4fbd-ac6f-030f58d2d499",
   "metadata": {},
   "outputs": [
    {
     "name": "stdout",
     "output_type": "stream",
     "text": [
      "False\n",
      "True\n"
     ]
    }
   ],
   "source": [
    "def val():\n",
    "    try:\n",
    "        print(False)\n",
    "    finally:\n",
    "        print(True)\n",
    "val()"
   ]
  },
  {
   "cell_type": "code",
   "execution_count": 45,
   "id": "5917e32e-59ec-4b02-8e45-2cc0ee0bb780",
   "metadata": {},
   "outputs": [
    {
     "name": "stdout",
     "output_type": "stream",
     "text": [
      "20\n"
     ]
    }
   ],
   "source": [
    "def example():\n",
    "    try:\n",
    "        return 10 \n",
    "    finally:\n",
    "        return 20 \n",
    "\n",
    "result = example()\n",
    "print(result) \n"
   ]
  },
  {
   "cell_type": "code",
   "execution_count": 56,
   "id": "e13a9b4f-4433-42a9-a97b-ca581e97df39",
   "metadata": {},
   "outputs": [
    {
     "data": {
      "text/plain": [
       "-2"
      ]
     },
     "execution_count": 56,
     "metadata": {},
     "output_type": "execute_result"
    }
   ],
   "source": [
    "round(11.5) - round(12.5)"
   ]
  },
  {
   "cell_type": "code",
   "execution_count": 59,
   "id": "0d598efe-1319-48bd-97d4-fbd5e9091911",
   "metadata": {},
   "outputs": [
    {
     "name": "stdin",
     "output_type": "stream",
     "text": [
      "Enter the value j\n"
     ]
    },
    {
     "ename": "ValueError",
     "evalue": "name error ",
     "output_type": "error",
     "traceback": [
      "\u001b[1;31m---------------------------------------------------------------------------\u001b[0m",
      "\u001b[1;31mValueError\u001b[0m                                Traceback (most recent call last)",
      "Cell \u001b[1;32mIn[59], line 2\u001b[0m\n\u001b[0;32m      1\u001b[0m \u001b[38;5;28;01mtry\u001b[39;00m:\n\u001b[1;32m----> 2\u001b[0m     val \u001b[38;5;241m=\u001b[39m \u001b[38;5;28mint\u001b[39m(\u001b[38;5;28minput\u001b[39m(\u001b[38;5;124m\"\u001b[39m\u001b[38;5;124mEnter the value\u001b[39m\u001b[38;5;124m\"\u001b[39m))\n\u001b[0;32m      3\u001b[0m     \u001b[38;5;28mprint\u001b[39m(val)\n",
      "\u001b[1;31mValueError\u001b[0m: invalid literal for int() with base 10: 'j'",
      "\u001b[0msome inforamtion",
      "\u001b[0mAdd some more information",
      "\nThe above exception was the direct cause of the following exception:\n",
      "\u001b[1;31mValueError\u001b[0m                                Traceback (most recent call last)",
      "Cell \u001b[1;32mIn[59], line 8\u001b[0m\n\u001b[0;32m      6\u001b[0m ne\u001b[38;5;241m.\u001b[39madd_note(\u001b[38;5;124m\"\u001b[39m\u001b[38;5;124msome inforamtion\u001b[39m\u001b[38;5;124m\"\u001b[39m)\n\u001b[0;32m      7\u001b[0m ne\u001b[38;5;241m.\u001b[39madd_note(\u001b[38;5;124m'\u001b[39m\u001b[38;5;124mAdd some more information\u001b[39m\u001b[38;5;124m'\u001b[39m)\n\u001b[1;32m----> 8\u001b[0m \u001b[38;5;28;01mraise\u001b[39;00m \u001b[38;5;167;01mValueError\u001b[39;00m(\u001b[38;5;124m\"\u001b[39m\u001b[38;5;124mname error \u001b[39m\u001b[38;5;124m\"\u001b[39m) \u001b[38;5;28;01mfrom\u001b[39;00m \u001b[38;5;21;01mne\u001b[39;00m\n",
      "\u001b[1;31mValueError\u001b[0m: name error "
     ]
    }
   ],
   "source": [
    "try:\n",
    "    val = int(input(\"Enter the value\"))\n",
    "    print(val)\n",
    "\n",
    "except ValueError as ne:\n",
    "    ne.add_note(\"some inforamtion\")\n",
    "    ne.add_note('Add some more information')\n",
    "    raise ValueError(\"name error \") from ne\n",
    "    "
   ]
  },
  {
   "cell_type": "code",
   "execution_count": 61,
   "id": "4f478514-4ae7-4af4-9c7c-562aff57602d",
   "metadata": {},
   "outputs": [
    {
     "data": {
      "text/plain": [
       "20"
      ]
     },
     "execution_count": 61,
     "metadata": {},
     "output_type": "execute_result"
    }
   ],
   "source": [
    "def val():\n",
    "    global a\n",
    "    a = 15\n",
    "#val()\n",
    "a + 5"
   ]
  },
  {
   "cell_type": "code",
   "execution_count": 62,
   "id": "1c7a25e6-2630-40b0-9ba5-eb05f58f5258",
   "metadata": {},
   "outputs": [
    {
     "data": {
      "text/plain": [
       "'hi'"
      ]
     },
     "execution_count": 62,
     "metadata": {},
     "output_type": "execute_result"
    }
   ],
   "source": [
    "def val1():\n",
    "    return \"hello\"\n",
    "def val1():\n",
    "    return \"hi\"\n",
    "\n",
    "val1()"
   ]
  },
  {
   "cell_type": "code",
   "execution_count": 65,
   "id": "d217e9cb-fc64-4e8b-a409-805795ff6805",
   "metadata": {},
   "outputs": [
    {
     "name": "stdout",
     "output_type": "stream",
     "text": [
      "storage west\n",
      "storage east\n"
     ]
    }
   ],
   "source": [
    "class Warehouse:\n",
    "   purpose = 'storage'\n",
    "   region = 'west'\n",
    "\n",
    "w1 = Warehouse()\n",
    "print(w1.purpose, w1.region)\n",
    "\n",
    "w2 = Warehouse()\n",
    "w2.region = 'east'\n",
    "print(w2.purpose, w2.region)\n"
   ]
  },
  {
   "cell_type": "code",
   "execution_count": 89,
   "id": "35725f7c-9351-448b-8a47-2f7b6af690e3",
   "metadata": {},
   "outputs": [
    {
     "name": "stdout",
     "output_type": "stream",
     "text": [
      "('1', 2)\n",
      "('2', 3)\n",
      "('4', 5)\n"
     ]
    }
   ],
   "source": [
    "def introduce(**name):\n",
    "    for i in name.items():\n",
    "        print(i)\n",
    "   # print(f\"My name is {name}, I am {name} years old, and I live in {name}.\")\n",
    "\n",
    "# Mixed usage\n",
    "introduce(**{\"1\" : 2, \"2\" : 3, \"4\" : 5})  \n",
    "# Output: My name is Alice, I am 30 years old, and I live in New York.\n"
   ]
  },
  {
   "cell_type": "code",
   "execution_count": 94,
   "id": "1ef51977-db3f-4508-bb9a-47be4a30cec1",
   "metadata": {},
   "outputs": [
    {
     "data": {
      "text/plain": [
       "30"
      ]
     },
     "execution_count": 94,
     "metadata": {},
     "output_type": "execute_result"
    }
   ],
   "source": [
    "sum(i*j for i,j in zip([1,2,3,4],[1,2,3,4]))"
   ]
  },
  {
   "cell_type": "code",
   "execution_count": 97,
   "id": "efc0d541-1dd5-44d3-9cf0-10aa554b2ab1",
   "metadata": {},
   "outputs": [
    {
     "data": {
      "text/plain": [
       "'C:\\\\Users\\\\HP\\\\Data Aces\\\\Python'"
      ]
     },
     "execution_count": 97,
     "metadata": {},
     "output_type": "execute_result"
    }
   ],
   "source": [
    "import os\n",
    "os.getcwd() "
   ]
  },
  {
   "cell_type": "markdown",
   "id": "97e4aa48-e5a5-4e6c-9dab-0c9a3c2e187f",
   "metadata": {},
   "source": [
    "# File Wildcards"
   ]
  },
  {
   "cell_type": "code",
   "execution_count": 100,
   "id": "71655ee2-3e94-44aa-9ba9-a9356717a636",
   "metadata": {},
   "outputs": [
    {
     "data": {
      "text/plain": [
       "['example.txt', 'sample.txt', 'sample2.txt']"
      ]
     },
     "execution_count": 100,
     "metadata": {},
     "output_type": "execute_result"
    }
   ],
   "source": [
    "import glob\n",
    "glob.glob('*.txt')"
   ]
  },
  {
   "cell_type": "code",
   "execution_count": 103,
   "id": "700fa2c4-f9f6-402c-bf52-f9c21adc3734",
   "metadata": {},
   "outputs": [
    {
     "name": "stdout",
     "output_type": "stream",
     "text": [
      "['C:\\\\Users\\\\HP\\\\anaconda3\\\\Lib\\\\site-packages\\\\ipykernel_launcher.py', '-f', 'C:\\\\Users\\\\HP\\\\AppData\\\\Roaming\\\\jupyter\\\\runtime\\\\kernel-94997c67-071e-425d-ad0a-986a8d05fc92.json']\n"
     ]
    }
   ],
   "source": [
    "import sys\n",
    "print(sys.argv)"
   ]
  },
  {
   "cell_type": "code",
   "execution_count": 104,
   "id": "d53c3454-0e96-4c5b-86ae-96c2b7e29362",
   "metadata": {},
   "outputs": [
    {
     "name": "stderr",
     "output_type": "stream",
     "text": [
      "Warning, log file not found starting a new one\n"
     ]
    },
    {
     "data": {
      "text/plain": [
       "47"
      ]
     },
     "execution_count": 104,
     "metadata": {},
     "output_type": "execute_result"
    }
   ],
   "source": [
    "sys.stderr.write('Warning, log file not found starting a new one\\n')\n"
   ]
  },
  {
   "cell_type": "code",
   "execution_count": 3,
   "id": "fd45dfc0-d6b0-4dd0-8996-0f52372c2eb7",
   "metadata": {},
   "outputs": [
    {
     "name": "stdout",
     "output_type": "stream",
     "text": [
      "2025-01-17\n"
     ]
    }
   ],
   "source": [
    "from datetime import date\n",
    "print(date.today())"
   ]
  },
  {
   "cell_type": "code",
   "execution_count": 7,
   "id": "e67bef09-0bae-45dc-9890-f154e3447723",
   "metadata": {},
   "outputs": [
    {
     "name": "stdout",
     "output_type": "stream",
     "text": [
      "<attribute 'day' of 'datetime.date' objects>\n"
     ]
    }
   ],
   "source": [
    "from datetime import date\n",
    "print(date.day)"
   ]
  },
  {
   "cell_type": "code",
   "execution_count": 9,
   "id": "777867c2-dd24-43c3-82be-d7eea6e90736",
   "metadata": {},
   "outputs": [
    {
     "name": "stdout",
     "output_type": "stream",
     "text": [
      "41\n"
     ]
    },
    {
     "data": {
      "text/plain": [
       "b'witch which has which witches wrist watch'"
      ]
     },
     "execution_count": 9,
     "metadata": {},
     "output_type": "execute_result"
    }
   ],
   "source": [
    "import zlib\n",
    "a = B\"witch which has which witches wrist watch\"\n",
    "print(len(a))\n",
    "b = zlib.compress(a)\n",
    "b\n",
    "c = zlib.decompress(b)\n",
    "c"
   ]
  },
  {
   "cell_type": "code",
   "execution_count": 7,
   "id": "d033d89e-ca2c-4b4f-b4b1-02b3688fb7e8",
   "metadata": {},
   "outputs": [
    {
     "data": {
      "text/plain": [
       "bytes"
      ]
     },
     "execution_count": 7,
     "metadata": {},
     "output_type": "execute_result"
    }
   ],
   "source": [
    "type(b'hello')"
   ]
  },
  {
   "cell_type": "code",
   "execution_count": 18,
   "id": "2ac32ab5-2a33-4909-84f5-46952544dff3",
   "metadata": {},
   "outputs": [
    {
     "data": {
      "text/plain": [
       "'two hundred quadrillion'"
      ]
     },
     "execution_count": 18,
     "metadata": {},
     "output_type": "execute_result"
    }
   ],
   "source": [
    "import inflect\n",
    "\n",
    "# Create an inflect engine\n",
    "p = inflect.engine()\n",
    "\n",
    "p.number_to_words(200000000000000000)"
   ]
  },
  {
   "cell_type": "code",
   "execution_count": 28,
   "id": "b3d20188-3617-489d-9605-113244c09a33",
   "metadata": {},
   "outputs": [
    {
     "data": {
      "text/plain": [
       "'one hundred and twenty three'"
      ]
     },
     "execution_count": 28,
     "metadata": {},
     "output_type": "execute_result"
    }
   ],
   "source": [
    "def number_to_words(n):\n",
    "    if n == 0:\n",
    "        return \"zero\"\n",
    "\n",
    "    ones = [\"\", \"one\", \"two\", \"three\", \"four\", \"five\", \"six\", \"seven\", \"eight\", \"nine\"]\n",
    "    teens = [\"\", \"eleven\", \"twelve\", \"thirteen\", \"fourteen\", \"fifteen\", \"sixteen\",\n",
    "             \"seventeen\", \"eighteen\", \"nineteen\"]\n",
    "    tens = [\"\", \"ten\", \"twenty\", \"thirty\", \"forty\", \"fifty\", \"sixty\", \"seventy\", \"eighty\", \"ninety\"]\n",
    "    thousands = [\"\", \"thousand\"]\n",
    "\n",
    "    result = \"\"\n",
    "\n",
    "    if n >= 1000:\n",
    "        result += ones[n // 1000] + \" \" + thousands[1] + \" \"\n",
    "        n %= 1000\n",
    "\n",
    "    if n >= 100:\n",
    "        result += ones[n // 100] + \" hundred \"\n",
    "        n %= 100\n",
    "        if n > 0:\n",
    "            result += \"and \"\n",
    "\n",
    "    if 10 < n < 20:\n",
    "        result += teens[n - 10] + \" \"\n",
    "        n = 0\n",
    "\n",
    "    if n >= 10:\n",
    "        result += tens[n // 10] + \" \"\n",
    "        n %= 10\n",
    "\n",
    "    if n > 0:\n",
    "        result += ones[n] + \" \"\n",
    "\n",
    "    return result.strip()\n",
    "\n",
    "\n",
    "number_to_words(123)"
   ]
  },
  {
   "cell_type": "code",
   "execution_count": 31,
   "id": "f755c0c9-44d4-4243-a9f7-5ebc95e5ea82",
   "metadata": {},
   "outputs": [
    {
     "data": {
      "text/plain": [
       "\"'supercalifra...xpialidocious'\""
      ]
     },
     "execution_count": 31,
     "metadata": {},
     "output_type": "execute_result"
    }
   ],
   "source": [
    "import reprlib\n",
    "reprlib.repr('supercalifragilisticexpialidocious')"
   ]
  },
  {
   "cell_type": "code",
   "execution_count": 38,
   "id": "fc8e45b1-1d9b-4f8f-89ff-f9448a602d80",
   "metadata": {},
   "outputs": [
    {
     "name": "stdout",
     "output_type": "stream",
     "text": [
      "The wrap() method is just like fill() except that it returns a list of strings\n",
      "instead of one big string with newlines to separate the wrapped lines.\n"
     ]
    }
   ],
   "source": [
    "import textwrap\n",
    "doc = \"\"\"The wrap() method is just like fill() except that it returns\n",
    "a list of strings instead of one big string with newlines to separate\n",
    "the wrapped lines.\"\"\"\n",
    "\n",
    "print(textwrap.fill(doc, width=80))"
   ]
  },
  {
   "cell_type": "code",
   "execution_count": 39,
   "id": "90b88d62-7ea2-42b4-96c6-adabf371c4de",
   "metadata": {
    "scrolled": true
   },
   "outputs": [
    {
     "data": {
      "text/plain": [
       "['In',\n",
       " 'Out',\n",
       " '_',\n",
       " '_13',\n",
       " '_14',\n",
       " '_15',\n",
       " '_18',\n",
       " '_21',\n",
       " '_22',\n",
       " '_24',\n",
       " '_25',\n",
       " '_27',\n",
       " '_28',\n",
       " '_29',\n",
       " '_3',\n",
       " '_30',\n",
       " '_31',\n",
       " '_4',\n",
       " '_6',\n",
       " '_7',\n",
       " '_8',\n",
       " '_9',\n",
       " '__',\n",
       " '___',\n",
       " '__builtin__',\n",
       " '__builtins__',\n",
       " '__doc__',\n",
       " '__loader__',\n",
       " '__name__',\n",
       " '__package__',\n",
       " '__session__',\n",
       " '__spec__',\n",
       " '_dh',\n",
       " '_exit_code',\n",
       " '_i',\n",
       " '_i1',\n",
       " '_i10',\n",
       " '_i11',\n",
       " '_i12',\n",
       " '_i13',\n",
       " '_i14',\n",
       " '_i15',\n",
       " '_i16',\n",
       " '_i17',\n",
       " '_i18',\n",
       " '_i19',\n",
       " '_i2',\n",
       " '_i20',\n",
       " '_i21',\n",
       " '_i22',\n",
       " '_i23',\n",
       " '_i24',\n",
       " '_i25',\n",
       " '_i26',\n",
       " '_i27',\n",
       " '_i28',\n",
       " '_i29',\n",
       " '_i3',\n",
       " '_i30',\n",
       " '_i31',\n",
       " '_i32',\n",
       " '_i33',\n",
       " '_i34',\n",
       " '_i35',\n",
       " '_i36',\n",
       " '_i37',\n",
       " '_i38',\n",
       " '_i39',\n",
       " '_i4',\n",
       " '_i5',\n",
       " '_i6',\n",
       " '_i7',\n",
       " '_i8',\n",
       " '_i9',\n",
       " '_ih',\n",
       " '_ii',\n",
       " '_iii',\n",
       " '_oh',\n",
       " 'a',\n",
       " 'b',\n",
       " 'c',\n",
       " 'doc',\n",
       " 'exit',\n",
       " 'get_ipython',\n",
       " 'i',\n",
       " 'inflect',\n",
       " 'number',\n",
       " 'number_to_words',\n",
       " 'open',\n",
       " 'p',\n",
       " 'quit',\n",
       " 'reprlib',\n",
       " 's',\n",
       " 't',\n",
       " 'textwrap',\n",
       " 'zlib']"
      ]
     },
     "execution_count": 39,
     "metadata": {},
     "output_type": "execute_result"
    }
   ],
   "source": [
    "dir()"
   ]
  },
  {
   "cell_type": "markdown",
   "id": "12a05fb0-5547-42ca-bc16-a7973b243903",
   "metadata": {},
   "source": [
    "# Threading in python"
   ]
  },
  {
   "cell_type": "code",
   "execution_count": 114,
   "id": "07d72f59-1139-4dde-95d5-d1314f332042",
   "metadata": {
    "scrolled": true
   },
   "outputs": [
    {
     "name": "stdout",
     "output_type": "stream",
     "text": [
      "hi\n",
      "hello\n",
      "hi\n",
      "hello\n",
      "hi\n",
      "hello\n",
      "hi\n",
      "hello\n",
      "hi\n",
      "hello\n",
      "hi\n",
      "hello\n",
      "hi\n",
      "hello\n",
      "hi\n",
      "hello\n",
      "hi\n",
      "hello\n",
      "hi\n",
      "hello\n",
      "hi\n",
      "hello\n",
      "hi\n",
      "hello\n",
      "hi\n",
      "hello\n",
      "hi\n",
      "hello\n",
      "hi\n",
      "hello\n",
      "hi\n",
      "hello\n",
      "hi\n",
      "hello\n",
      "hi\n",
      "hello\n",
      "hi\n",
      "hello\n",
      "hi\n",
      "hello\n",
      "hi\n",
      "hello\n",
      "hi\n",
      "hello\n",
      "hi\n",
      "hello\n",
      "hi\n",
      "hello\n",
      "hi\n",
      "hello\n",
      "hi\n",
      "hello\n",
      "hi\n",
      "hello\n",
      "hi\n",
      "hello\n",
      "hi\n",
      "hello\n",
      "hi\n",
      "hello\n",
      "hi\n",
      "hello\n",
      "hi\n",
      "hello\n",
      "hi\n",
      "hello\n",
      "hi\n",
      "hello\n",
      "hi\n",
      "hello\n",
      "hi\n",
      "hello\n",
      "hi\n",
      "hello\n",
      "hi\n",
      "hello\n",
      "hi\n",
      "hello\n",
      "hi\n",
      "hello\n",
      "hi\n",
      "hello\n",
      "hi\n",
      "hello\n",
      "hi\n",
      "hello\n",
      "hi\n",
      "hello\n",
      "hi\n",
      "hello\n",
      "hi\n",
      "hello\n",
      "hi\n",
      "hello\n",
      "hi\n",
      "hello\n",
      "hi\n",
      "hello\n",
      "hi\n",
      "hello\n"
     ]
    }
   ],
   "source": [
    "from threading import Thread\n",
    "import time \n",
    "\n",
    "class Car(Thread):\n",
    "    def run(self):  \n",
    "        for i in range(50):  # Use range to iterate\n",
    "            print(\"hi\")\n",
    "            time.sleep(0.25)\n",
    "\n",
    "class Bike(Thread):\n",
    "    def run(self):  # Add self parameter\n",
    "        for i in range(50):  # Use range to iterate\n",
    "            print(\"hello\")\n",
    "            time.sleep(0.25)\n",
    "\n",
    "obj = Car()\n",
    "obj1 = Bike()\n",
    "\n",
    "obj.start()\n",
    "time.sleep(0.1)\n",
    "obj1.start()\n",
    "\n",
    "obj.join()\n",
    "obj1.join()\n"
   ]
  },
  {
   "cell_type": "code",
   "execution_count": 75,
   "id": "b3685e15-55be-4884-b806-d5f9f1eeab40",
   "metadata": {},
   "outputs": [
    {
     "name": "stderr",
     "output_type": "stream",
     "text": [
      "WARNING:root:hello\n"
     ]
    }
   ],
   "source": [
    "import logging\n",
    "logging.warning(\"hello\")\n"
   ]
  },
  {
   "cell_type": "code",
   "execution_count": 77,
   "id": "17581353-1c91-4daa-ae1d-75518c2b9f8b",
   "metadata": {},
   "outputs": [
    {
     "name": "stderr",
     "output_type": "stream",
     "text": [
      "ERROR:root:hello\n"
     ]
    }
   ],
   "source": [
    "logging.error(\"hello\")"
   ]
  },
  {
   "cell_type": "code",
   "execution_count": 78,
   "id": "8161faaf-fb2a-40b0-9587-e432ea7ae460",
   "metadata": {},
   "outputs": [
    {
     "name": "stderr",
     "output_type": "stream",
     "text": [
      "CRITICAL:root:hello\n"
     ]
    }
   ],
   "source": [
    "logging.critical(\"hello\")"
   ]
  },
  {
   "cell_type": "code",
   "execution_count": 79,
   "id": "f2a90b54-1e37-489c-a547-70101ca099da",
   "metadata": {},
   "outputs": [
    {
     "data": {
      "text/plain": [
       "Decimal('0.74')"
      ]
     },
     "execution_count": 79,
     "metadata": {},
     "output_type": "execute_result"
    }
   ],
   "source": [
    "from decimal import *\n",
    "round(Decimal('0.70') * Decimal('1.05'), 2)"
   ]
  },
  {
   "cell_type": "code",
   "execution_count": 81,
   "id": "21bc6af7-13bb-4b83-b2e8-bd8132943ca6",
   "metadata": {},
   "outputs": [
    {
     "data": {
      "text/plain": [
       "Decimal('1')"
      ]
     },
     "execution_count": 81,
     "metadata": {},
     "output_type": "execute_result"
    }
   ],
   "source": [
    "Decimal('1') "
   ]
  },
  {
   "cell_type": "code",
   "execution_count": 86,
   "id": "5e7df3d5-a8b2-4e04-ad0b-398c497eae84",
   "metadata": {},
   "outputs": [
    {
     "name": "stdout",
     "output_type": "stream",
     "text": [
      "<class 'str'>\n"
     ]
    }
   ],
   "source": [
    "import json\n",
    "\n",
    "# Python object\n",
    "data = {\n",
    "    \"name\": \"John\",\n",
    "    \"age\": 30,\n",
    "    \"skills\": [\"Python\", \"JavaScript\"],\n",
    "    \"isEmployed\": True\n",
    "}\n",
    "\n",
    "# Convert to JSON string\n",
    "json_string = json.dumps(data)\n",
    "print(type(json_string))\n"
   ]
  },
  {
   "cell_type": "code",
   "execution_count": 88,
   "id": "3a400cd5-8fbc-46da-854b-bd682d174b9b",
   "metadata": {},
   "outputs": [
    {
     "name": "stdout",
     "output_type": "stream",
     "text": [
      "Found 3, exiting loop.\n"
     ]
    }
   ],
   "source": [
    "numbers = [1, 2, 3, 4, 5]\n",
    "\n",
    "for number in numbers:\n",
    "    if number == 3:\n",
    "        print(\"Found 3, exiting loop.\")\n",
    "        break\n",
    "else:\n",
    "    print(\"3 not found in the list.\")\n"
   ]
  },
  {
   "cell_type": "code",
   "execution_count": 1,
   "id": "7af8c03c-6a65-437d-bb90-a8af49367e59",
   "metadata": {},
   "outputs": [
    {
     "data": {
      "text/plain": [
       "0.625"
      ]
     },
     "execution_count": 1,
     "metadata": {},
     "output_type": "execute_result"
    }
   ],
   "source": [
    "1/2 + 0/4 + 1/8"
   ]
  },
  {
   "cell_type": "code",
   "execution_count": 5,
   "id": "e8711462-0e89-4fc2-8b0f-ef96137877f6",
   "metadata": {},
   "outputs": [
    {
     "name": "stdout",
     "output_type": "stream",
     "text": [
      "-21\n"
     ]
    }
   ],
   "source": [
    "x = 20  # Binary: 00000101\n",
    "result = ~x\n",
    "print(result)  # Output: -6 (Binary: 11111010, Two's complement representation)\n"
   ]
  },
  {
   "cell_type": "markdown",
   "id": "f1148854-56cc-423f-8e8e-3d4bf124198c",
   "metadata": {},
   "source": [
    "# wipro question"
   ]
  },
  {
   "cell_type": "code",
   "execution_count": 12,
   "id": "99a061b1-6e0f-4443-bcf4-7222889c0a04",
   "metadata": {},
   "outputs": [
    {
     "name": "stdout",
     "output_type": "stream",
     "text": [
      "3\n"
     ]
    },
    {
     "data": {
      "text/plain": [
       "(12, 9)"
      ]
     },
     "execution_count": 12,
     "metadata": {},
     "output_type": "execute_result"
    }
   ],
   "source": [
    "li = [1,2,3,4,5,6]\n",
    "odd = 0\n",
    "even = 0\n",
    "for i,j in enumerate(li):\n",
    "    if i % 2 == 0:\n",
    "         odd = odd + j\n",
    "    else:\n",
    "        even = even + j\n",
    "\n",
    "print(even - odd)\n",
    "even,odd"
   ]
  },
  {
   "cell_type": "markdown",
   "id": "fd159aa3-f807-49b5-885a-f9de19efec82",
   "metadata": {},
   "source": [
    "# zoho question"
   ]
  },
  {
   "cell_type": "code",
   "execution_count": 35,
   "id": "0f5871df-15a9-49a1-b614-36889a22af37",
   "metadata": {},
   "outputs": [
    {
     "name": "stdout",
     "output_type": "stream",
     "text": [
      "12\n",
      "15\n",
      "18\n"
     ]
    }
   ],
   "source": [
    "li = [1,2,3,4,5,6,7,8,9]\n",
    "gap = 3\n",
    "def val(gap):\n",
    "    for i in range(3):\n",
    "        print(sum(li[::gap]))\n",
    "        del(li[0])\n",
    "    \n",
    "val(gap)"
   ]
  },
  {
   "cell_type": "markdown",
   "id": "19a3b59c-7458-46f0-bae6-b833ce624b21",
   "metadata": {},
   "source": [
    "# This is used for the better readablity of the function and this is called as the function anotation"
   ]
  },
  {
   "cell_type": "code",
   "execution_count": 24,
   "id": "0b6ef855-fec8-4c4d-a49f-d41abd081e85",
   "metadata": {},
   "outputs": [
    {
     "data": {
      "text/plain": [
       "3"
      ]
     },
     "execution_count": 24,
     "metadata": {},
     "output_type": "execute_result"
    }
   ],
   "source": [
    "def fun(a:int,b:int) -> int:\n",
    "    return a+b\n",
    "\n",
    "fun(1,2)"
   ]
  },
  {
   "cell_type": "code",
   "execution_count": 28,
   "id": "5d9d4218-7c41-4966-b613-9787e0a03f54",
   "metadata": {},
   "outputs": [
    {
     "data": {
      "text/plain": [
       "' hello hello hello'"
      ]
     },
     "execution_count": 28,
     "metadata": {},
     "output_type": "execute_result"
    }
   ],
   "source": [
    "def fun(a:int,b:str) -> str:\n",
    "    return a * b\n",
    "\n",
    "fun(3,\" hello\")"
   ]
  },
  {
   "cell_type": "code",
   "execution_count": 36,
   "id": "9dabbff4-38ce-4242-83aa-1ef10b387bbd",
   "metadata": {},
   "outputs": [
    {
     "name": "stdout",
     "output_type": "stream",
     "text": [
      "[1]\n",
      "[1, 2]\n",
      "[1, 2, 3]\n"
     ]
    }
   ],
   "source": [
    "def append_to_list(value, my_list=[]):\n",
    "    my_list.append(value)\n",
    "    return my_list\n",
    "\n",
    "print(append_to_list(1))\n",
    "print(append_to_list(2))\n",
    "print(append_to_list(3))\n"
   ]
  },
  {
   "cell_type": "code",
   "execution_count": 37,
   "id": "4c649495-077c-49f1-99b2-9892f85f5652",
   "metadata": {},
   "outputs": [
    {
     "ename": "TypeError",
     "evalue": "'str' object does not support item assignment",
     "output_type": "error",
     "traceback": [
      "\u001b[1;31m---------------------------------------------------------------------------\u001b[0m",
      "\u001b[1;31mTypeError\u001b[0m                                 Traceback (most recent call last)",
      "Cell \u001b[1;32mIn[37], line 2\u001b[0m\n\u001b[0;32m      1\u001b[0m s \u001b[38;5;241m=\u001b[39m \u001b[38;5;124m\"\u001b[39m\u001b[38;5;124mhello\u001b[39m\u001b[38;5;124m\"\u001b[39m\n\u001b[1;32m----> 2\u001b[0m s[\u001b[38;5;241m0\u001b[39m] \u001b[38;5;241m=\u001b[39m \u001b[38;5;124m\"\u001b[39m\u001b[38;5;124mH\u001b[39m\u001b[38;5;124m\"\u001b[39m\n\u001b[0;32m      3\u001b[0m \u001b[38;5;28mprint\u001b[39m(s)\n",
      "\u001b[1;31mTypeError\u001b[0m: 'str' object does not support item assignment"
     ]
    }
   ],
   "source": [
    "s = \"hello\"\n",
    "s[0] = \"H\"\n",
    "print(s)"
   ]
  },
  {
   "cell_type": "code",
   "execution_count": 38,
   "id": "421f1a91-67e7-4099-abba-e0ebaf1c7899",
   "metadata": {},
   "outputs": [
    {
     "name": "stdout",
     "output_type": "stream",
     "text": [
      "1 [2, 3, 4] 5\n"
     ]
    }
   ],
   "source": [
    "a, *b, c = [1, 2, 3, 4, 5]\n",
    "print(a, b, c)\n"
   ]
  },
  {
   "cell_type": "code",
   "execution_count": 43,
   "id": "12639c82-8b9b-4553-b1d1-06bf4166d15e",
   "metadata": {},
   "outputs": [
    {
     "name": "stdout",
     "output_type": "stream",
     "text": [
      "1 [2, 3, 4] 5\n"
     ]
    }
   ],
   "source": [
    "a,*b,c, = [1,2,3,4,5]\n",
    "print(a, b, c)\n"
   ]
  },
  {
   "cell_type": "code",
   "execution_count": 49,
   "id": "a3ce3e41-aeb0-490a-8eb3-29d03034b008",
   "metadata": {},
   "outputs": [
    {
     "data": {
      "text/plain": [
       "__main__.hello"
      ]
     },
     "execution_count": 49,
     "metadata": {},
     "output_type": "execute_result"
    }
   ],
   "source": [
    "type(\"hello\",(),{})"
   ]
  },
  {
   "cell_type": "markdown",
   "id": "193e34a2-8a2b-4546-a284-dc810bc98423",
   "metadata": {},
   "source": [
    "# Super class \n",
    "This is used to the call the another class constructors in the other class"
   ]
  },
  {
   "cell_type": "code",
   "execution_count": 62,
   "id": "a0f39f71-76f5-472d-a098-f7bb43ebc4cd",
   "metadata": {},
   "outputs": [
    {
     "name": "stdout",
     "output_type": "stream",
     "text": [
      "A\n",
      "B\n",
      "C\n"
     ]
    }
   ],
   "source": [
    "class A:\n",
    "    def __init__(self):\n",
    "        print(\"A\")\n",
    "class B(A):\n",
    "    def __init__(self):\n",
    "        super().__init__()\n",
    "        print(\"B\")\n",
    "\n",
    "class B(B,A):\n",
    "    def __init__(self):\n",
    "        super().__init__()\n",
    "        print(\"C\")\n",
    "\n",
    "obj = B()\n"
   ]
  },
  {
   "cell_type": "markdown",
   "id": "b245bf6b-82ef-4361-a518-79c903db6e21",
   "metadata": {},
   "source": [
    "# Meta classes"
   ]
  },
  {
   "cell_type": "code",
   "execution_count": 116,
   "id": "425c613a-c054-413f-87d7-2ee70a076b52",
   "metadata": {},
   "outputs": [
    {
     "name": "stdout",
     "output_type": "stream",
     "text": [
      "attribes {'__module__': '__main__', '__qualname__': 'Dog', 'x': 5, 'y': 6, 'val': <function Dog.val at 0x0000029AE0B8A5C0>}\n",
      "Base (<class '__main__.Cat'>,)\n",
      "class name: Dog\n",
      "(15, 26)\n"
     ]
    }
   ],
   "source": [
    "class Meta(type):\n",
    "    def __new__(self,class_name,Base,attribes):\n",
    "        print(\"attribes\",attribes)\n",
    "        print(\"Base\",Base)\n",
    "        print(\"class name:\",class_name)\n",
    "        return type(class_name,Base,attribes) \n",
    "\n",
    "class Cat():\n",
    "    v = 10\n",
    "    b = 20\n",
    "\n",
    "class Dog(Cat, metaclass = Meta):\n",
    "    x = 5\n",
    "    y = 6\n",
    "    def val(self):\n",
    "        return Cat.v + Dog.x, Cat.b + Dog.y \n",
    "\n",
    "obj = Dog()\n",
    "print(obj.val())\n"
   ]
  },
  {
   "cell_type": "code",
   "execution_count": null,
   "id": "fb930321-9b1b-4eff-b43a-7d2b8555c28a",
   "metadata": {},
   "outputs": [],
   "source": []
  },
  {
   "cell_type": "code",
   "execution_count": 113,
   "id": "461a2cef-6d50-4e9d-9753-a4ad6cec3d52",
   "metadata": {},
   "outputs": [
    {
     "name": "stdout",
     "output_type": "stream",
     "text": [
      "This is the normal class\n"
     ]
    }
   ],
   "source": [
    "from abc import ABC, abstractmethod\n",
    "\n",
    "class ab(ABC):\n",
    "    @abstractmethod\n",
    "    def func2(self):\n",
    "        return \"This is the abstract class\"\n",
    "        \n",
    "        \n",
    "class ab1(ab):\n",
    "    def func2(self):\n",
    "        print(\"This is the normal class\")\n",
    "\n",
    "obj = ab1()\n",
    "obj.func2()"
   ]
  },
  {
   "cell_type": "code",
   "execution_count": 14,
   "id": "6b315b4e-912b-4c0c-9c9c-dde1df8d0cfc",
   "metadata": {},
   "outputs": [
    {
     "name": "stdout",
     "output_type": "stream",
     "text": [
      "process\n"
     ]
    }
   ],
   "source": [
    "import multiprocessing\n",
    "def sq(n):\n",
    "    for i in n:\n",
    "        print(n * n)\n",
    "\n",
    "def cu(n):\n",
    "    for i in n:\n",
    "        print(n * n * n)\n",
    "\n",
    "if __name__ == \"__main__\":\n",
    "    p1 = multiprocessing.Process(target = sq ,args = [1,2,3,4])\n",
    "    p2 = multiprocessing.Process(target = cu ,args = [1,2,3,4])\n",
    "    p1.start()\n",
    "    p2.start()\n",
    "\n",
    "    p1.join()\n",
    "    p2.join()\n",
    "\n",
    "    print(\"process\")\n",
    "    "
   ]
  },
  {
   "cell_type": "code",
   "execution_count": 15,
   "id": "0500a086-3373-46fd-898c-a59ff0c75f9e",
   "metadata": {},
   "outputs": [
    {
     "name": "stdout",
     "output_type": "stream",
     "text": [
      "Processes completed.\n"
     ]
    }
   ],
   "source": [
    "import multiprocessing\n",
    "\n",
    "# Function to calculate squares\n",
    "def sq(numbers):\n",
    "    for n in numbers:\n",
    "        print(f\"Square of {n}: {n * n}\", flush=True)\n",
    "\n",
    "# Function to calculate cubes\n",
    "def cu(numbers):\n",
    "    for n in numbers:\n",
    "        print(f\"Cube of {n}: {n * n * n}\", flush=True)\n",
    "\n",
    "if __name__ == \"__main__\":\n",
    "    # Create the processes\n",
    "    p1 = multiprocessing.Process(target=sq, args=([1, 2, 3, 4],))\n",
    "    p2 = multiprocessing.Process(target=cu, args=([1, 2, 3, 4],))\n",
    "\n",
    "    # Start the processes\n",
    "    p1.start()\n",
    "    p2.start()\n",
    "\n",
    "    # Wait for the processes to complete\n",
    "    p1.join()\n",
    "    p2.join()\n",
    "\n",
    "    print(\"Processes completed.\")\n"
   ]
  },
  {
   "cell_type": "markdown",
   "id": "1aac53e4-56ae-4ce2-b118-321a004244a3",
   "metadata": {},
   "source": [
    "# Database"
   ]
  },
  {
   "cell_type": "code",
   "execution_count": 21,
   "id": "61930c25-58a4-4e3f-bc09-90fe8d4c2fc6",
   "metadata": {},
   "outputs": [
    {
     "name": "stdout",
     "output_type": "stream",
     "text": [
      "Successfully connected to the database\n"
     ]
    }
   ],
   "source": [
    "import mysql.connector\n",
    "\n",
    "# Establish connection\n",
    "connection = mysql.connector.connect(\n",
    "    host=\"localhost\",      \n",
    "    user=\"root\",   \n",
    "    password=\"dwarakesh\", \n",
    "    database=\"dwara\"  \n",
    ")\n",
    "\n",
    "if connection.is_connected():\n",
    "    print(\"Successfully connected to the database\")\n"
   ]
  },
  {
   "cell_type": "code",
   "execution_count": 1,
   "id": "b20eb0f6-fd3d-4886-a848-3e0531122d84",
   "metadata": {},
   "outputs": [],
   "source": [
    "import mysql.connector\n",
    "\n",
    "conn = mysql.connector.connect(\n",
    "    host = \"localhost\",\n",
    "    user = \"root\",\n",
    "    password = \"dwarakesh\",\n",
    "    database = \"eg1\"\n",
    ")\n",
    "cursor = conn.cursor()\n",
    "\n",
    "cursor.execute(\"create table if not exists person(first_name varchar(30), employee_age int,Id int primary key)\")\n",
    "\n"
   ]
  },
  {
   "cell_type": "code",
   "execution_count": 2,
   "id": "692da070-bd21-42a3-9a7c-5b8eee63bbad",
   "metadata": {},
   "outputs": [
    {
     "ename": "IntegrityError",
     "evalue": "1062 (23000): Duplicate entry '1234' for key 'person.PRIMARY'",
     "output_type": "error",
     "traceback": [
      "\u001b[1;31m---------------------------------------------------------------------------\u001b[0m",
      "\u001b[1;31mMySQLInterfaceError\u001b[0m                       Traceback (most recent call last)",
      "File \u001b[1;32m~\\anaconda3\\Lib\\site-packages\\mysql\\connector\\connection_cext.py:706\u001b[0m, in \u001b[0;36mCMySQLConnection.cmd_query\u001b[1;34m(self, query, raw, buffered, raw_as_string)\u001b[0m\n\u001b[0;32m    705\u001b[0m         query \u001b[38;5;241m=\u001b[39m query\u001b[38;5;241m.\u001b[39mencode(\u001b[38;5;124m\"\u001b[39m\u001b[38;5;124mutf-8\u001b[39m\u001b[38;5;124m\"\u001b[39m)\n\u001b[1;32m--> 706\u001b[0m     \u001b[38;5;28mself\u001b[39m\u001b[38;5;241m.\u001b[39m_cmysql\u001b[38;5;241m.\u001b[39mquery(\n\u001b[0;32m    707\u001b[0m         query,\n\u001b[0;32m    708\u001b[0m         raw\u001b[38;5;241m=\u001b[39mraw,\n\u001b[0;32m    709\u001b[0m         buffered\u001b[38;5;241m=\u001b[39mbuffered,\n\u001b[0;32m    710\u001b[0m         raw_as_string\u001b[38;5;241m=\u001b[39mraw_as_string,\n\u001b[0;32m    711\u001b[0m         query_attrs\u001b[38;5;241m=\u001b[39m\u001b[38;5;28mself\u001b[39m\u001b[38;5;241m.\u001b[39mquery_attrs,\n\u001b[0;32m    712\u001b[0m     )\n\u001b[0;32m    713\u001b[0m \u001b[38;5;28;01mexcept\u001b[39;00m MySQLInterfaceError \u001b[38;5;28;01mas\u001b[39;00m err:\n",
      "\u001b[1;31mMySQLInterfaceError\u001b[0m: Duplicate entry '1234' for key 'person.PRIMARY'",
      "\nThe above exception was the direct cause of the following exception:\n",
      "\u001b[1;31mIntegrityError\u001b[0m                            Traceback (most recent call last)",
      "Cell \u001b[1;32mIn[2], line 1\u001b[0m\n\u001b[1;32m----> 1\u001b[0m cursor\u001b[38;5;241m.\u001b[39mexecute(\u001b[38;5;124m\"\u001b[39m\u001b[38;5;124minsert into person(first_name,employee_age,Id) values(\u001b[39m\u001b[38;5;132;01m%s\u001b[39;00m\u001b[38;5;124m,\u001b[39m\u001b[38;5;132;01m%s\u001b[39;00m\u001b[38;5;124m,\u001b[39m\u001b[38;5;132;01m%s\u001b[39;00m\u001b[38;5;124m)\u001b[39m\u001b[38;5;124m\"\u001b[39m,(\u001b[38;5;124m\"\u001b[39m\u001b[38;5;124mvalu\u001b[39m\u001b[38;5;124m\"\u001b[39m,\u001b[38;5;241m26\u001b[39m,\u001b[38;5;241m1234\u001b[39m))\n\u001b[0;32m      2\u001b[0m conn\u001b[38;5;241m.\u001b[39mcommit()\n\u001b[0;32m      4\u001b[0m cursor\u001b[38;5;241m.\u001b[39mexecute(\u001b[38;5;124m\"\u001b[39m\u001b[38;5;124mselect * from person\u001b[39m\u001b[38;5;124m\"\u001b[39m)\n",
      "File \u001b[1;32m~\\anaconda3\\Lib\\site-packages\\mysql\\connector\\cursor_cext.py:357\u001b[0m, in \u001b[0;36mCMySQLCursor.execute\u001b[1;34m(self, operation, params, multi)\u001b[0m\n\u001b[0;32m    352\u001b[0m             \u001b[38;5;28;01mraise\u001b[39;00m ProgrammingError(\n\u001b[0;32m    353\u001b[0m                 \u001b[38;5;124m\"\u001b[39m\u001b[38;5;124mNot all parameters were used in the SQL statement\u001b[39m\u001b[38;5;124m\"\u001b[39m\n\u001b[0;32m    354\u001b[0m             )\n\u001b[0;32m    356\u001b[0m \u001b[38;5;28;01mtry\u001b[39;00m:\n\u001b[1;32m--> 357\u001b[0m     result \u001b[38;5;241m=\u001b[39m \u001b[38;5;28mself\u001b[39m\u001b[38;5;241m.\u001b[39m_connection\u001b[38;5;241m.\u001b[39mcmd_query(\n\u001b[0;32m    358\u001b[0m         stmt,\n\u001b[0;32m    359\u001b[0m         raw\u001b[38;5;241m=\u001b[39m\u001b[38;5;28mself\u001b[39m\u001b[38;5;241m.\u001b[39m_raw,\n\u001b[0;32m    360\u001b[0m         buffered\u001b[38;5;241m=\u001b[39m\u001b[38;5;28mself\u001b[39m\u001b[38;5;241m.\u001b[39m_buffered,\n\u001b[0;32m    361\u001b[0m         raw_as_string\u001b[38;5;241m=\u001b[39m\u001b[38;5;28mself\u001b[39m\u001b[38;5;241m.\u001b[39m_raw_as_string,\n\u001b[0;32m    362\u001b[0m     )\n\u001b[0;32m    363\u001b[0m \u001b[38;5;28;01mexcept\u001b[39;00m MySQLInterfaceError \u001b[38;5;28;01mas\u001b[39;00m err:\n\u001b[0;32m    364\u001b[0m     \u001b[38;5;28;01mraise\u001b[39;00m get_mysql_exception(\n\u001b[0;32m    365\u001b[0m         msg\u001b[38;5;241m=\u001b[39merr\u001b[38;5;241m.\u001b[39mmsg, errno\u001b[38;5;241m=\u001b[39merr\u001b[38;5;241m.\u001b[39merrno, sqlstate\u001b[38;5;241m=\u001b[39merr\u001b[38;5;241m.\u001b[39msqlstate\n\u001b[0;32m    366\u001b[0m     ) \u001b[38;5;28;01mfrom\u001b[39;00m \u001b[38;5;21;01merr\u001b[39;00m\n",
      "File \u001b[1;32m~\\anaconda3\\Lib\\site-packages\\mysql\\connector\\opentelemetry\\context_propagation.py:97\u001b[0m, in \u001b[0;36mwith_context_propagation.<locals>.wrapper\u001b[1;34m(cnx, *args, **kwargs)\u001b[0m\n\u001b[0;32m     95\u001b[0m \u001b[38;5;66;03m# pylint: disable=possibly-used-before-assignment\u001b[39;00m\n\u001b[0;32m     96\u001b[0m \u001b[38;5;28;01mif\u001b[39;00m \u001b[38;5;129;01mnot\u001b[39;00m OTEL_ENABLED \u001b[38;5;129;01mor\u001b[39;00m \u001b[38;5;129;01mnot\u001b[39;00m cnx\u001b[38;5;241m.\u001b[39motel_context_propagation:\n\u001b[1;32m---> 97\u001b[0m     \u001b[38;5;28;01mreturn\u001b[39;00m method(cnx, \u001b[38;5;241m*\u001b[39margs, \u001b[38;5;241m*\u001b[39m\u001b[38;5;241m*\u001b[39mkwargs)\n\u001b[0;32m     99\u001b[0m current_span \u001b[38;5;241m=\u001b[39m trace\u001b[38;5;241m.\u001b[39mget_current_span()\n\u001b[0;32m    100\u001b[0m tp_header \u001b[38;5;241m=\u001b[39m \u001b[38;5;28;01mNone\u001b[39;00m\n",
      "File \u001b[1;32m~\\anaconda3\\Lib\\site-packages\\mysql\\connector\\connection_cext.py:714\u001b[0m, in \u001b[0;36mCMySQLConnection.cmd_query\u001b[1;34m(self, query, raw, buffered, raw_as_string)\u001b[0m\n\u001b[0;32m    706\u001b[0m     \u001b[38;5;28mself\u001b[39m\u001b[38;5;241m.\u001b[39m_cmysql\u001b[38;5;241m.\u001b[39mquery(\n\u001b[0;32m    707\u001b[0m         query,\n\u001b[0;32m    708\u001b[0m         raw\u001b[38;5;241m=\u001b[39mraw,\n\u001b[1;32m   (...)\u001b[0m\n\u001b[0;32m    711\u001b[0m         query_attrs\u001b[38;5;241m=\u001b[39m\u001b[38;5;28mself\u001b[39m\u001b[38;5;241m.\u001b[39mquery_attrs,\n\u001b[0;32m    712\u001b[0m     )\n\u001b[0;32m    713\u001b[0m \u001b[38;5;28;01mexcept\u001b[39;00m MySQLInterfaceError \u001b[38;5;28;01mas\u001b[39;00m err:\n\u001b[1;32m--> 714\u001b[0m     \u001b[38;5;28;01mraise\u001b[39;00m get_mysql_exception(\n\u001b[0;32m    715\u001b[0m         err\u001b[38;5;241m.\u001b[39merrno, msg\u001b[38;5;241m=\u001b[39merr\u001b[38;5;241m.\u001b[39mmsg, sqlstate\u001b[38;5;241m=\u001b[39merr\u001b[38;5;241m.\u001b[39msqlstate\n\u001b[0;32m    716\u001b[0m     ) \u001b[38;5;28;01mfrom\u001b[39;00m \u001b[38;5;21;01merr\u001b[39;00m\n\u001b[0;32m    717\u001b[0m \u001b[38;5;28;01mexcept\u001b[39;00m \u001b[38;5;167;01mAttributeError\u001b[39;00m \u001b[38;5;28;01mas\u001b[39;00m err:\n\u001b[0;32m    718\u001b[0m     addr \u001b[38;5;241m=\u001b[39m (\n\u001b[0;32m    719\u001b[0m         \u001b[38;5;28mself\u001b[39m\u001b[38;5;241m.\u001b[39m_unix_socket \u001b[38;5;28;01mif\u001b[39;00m \u001b[38;5;28mself\u001b[39m\u001b[38;5;241m.\u001b[39m_unix_socket \u001b[38;5;28;01melse\u001b[39;00m \u001b[38;5;124mf\u001b[39m\u001b[38;5;124m\"\u001b[39m\u001b[38;5;132;01m{\u001b[39;00m\u001b[38;5;28mself\u001b[39m\u001b[38;5;241m.\u001b[39m_host\u001b[38;5;132;01m}\u001b[39;00m\u001b[38;5;124m:\u001b[39m\u001b[38;5;132;01m{\u001b[39;00m\u001b[38;5;28mself\u001b[39m\u001b[38;5;241m.\u001b[39m_port\u001b[38;5;132;01m}\u001b[39;00m\u001b[38;5;124m\"\u001b[39m\n\u001b[0;32m    720\u001b[0m     )\n",
      "\u001b[1;31mIntegrityError\u001b[0m: 1062 (23000): Duplicate entry '1234' for key 'person.PRIMARY'"
     ]
    }
   ],
   "source": [
    "cursor.execute(\"insert into person(first_name,employee_age,Id) values(%s,%s,%s)\",(\"valu\",26,1234))\n",
    "conn.commit()\n",
    "\n",
    "cursor.execute(\"select * from person\")\n",
    "for i in cursor:\n",
    "    print(i)"
   ]
  },
  {
   "cell_type": "markdown",
   "id": "1d1fef12-4768-4ba3-9531-ce7ebcad9859",
   "metadata": {},
   "source": [
    "# describe"
   ]
  },
  {
   "cell_type": "code",
   "execution_count": null,
   "id": "74adad92-f50d-45d3-8115-30dcdcf10a8d",
   "metadata": {},
   "outputs": [],
   "source": [
    "cursor.execute(\"describe person\")\n",
    "for i in cursor:\n",
    "    print(i)"
   ]
  },
  {
   "cell_type": "markdown",
   "id": "9bb6d385-b1a2-4360-b5f1-567ffcb7da58",
   "metadata": {},
   "source": [
    "# where"
   ]
  },
  {
   "cell_type": "code",
   "execution_count": null,
   "id": "14e17b66-c94f-45c6-8809-b495d5d0ea4c",
   "metadata": {},
   "outputs": [],
   "source": [
    "cursor.execute(\"select * from person where first_name = 'Dwara'\")\n",
    "for i in cursor:\n",
    "    print(i)\n"
   ]
  },
  {
   "cell_type": "markdown",
   "id": "c92f522c-8342-4bd4-a840-bfb569b18298",
   "metadata": {},
   "source": [
    "# update"
   ]
  },
  {
   "cell_type": "code",
   "execution_count": null,
   "id": "58fe8fae-dafb-4928-8ae3-975922d42413",
   "metadata": {},
   "outputs": [],
   "source": [
    "cursor.execute(\"update person set first_name = 'dwara' where Id = 1001\")\n",
    "conn.commit()\n",
    "\n",
    "cursor.execute(\"select * from person\")\n",
    "for i in cursor:\n",
    "    print(i)\n"
   ]
  },
  {
   "cell_type": "markdown",
   "id": "f7b33e12-9b27-4266-ae0a-5e344d884e7f",
   "metadata": {},
   "source": [
    "# delete"
   ]
  },
  {
   "cell_type": "code",
   "execution_count": null,
   "id": "4d0a2655-e29c-46bc-a32c-d275ca54c6ef",
   "metadata": {},
   "outputs": [],
   "source": [
    "cursor.execute(\"DELETE FROM person WHERE first_name = 'shalini'\")\n",
    "conn.commit()\n",
    "cursor.execute(\"select * from person\")\n",
    "for i in cursor:\n",
    "    print(i)"
   ]
  },
  {
   "cell_type": "markdown",
   "id": "9cc68178-67d8-47b8-9dd3-419cd61e388f",
   "metadata": {},
   "source": [
    "# alter"
   ]
  },
  {
   "cell_type": "code",
   "execution_count": null,
   "id": "81ecfeb0-9c1f-4350-9410-50bc5fa674cf",
   "metadata": {},
   "outputs": [],
   "source": [
    "'''cursor.execute(\"alter table person CHANGE age employee_age INT\")\n",
    "conn.commit()\n",
    "cursor.execute(\"select * from person\")\n",
    "for i in cursor:\n",
    "    print(i)'''"
   ]
  },
  {
   "cell_type": "code",
   "execution_count": null,
   "id": "7fa496bc-9816-4e4a-805b-b722fafebcf0",
   "metadata": {},
   "outputs": [],
   "source": [
    "cursor.execute(\"describe person\")\n",
    "for i in cursor:\n",
    "    print(i)"
   ]
  },
  {
   "cell_type": "code",
   "execution_count": null,
   "id": "f53ee611-ca5c-4b8d-afa6-829d7cc3c8e7",
   "metadata": {},
   "outputs": [],
   "source": [
    "cursor.execute(\"update person set first_name = 'gurunathaaa' where Id = 1000\")\n",
    "conn.commit()\n"
   ]
  },
  {
   "cell_type": "code",
   "execution_count": null,
   "id": "db731475-ee40-4fe5-ae7a-21bcf1a799c2",
   "metadata": {},
   "outputs": [],
   "source": [
    "cursor.execute(\"select * from person\")\n",
    "for i in cursor:\n",
    "    print(i)"
   ]
  },
  {
   "cell_type": "markdown",
   "id": "1c63e6d5-5c84-4986-a3b2-772fde49cbf9",
   "metadata": {},
   "source": [
    "# Rollback"
   ]
  },
  {
   "cell_type": "code",
   "execution_count": null,
   "id": "7fd06f87-92ee-42c6-9df3-580d649c6273",
   "metadata": {},
   "outputs": [],
   "source": [
    "conn.rollback()"
   ]
  },
  {
   "cell_type": "markdown",
   "id": "002c5f48-c3a2-41e0-aae3-66e71393015c",
   "metadata": {},
   "source": [
    "# SQL Queries"
   ]
  },
  {
   "cell_type": "code",
   "execution_count": 3,
   "id": "305e62ad-a37e-42bd-82aa-bdc8d6072ddc",
   "metadata": {},
   "outputs": [
    {
     "data": {
      "text/plain": [
       "[('dwara', 23), ('harsha', 25), ('jumbo', 25)]"
      ]
     },
     "execution_count": 3,
     "metadata": {},
     "output_type": "execute_result"
    }
   ],
   "source": [
    "cursor.execute(\"select first_name,employee_age from person where employee_age <= 25 order by Id \")\n",
    "result = cursor.fetchall()\n",
    "result"
   ]
  },
  {
   "cell_type": "code",
   "execution_count": 4,
   "id": "c8a1387c-f390-40ef-ac42-42525d22dd02",
   "metadata": {},
   "outputs": [
    {
     "data": {
      "text/plain": [
       "[('charle', 26, 999, datetime.date(2025, 1, 1)),\n",
       " ('gurunathaaa', 26, 1000, datetime.date(2025, 1, 2)),\n",
       " ('dwara', 23, 1001, datetime.date(2025, 1, 3)),\n",
       " ('harsha', 25, 1005, datetime.date(2025, 1, 4)),\n",
       " ('jumbo', 25, 1006, datetime.date(2025, 1, 5)),\n",
       " ('dgvc', 26, 1010, datetime.date(2025, 1, 6)),\n",
       " ('amb', 26, 1080, datetime.date(2025, 1, 7)),\n",
       " ('prabu', 26, 1081, datetime.date(2025, 1, 8)),\n",
       " ('valu', 26, 1234, datetime.date(2025, 1, 9))]"
      ]
     },
     "execution_count": 4,
     "metadata": {},
     "output_type": "execute_result"
    }
   ],
   "source": [
    "cursor.execute(\"select * from person order by Id \")\n",
    "result = cursor.fetchall()\n",
    "result"
   ]
  },
  {
   "cell_type": "markdown",
   "id": "c02e51a7-9d75-4bb2-a13a-960a68e92f3e",
   "metadata": {},
   "source": [
    "# aggreagate function"
   ]
  },
  {
   "cell_type": "code",
   "execution_count": 5,
   "id": "12d81762-92c0-49ca-b016-ae9c170f3ead",
   "metadata": {},
   "outputs": [
    {
     "name": "stdout",
     "output_type": "stream",
     "text": [
      "[(9,)]\n",
      "[(Decimal('229'),)]\n",
      "[(23,)]\n",
      "[(26,)]\n"
     ]
    }
   ],
   "source": [
    "cursor.execute(\"select count(*) from person\")\n",
    "result = cursor.fetchall()\n",
    "print(result)\n",
    "\n",
    "cursor.execute(\"select sum(employee_age) from person \")\n",
    "result = cursor.fetchall()\n",
    "print(result)\n",
    "\n",
    "cursor.execute(\"select min(employee_age) from person\")\n",
    "result = cursor.fetchall()\n",
    "print(result)\n",
    "\n",
    "cursor.execute(\"select max(employee_age) from person\")\n",
    "result = cursor.fetchall()\n",
    "print(result)"
   ]
  },
  {
   "cell_type": "markdown",
   "id": "f145fdfb-49b0-4df9-9101-c04c8cc558a1",
   "metadata": {},
   "source": [
    "# altering the column"
   ]
  },
  {
   "cell_type": "code",
   "execution_count": 6,
   "id": "f3b1b669-24ce-486c-abdf-579c8a433c2b",
   "metadata": {},
   "outputs": [
    {
     "ename": "ProgrammingError",
     "evalue": "1060 (42S21): Duplicate column name 'joined_date'",
     "output_type": "error",
     "traceback": [
      "\u001b[1;31m---------------------------------------------------------------------------\u001b[0m",
      "\u001b[1;31mMySQLInterfaceError\u001b[0m                       Traceback (most recent call last)",
      "File \u001b[1;32m~\\anaconda3\\Lib\\site-packages\\mysql\\connector\\connection_cext.py:706\u001b[0m, in \u001b[0;36mCMySQLConnection.cmd_query\u001b[1;34m(self, query, raw, buffered, raw_as_string)\u001b[0m\n\u001b[0;32m    705\u001b[0m         query \u001b[38;5;241m=\u001b[39m query\u001b[38;5;241m.\u001b[39mencode(\u001b[38;5;124m\"\u001b[39m\u001b[38;5;124mutf-8\u001b[39m\u001b[38;5;124m\"\u001b[39m)\n\u001b[1;32m--> 706\u001b[0m     \u001b[38;5;28mself\u001b[39m\u001b[38;5;241m.\u001b[39m_cmysql\u001b[38;5;241m.\u001b[39mquery(\n\u001b[0;32m    707\u001b[0m         query,\n\u001b[0;32m    708\u001b[0m         raw\u001b[38;5;241m=\u001b[39mraw,\n\u001b[0;32m    709\u001b[0m         buffered\u001b[38;5;241m=\u001b[39mbuffered,\n\u001b[0;32m    710\u001b[0m         raw_as_string\u001b[38;5;241m=\u001b[39mraw_as_string,\n\u001b[0;32m    711\u001b[0m         query_attrs\u001b[38;5;241m=\u001b[39m\u001b[38;5;28mself\u001b[39m\u001b[38;5;241m.\u001b[39mquery_attrs,\n\u001b[0;32m    712\u001b[0m     )\n\u001b[0;32m    713\u001b[0m \u001b[38;5;28;01mexcept\u001b[39;00m MySQLInterfaceError \u001b[38;5;28;01mas\u001b[39;00m err:\n",
      "\u001b[1;31mMySQLInterfaceError\u001b[0m: Duplicate column name 'joined_date'",
      "\nThe above exception was the direct cause of the following exception:\n",
      "\u001b[1;31mProgrammingError\u001b[0m                          Traceback (most recent call last)",
      "Cell \u001b[1;32mIn[6], line 1\u001b[0m\n\u001b[1;32m----> 1\u001b[0m cursor\u001b[38;5;241m.\u001b[39mexecute(\u001b[38;5;124m\"\u001b[39m\u001b[38;5;124mALTER TABLE person ADD joined_date DATE\u001b[39m\u001b[38;5;124m\"\u001b[39m)\n",
      "File \u001b[1;32m~\\anaconda3\\Lib\\site-packages\\mysql\\connector\\cursor_cext.py:357\u001b[0m, in \u001b[0;36mCMySQLCursor.execute\u001b[1;34m(self, operation, params, multi)\u001b[0m\n\u001b[0;32m    352\u001b[0m             \u001b[38;5;28;01mraise\u001b[39;00m ProgrammingError(\n\u001b[0;32m    353\u001b[0m                 \u001b[38;5;124m\"\u001b[39m\u001b[38;5;124mNot all parameters were used in the SQL statement\u001b[39m\u001b[38;5;124m\"\u001b[39m\n\u001b[0;32m    354\u001b[0m             )\n\u001b[0;32m    356\u001b[0m \u001b[38;5;28;01mtry\u001b[39;00m:\n\u001b[1;32m--> 357\u001b[0m     result \u001b[38;5;241m=\u001b[39m \u001b[38;5;28mself\u001b[39m\u001b[38;5;241m.\u001b[39m_connection\u001b[38;5;241m.\u001b[39mcmd_query(\n\u001b[0;32m    358\u001b[0m         stmt,\n\u001b[0;32m    359\u001b[0m         raw\u001b[38;5;241m=\u001b[39m\u001b[38;5;28mself\u001b[39m\u001b[38;5;241m.\u001b[39m_raw,\n\u001b[0;32m    360\u001b[0m         buffered\u001b[38;5;241m=\u001b[39m\u001b[38;5;28mself\u001b[39m\u001b[38;5;241m.\u001b[39m_buffered,\n\u001b[0;32m    361\u001b[0m         raw_as_string\u001b[38;5;241m=\u001b[39m\u001b[38;5;28mself\u001b[39m\u001b[38;5;241m.\u001b[39m_raw_as_string,\n\u001b[0;32m    362\u001b[0m     )\n\u001b[0;32m    363\u001b[0m \u001b[38;5;28;01mexcept\u001b[39;00m MySQLInterfaceError \u001b[38;5;28;01mas\u001b[39;00m err:\n\u001b[0;32m    364\u001b[0m     \u001b[38;5;28;01mraise\u001b[39;00m get_mysql_exception(\n\u001b[0;32m    365\u001b[0m         msg\u001b[38;5;241m=\u001b[39merr\u001b[38;5;241m.\u001b[39mmsg, errno\u001b[38;5;241m=\u001b[39merr\u001b[38;5;241m.\u001b[39merrno, sqlstate\u001b[38;5;241m=\u001b[39merr\u001b[38;5;241m.\u001b[39msqlstate\n\u001b[0;32m    366\u001b[0m     ) \u001b[38;5;28;01mfrom\u001b[39;00m \u001b[38;5;21;01merr\u001b[39;00m\n",
      "File \u001b[1;32m~\\anaconda3\\Lib\\site-packages\\mysql\\connector\\opentelemetry\\context_propagation.py:97\u001b[0m, in \u001b[0;36mwith_context_propagation.<locals>.wrapper\u001b[1;34m(cnx, *args, **kwargs)\u001b[0m\n\u001b[0;32m     95\u001b[0m \u001b[38;5;66;03m# pylint: disable=possibly-used-before-assignment\u001b[39;00m\n\u001b[0;32m     96\u001b[0m \u001b[38;5;28;01mif\u001b[39;00m \u001b[38;5;129;01mnot\u001b[39;00m OTEL_ENABLED \u001b[38;5;129;01mor\u001b[39;00m \u001b[38;5;129;01mnot\u001b[39;00m cnx\u001b[38;5;241m.\u001b[39motel_context_propagation:\n\u001b[1;32m---> 97\u001b[0m     \u001b[38;5;28;01mreturn\u001b[39;00m method(cnx, \u001b[38;5;241m*\u001b[39margs, \u001b[38;5;241m*\u001b[39m\u001b[38;5;241m*\u001b[39mkwargs)\n\u001b[0;32m     99\u001b[0m current_span \u001b[38;5;241m=\u001b[39m trace\u001b[38;5;241m.\u001b[39mget_current_span()\n\u001b[0;32m    100\u001b[0m tp_header \u001b[38;5;241m=\u001b[39m \u001b[38;5;28;01mNone\u001b[39;00m\n",
      "File \u001b[1;32m~\\anaconda3\\Lib\\site-packages\\mysql\\connector\\connection_cext.py:714\u001b[0m, in \u001b[0;36mCMySQLConnection.cmd_query\u001b[1;34m(self, query, raw, buffered, raw_as_string)\u001b[0m\n\u001b[0;32m    706\u001b[0m     \u001b[38;5;28mself\u001b[39m\u001b[38;5;241m.\u001b[39m_cmysql\u001b[38;5;241m.\u001b[39mquery(\n\u001b[0;32m    707\u001b[0m         query,\n\u001b[0;32m    708\u001b[0m         raw\u001b[38;5;241m=\u001b[39mraw,\n\u001b[1;32m   (...)\u001b[0m\n\u001b[0;32m    711\u001b[0m         query_attrs\u001b[38;5;241m=\u001b[39m\u001b[38;5;28mself\u001b[39m\u001b[38;5;241m.\u001b[39mquery_attrs,\n\u001b[0;32m    712\u001b[0m     )\n\u001b[0;32m    713\u001b[0m \u001b[38;5;28;01mexcept\u001b[39;00m MySQLInterfaceError \u001b[38;5;28;01mas\u001b[39;00m err:\n\u001b[1;32m--> 714\u001b[0m     \u001b[38;5;28;01mraise\u001b[39;00m get_mysql_exception(\n\u001b[0;32m    715\u001b[0m         err\u001b[38;5;241m.\u001b[39merrno, msg\u001b[38;5;241m=\u001b[39merr\u001b[38;5;241m.\u001b[39mmsg, sqlstate\u001b[38;5;241m=\u001b[39merr\u001b[38;5;241m.\u001b[39msqlstate\n\u001b[0;32m    716\u001b[0m     ) \u001b[38;5;28;01mfrom\u001b[39;00m \u001b[38;5;21;01merr\u001b[39;00m\n\u001b[0;32m    717\u001b[0m \u001b[38;5;28;01mexcept\u001b[39;00m \u001b[38;5;167;01mAttributeError\u001b[39;00m \u001b[38;5;28;01mas\u001b[39;00m err:\n\u001b[0;32m    718\u001b[0m     addr \u001b[38;5;241m=\u001b[39m (\n\u001b[0;32m    719\u001b[0m         \u001b[38;5;28mself\u001b[39m\u001b[38;5;241m.\u001b[39m_unix_socket \u001b[38;5;28;01mif\u001b[39;00m \u001b[38;5;28mself\u001b[39m\u001b[38;5;241m.\u001b[39m_unix_socket \u001b[38;5;28;01melse\u001b[39;00m \u001b[38;5;124mf\u001b[39m\u001b[38;5;124m\"\u001b[39m\u001b[38;5;132;01m{\u001b[39;00m\u001b[38;5;28mself\u001b[39m\u001b[38;5;241m.\u001b[39m_host\u001b[38;5;132;01m}\u001b[39;00m\u001b[38;5;124m:\u001b[39m\u001b[38;5;132;01m{\u001b[39;00m\u001b[38;5;28mself\u001b[39m\u001b[38;5;241m.\u001b[39m_port\u001b[38;5;132;01m}\u001b[39;00m\u001b[38;5;124m\"\u001b[39m\n\u001b[0;32m    720\u001b[0m     )\n",
      "\u001b[1;31mProgrammingError\u001b[0m: 1060 (42S21): Duplicate column name 'joined_date'"
     ]
    }
   ],
   "source": [
    "cursor.execute(\"ALTER TABLE person ADD joined_date DATE\")"
   ]
  },
  {
   "cell_type": "code",
   "execution_count": null,
   "id": "228f1b8d-5481-410a-9a9e-bf451e1164fe",
   "metadata": {},
   "outputs": [],
   "source": [
    "cursor.execute(\"describe person\")\n",
    "for i in cursor:\n",
    "    print(i)"
   ]
  },
  {
   "cell_type": "code",
   "execution_count": null,
   "id": "fb23d354-8904-4eb9-bb8b-c509da460459",
   "metadata": {},
   "outputs": [],
   "source": [
    "cursor.execute(\"UPDATE person SET joined_date = '2025-01-01' WHERE Id = 999\")"
   ]
  },
  {
   "cell_type": "code",
   "execution_count": 7,
   "id": "3bf7f0dc-50f9-4909-acaa-04ae6e9575e9",
   "metadata": {},
   "outputs": [],
   "source": [
    "cursor.execute(\"UPDATE person SET joined_date = '2025-01-02' WHERE Id = 1000\")"
   ]
  },
  {
   "cell_type": "code",
   "execution_count": 8,
   "id": "515b874f-8e7a-462e-a3b4-7209b87dc24d",
   "metadata": {},
   "outputs": [],
   "source": [
    "cursor.execute(\"UPDATE person SET joined_date = '2025-01-03' WHERE Id = 1001\")"
   ]
  },
  {
   "cell_type": "code",
   "execution_count": 9,
   "id": "5fedbf50-7b47-49c1-bbfc-fb6cce04375e",
   "metadata": {},
   "outputs": [],
   "source": [
    "cursor.execute(\"UPDATE person SET joined_date = '2025-01-04' WHERE Id = 1005\")"
   ]
  },
  {
   "cell_type": "code",
   "execution_count": 10,
   "id": "312de89f-c6cf-4606-8982-5a00a406b8ff",
   "metadata": {},
   "outputs": [],
   "source": [
    "cursor.execute(\"UPDATE person SET joined_date = '2025-01-05' WHERE Id = 1006\")"
   ]
  },
  {
   "cell_type": "code",
   "execution_count": 11,
   "id": "82a4ff5e-3a17-47c6-b727-e95ac4fec892",
   "metadata": {},
   "outputs": [],
   "source": [
    "cursor.execute(\"UPDATE person SET joined_date = '2025-01-06' WHERE Id = 1010\")"
   ]
  },
  {
   "cell_type": "code",
   "execution_count": 12,
   "id": "6df8309f-b8ca-4d23-8415-23b9bbd5f5a2",
   "metadata": {},
   "outputs": [],
   "source": [
    "cursor.execute(\"UPDATE person SET joined_date = '2025-01-07' WHERE Id = 1080\")"
   ]
  },
  {
   "cell_type": "code",
   "execution_count": 13,
   "id": "f1a2d8ee-3195-48ea-a710-6ee3f4b7515e",
   "metadata": {},
   "outputs": [],
   "source": [
    "cursor.execute(\"UPDATE person SET joined_date = '2025-01-08' WHERE Id = 1081\")"
   ]
  },
  {
   "cell_type": "code",
   "execution_count": 14,
   "id": "fda55496-6875-4a7c-8d48-7bcf6244dcb1",
   "metadata": {},
   "outputs": [],
   "source": [
    "cursor.execute(\"UPDATE person SET joined_date = '2025-01-09' WHERE Id = 1234\")"
   ]
  },
  {
   "cell_type": "code",
   "execution_count": 15,
   "id": "36e65f8e-a735-454b-9826-332543254d7e",
   "metadata": {},
   "outputs": [
    {
     "name": "stdout",
     "output_type": "stream",
     "text": [
      "('charle', 26, 999, datetime.date(2025, 1, 1))\n",
      "('gurunathaaa', 26, 1000, datetime.date(2025, 1, 2))\n",
      "('dwara', 23, 1001, datetime.date(2025, 1, 3))\n",
      "('harsha', 25, 1005, datetime.date(2025, 1, 4))\n",
      "('jumbo', 25, 1006, datetime.date(2025, 1, 5))\n",
      "('dgvc', 26, 1010, datetime.date(2025, 1, 6))\n",
      "('amb', 26, 1080, datetime.date(2025, 1, 7))\n",
      "('prabu', 26, 1081, datetime.date(2025, 1, 8))\n",
      "('valu', 26, 1234, datetime.date(2025, 1, 9))\n"
     ]
    }
   ],
   "source": [
    "cursor.execute(\"select * from person\")\n",
    "for i in cursor:\n",
    "    print(i)"
   ]
  },
  {
   "cell_type": "markdown",
   "id": "d8a87686-e78d-4a9e-b849-ae154551c2ec",
   "metadata": {},
   "source": [
    "# Scaler function"
   ]
  },
  {
   "cell_type": "code",
   "execution_count": 16,
   "id": "4214c0cd-dd64-4816-9aaa-dd6e45fde91f",
   "metadata": {},
   "outputs": [
    {
     "name": "stdout",
     "output_type": "stream",
     "text": [
      "('CHARLE',)\n",
      "('GURUNATHAAA',)\n",
      "('DWARA',)\n",
      "('HARSHA',)\n",
      "('JUMBO',)\n",
      "('DGVC',)\n",
      "('AMB',)\n",
      "('PRABU',)\n",
      "('VALU',)\n"
     ]
    }
   ],
   "source": [
    "cursor.execute(\"select upper(first_name) from person\")\n",
    "for i in cursor:\n",
    "    print(i)"
   ]
  },
  {
   "cell_type": "code",
   "execution_count": 17,
   "id": "1ce480c5-cafd-448f-9278-f94cfc89a410",
   "metadata": {},
   "outputs": [
    {
     "name": "stdout",
     "output_type": "stream",
     "text": [
      "(999,)\n",
      "(1000,)\n",
      "(1001,)\n",
      "(1005,)\n",
      "(1006,)\n",
      "(1010,)\n",
      "(1080,)\n",
      "(1081,)\n",
      "(1234,)\n"
     ]
    }
   ],
   "source": [
    "cursor.execute(\"select abs(Id) from person\")\n",
    "for i in cursor:\n",
    "    print(i)"
   ]
  },
  {
   "cell_type": "code",
   "execution_count": 18,
   "id": "337ecdaf-2529-4087-9c14-bf206c66d744",
   "metadata": {},
   "outputs": [
    {
     "name": "stdout",
     "output_type": "stream",
     "text": [
      "(6,)\n",
      "(11,)\n",
      "(5,)\n",
      "(6,)\n",
      "(5,)\n",
      "(4,)\n",
      "(3,)\n",
      "(5,)\n",
      "(4,)\n"
     ]
    }
   ],
   "source": [
    "cursor.execute(\"select Length(first_name) from person\")\n",
    "for i in cursor:\n",
    "    print(i)"
   ]
  },
  {
   "cell_type": "code",
   "execution_count": 19,
   "id": "c9b604d9-863a-4496-b95b-47f31b1f27db",
   "metadata": {},
   "outputs": [],
   "source": [
    "cursor.execute(\"SELECT first_name, IF(employee_age <= 25 , 'Adult', 'Minor') AS AgeGroup FROM person;\")"
   ]
  },
  {
   "cell_type": "code",
   "execution_count": 20,
   "id": "2878f6ab-dc68-486f-8b46-7a6eccf52858",
   "metadata": {},
   "outputs": [
    {
     "name": "stdout",
     "output_type": "stream",
     "text": [
      "('charle', 'Minor')\n",
      "('gurunathaaa', 'Minor')\n",
      "('dwara', 'Adult')\n",
      "('harsha', 'Adult')\n",
      "('jumbo', 'Adult')\n",
      "('dgvc', 'Minor')\n",
      "('amb', 'Minor')\n",
      "('prabu', 'Minor')\n",
      "('valu', 'Minor')\n"
     ]
    }
   ],
   "source": [
    "for i in cursor:\n",
    "    print(i)"
   ]
  },
  {
   "cell_type": "markdown",
   "id": "911f9ca6-c8d1-4160-949d-16a750911bc3",
   "metadata": {},
   "source": [
    "# Date function"
   ]
  },
  {
   "cell_type": "code",
   "execution_count": 21,
   "id": "10b94337-12ef-4392-8b0b-8e9f043324d8",
   "metadata": {},
   "outputs": [
    {
     "name": "stdout",
     "output_type": "stream",
     "text": [
      "2025-01-22 15:20:43\n"
     ]
    }
   ],
   "source": [
    "cursor.execute(\"SELECT CURDATE() AS CurrentDate, NOW() AS CurrentDateTime\")\n",
    "result = cursor.fetchone()\n",
    "print(result[1])"
   ]
  },
  {
   "cell_type": "code",
   "execution_count": 22,
   "id": "7ac02b11-1777-46de-9018-1fd2f6f2a87f",
   "metadata": {},
   "outputs": [
    {
     "name": "stdout",
     "output_type": "stream",
     "text": [
      "[(2025, 'charle'), (2025, 'gurunathaaa'), (2025, 'dwara'), (2025, 'harsha'), (2025, 'jumbo'), (2025, 'dgvc'), (2025, 'amb'), (2025, 'prabu'), (2025, 'valu')]\n"
     ]
    }
   ],
   "source": [
    "cursor.execute(\"SELECT year(joined_date) AS yearofjoining , first_name from person \")\n",
    "result = cursor.fetchall()\n",
    "print(result)"
   ]
  },
  {
   "cell_type": "code",
   "execution_count": 23,
   "id": "a8df1a9a-5ca2-43c7-b738-435c1e8c6014",
   "metadata": {},
   "outputs": [
    {
     "name": "stdout",
     "output_type": "stream",
     "text": [
      "[(1, 'charle'), (1, 'gurunathaaa'), (1, 'dwara'), (1, 'harsha'), (1, 'jumbo'), (1, 'dgvc'), (1, 'amb'), (1, 'prabu'), (1, 'valu')]\n"
     ]
    }
   ],
   "source": [
    "cursor.execute(\"SELECT month(joined_date) AS yearofjoining , first_name from person \")\n",
    "result = cursor.fetchall()\n",
    "print(result)"
   ]
  },
  {
   "cell_type": "code",
   "execution_count": 24,
   "id": "fc19e8c2-5926-4aa5-8088-1bb9e0340c97",
   "metadata": {},
   "outputs": [
    {
     "name": "stdout",
     "output_type": "stream",
     "text": [
      "[(1, 'charle'), (2, 'gurunathaaa'), (3, 'dwara'), (4, 'harsha'), (5, 'jumbo'), (6, 'dgvc'), (7, 'amb'), (8, 'prabu'), (9, 'valu')]\n"
     ]
    }
   ],
   "source": [
    "cursor.execute(\"SELECT day(joined_date) AS yearofjoining , first_name from person \")\n",
    "result = cursor.fetchall()\n",
    "print(result)"
   ]
  },
  {
   "cell_type": "markdown",
   "id": "dc8e353d-8bcc-4c2a-be23-6bd2d4ad5a47",
   "metadata": {},
   "source": [
    "# SQL Joins"
   ]
  },
  {
   "cell_type": "code",
   "execution_count": 25,
   "id": "b4be853e-2ea2-4703-92cc-4dd47be5c234",
   "metadata": {},
   "outputs": [
    {
     "name": "stdout",
     "output_type": "stream",
     "text": [
      "('salary', 'int', 'YES', '', None, '')\n",
      "('place', 'varchar(30)', 'YES', '', None, '')\n",
      "('Id', 'int', 'YES', '', None, '')\n"
     ]
    }
   ],
   "source": [
    "cursor.execute(\"create table if not exists employee(salary int, place varchar(30),Id int)\")\n",
    "cursor.execute(\"describe employee\")\n",
    "for i in cursor:\n",
    "    print(i)"
   ]
  },
  {
   "cell_type": "code",
   "execution_count": 26,
   "id": "f698d439-1fc3-440f-b9eb-ba3b848f208e",
   "metadata": {},
   "outputs": [],
   "source": [
    "cursor.execute(\"insert into employee(salary, place ,Id ) values (%s,%s,%s)\",(50000,'chennai',999))"
   ]
  },
  {
   "cell_type": "code",
   "execution_count": 27,
   "id": "2fbd3993-0c6f-4104-9036-29054b4833fe",
   "metadata": {},
   "outputs": [],
   "source": [
    "cursor.execute(\"insert into employee(salary, place ,Id ) values (%s,%s,%s)\",(60000,'thiruvallur',1000))"
   ]
  },
  {
   "cell_type": "code",
   "execution_count": 28,
   "id": "62495dd6-182a-4bd2-9d78-2601edb28572",
   "metadata": {},
   "outputs": [],
   "source": [
    "cursor.execute(\"insert into employee(salary, place ,Id ) values (%s,%s,%s)\",(70000,'kanchi',1001))"
   ]
  },
  {
   "cell_type": "code",
   "execution_count": 29,
   "id": "db17d4bd-8169-40f5-9c0a-88f66c274e7f",
   "metadata": {},
   "outputs": [],
   "source": [
    "cursor.execute(\"insert into employee(salary, place ,Id ) values (%s,%s,%s)\",(80000,'delhi',1005))"
   ]
  },
  {
   "cell_type": "code",
   "execution_count": 30,
   "id": "721995b8-bfbf-45e9-83e1-51a8382cb041",
   "metadata": {},
   "outputs": [],
   "source": [
    "cursor.execute(\"insert into employee(salary, place ,Id ) values (%s,%s,%s)\",(50000,'UP',1006))"
   ]
  },
  {
   "cell_type": "code",
   "execution_count": 31,
   "id": "086a6784-8f11-47fb-bc93-8d459c530f41",
   "metadata": {},
   "outputs": [],
   "source": [
    "cursor.execute(\"insert into employee(salary, place ,Id ) values (%s,%s,%s)\",(20000,'karur',1010))"
   ]
  },
  {
   "cell_type": "code",
   "execution_count": 32,
   "id": "43ef2039-10a0-46ce-aa37-96c924e756f4",
   "metadata": {},
   "outputs": [],
   "source": [
    "cursor.execute(\"insert into employee(salary, place ,Id ) values (%s,%s,%s)\",(10000,'thirunaveli',1080))"
   ]
  },
  {
   "cell_type": "code",
   "execution_count": 33,
   "id": "60b8a8d3-9c91-42dd-92d0-9ed0a1a337b9",
   "metadata": {},
   "outputs": [],
   "source": [
    "cursor.execute(\"insert into employee(salary, place ,Id ) values (%s,%s,%s)\",(60000,'madurai',1081))"
   ]
  },
  {
   "cell_type": "code",
   "execution_count": 34,
   "id": "798db528-b1d2-4ea3-984b-7985cc67f85e",
   "metadata": {},
   "outputs": [],
   "source": [
    "cursor.execute(\"insert into employee(salary, place ,Id ) values (%s,%s,%s)\",(66000,'trichy',1234))"
   ]
  },
  {
   "cell_type": "code",
   "execution_count": 35,
   "id": "546da629-0c40-49a5-a3ae-a582ebd05f34",
   "metadata": {},
   "outputs": [
    {
     "name": "stdout",
     "output_type": "stream",
     "text": [
      "(50000, 'chennai', 999)\n",
      "(60000, 'thiruvallur', 1000)\n",
      "(70000, 'kanchi', 1001)\n",
      "(80000, 'delhi', 1005)\n",
      "(50000, 'UP', 1006)\n",
      "(20000, 'karur', 1010)\n",
      "(10000, 'thirunaveli', 1080)\n",
      "(60000, 'madurai', 1081)\n",
      "(66000, 'trichy', 1234)\n",
      "(50000, 'chennai', 999)\n",
      "(60000, 'thiruvallur', 1000)\n",
      "(70000, 'kanchi', 1001)\n",
      "(80000, 'delhi', 1005)\n",
      "(50000, 'UP', 1006)\n",
      "(20000, 'karur', 1010)\n",
      "(10000, 'thirunaveli', 1080)\n",
      "(60000, 'madurai', 1081)\n",
      "(66000, 'trichy', 1234)\n"
     ]
    }
   ],
   "source": [
    "cursor.execute(\"select * from  employee\")\n",
    "for i in cursor:\n",
    "    print(i)"
   ]
  },
  {
   "cell_type": "markdown",
   "id": "50b86101-9268-47b5-a499-98c0578998d5",
   "metadata": {},
   "source": [
    "# Left joins"
   ]
  },
  {
   "cell_type": "code",
   "execution_count": 36,
   "id": "e270136a-a256-43b9-b8db-547700444b74",
   "metadata": {},
   "outputs": [
    {
     "name": "stdout",
     "output_type": "stream",
     "text": [
      "('charle', 26, 999, datetime.date(2025, 1, 1), 50000, 'chennai', 999)\n",
      "('charle', 26, 999, datetime.date(2025, 1, 1), 50000, 'chennai', 999)\n",
      "('gurunathaaa', 26, 1000, datetime.date(2025, 1, 2), 60000, 'thiruvallur', 1000)\n",
      "('gurunathaaa', 26, 1000, datetime.date(2025, 1, 2), 60000, 'thiruvallur', 1000)\n",
      "('dwara', 23, 1001, datetime.date(2025, 1, 3), 70000, 'kanchi', 1001)\n",
      "('dwara', 23, 1001, datetime.date(2025, 1, 3), 70000, 'kanchi', 1001)\n",
      "('harsha', 25, 1005, datetime.date(2025, 1, 4), 80000, 'delhi', 1005)\n",
      "('harsha', 25, 1005, datetime.date(2025, 1, 4), 80000, 'delhi', 1005)\n",
      "('jumbo', 25, 1006, datetime.date(2025, 1, 5), 50000, 'UP', 1006)\n",
      "('jumbo', 25, 1006, datetime.date(2025, 1, 5), 50000, 'UP', 1006)\n",
      "('dgvc', 26, 1010, datetime.date(2025, 1, 6), 20000, 'karur', 1010)\n",
      "('dgvc', 26, 1010, datetime.date(2025, 1, 6), 20000, 'karur', 1010)\n",
      "('amb', 26, 1080, datetime.date(2025, 1, 7), 10000, 'thirunaveli', 1080)\n",
      "('amb', 26, 1080, datetime.date(2025, 1, 7), 10000, 'thirunaveli', 1080)\n",
      "('prabu', 26, 1081, datetime.date(2025, 1, 8), 60000, 'madurai', 1081)\n",
      "('prabu', 26, 1081, datetime.date(2025, 1, 8), 60000, 'madurai', 1081)\n",
      "('valu', 26, 1234, datetime.date(2025, 1, 9), 66000, 'trichy', 1234)\n",
      "('valu', 26, 1234, datetime.date(2025, 1, 9), 66000, 'trichy', 1234)\n"
     ]
    }
   ],
   "source": [
    "cursor.execute(\"select * from person left join employee on person.Id = employee.Id\")\n",
    "for i in cursor:\n",
    "    print(i)"
   ]
  },
  {
   "cell_type": "code",
   "execution_count": 37,
   "id": "c255b559-4ddf-4f98-9e1b-9495762f816b",
   "metadata": {},
   "outputs": [
    {
     "name": "stdout",
     "output_type": "stream",
     "text": [
      "('charle', 26, 999, datetime.date(2025, 1, 1), 50000, 'chennai', 999)\n",
      "('gurunathaaa', 26, 1000, datetime.date(2025, 1, 2), 60000, 'thiruvallur', 1000)\n",
      "('dwara', 23, 1001, datetime.date(2025, 1, 3), 70000, 'kanchi', 1001)\n",
      "('harsha', 25, 1005, datetime.date(2025, 1, 4), 80000, 'delhi', 1005)\n",
      "('jumbo', 25, 1006, datetime.date(2025, 1, 5), 50000, 'UP', 1006)\n",
      "('prabu', 26, 1081, datetime.date(2025, 1, 8), 60000, 'madurai', 1081)\n",
      "('valu', 26, 1234, datetime.date(2025, 1, 9), 66000, 'trichy', 1234)\n",
      "('charle', 26, 999, datetime.date(2025, 1, 1), 50000, 'chennai', 999)\n",
      "('gurunathaaa', 26, 1000, datetime.date(2025, 1, 2), 60000, 'thiruvallur', 1000)\n",
      "('dwara', 23, 1001, datetime.date(2025, 1, 3), 70000, 'kanchi', 1001)\n",
      "('harsha', 25, 1005, datetime.date(2025, 1, 4), 80000, 'delhi', 1005)\n",
      "('jumbo', 25, 1006, datetime.date(2025, 1, 5), 50000, 'UP', 1006)\n",
      "('prabu', 26, 1081, datetime.date(2025, 1, 8), 60000, 'madurai', 1081)\n",
      "('valu', 26, 1234, datetime.date(2025, 1, 9), 66000, 'trichy', 1234)\n"
     ]
    }
   ],
   "source": [
    "cursor.execute(\"select * from person left join employee on person.Id = employee.Id where employee.salary >= 50000\")\n",
    "for i in cursor:\n",
    "    print(i)"
   ]
  },
  {
   "cell_type": "markdown",
   "id": "f40f4515-27d1-4f41-9706-0e3cb97670bc",
   "metadata": {},
   "source": [
    "# right left"
   ]
  },
  {
   "cell_type": "code",
   "execution_count": 38,
   "id": "805e93d7-0bd9-44df-91fa-6b8cee8b0fd9",
   "metadata": {},
   "outputs": [
    {
     "name": "stdout",
     "output_type": "stream",
     "text": [
      "('charle', 26, 999, datetime.date(2025, 1, 1), 50000, 'chennai', 999)\n",
      "('gurunathaaa', 26, 1000, datetime.date(2025, 1, 2), 60000, 'thiruvallur', 1000)\n",
      "('dwara', 23, 1001, datetime.date(2025, 1, 3), 70000, 'kanchi', 1001)\n",
      "('harsha', 25, 1005, datetime.date(2025, 1, 4), 80000, 'delhi', 1005)\n",
      "('jumbo', 25, 1006, datetime.date(2025, 1, 5), 50000, 'UP', 1006)\n",
      "('prabu', 26, 1081, datetime.date(2025, 1, 8), 60000, 'madurai', 1081)\n",
      "('valu', 26, 1234, datetime.date(2025, 1, 9), 66000, 'trichy', 1234)\n",
      "('charle', 26, 999, datetime.date(2025, 1, 1), 50000, 'chennai', 999)\n",
      "('gurunathaaa', 26, 1000, datetime.date(2025, 1, 2), 60000, 'thiruvallur', 1000)\n",
      "('dwara', 23, 1001, datetime.date(2025, 1, 3), 70000, 'kanchi', 1001)\n",
      "('harsha', 25, 1005, datetime.date(2025, 1, 4), 80000, 'delhi', 1005)\n",
      "('jumbo', 25, 1006, datetime.date(2025, 1, 5), 50000, 'UP', 1006)\n",
      "('prabu', 26, 1081, datetime.date(2025, 1, 8), 60000, 'madurai', 1081)\n",
      "('valu', 26, 1234, datetime.date(2025, 1, 9), 66000, 'trichy', 1234)\n"
     ]
    }
   ],
   "source": [
    "cursor.execute(\"select * from person right join employee on person.Id = employee.Id where employee.salary >= 50000\")\n",
    "for i in cursor:\n",
    "    print(i)"
   ]
  },
  {
   "cell_type": "markdown",
   "id": "7654fb65-dc88-4082-99dd-65d7d1dce73d",
   "metadata": {},
   "source": [
    "# inner joins"
   ]
  },
  {
   "cell_type": "code",
   "execution_count": 39,
   "id": "e4b3a79b-6917-4373-ad9c-9e0adb7fdfd0",
   "metadata": {},
   "outputs": [
    {
     "name": "stdout",
     "output_type": "stream",
     "text": [
      "('charle', 26, 999, datetime.date(2025, 1, 1), 50000, 'chennai', 999)\n",
      "('gurunathaaa', 26, 1000, datetime.date(2025, 1, 2), 60000, 'thiruvallur', 1000)\n",
      "('dwara', 23, 1001, datetime.date(2025, 1, 3), 70000, 'kanchi', 1001)\n",
      "('harsha', 25, 1005, datetime.date(2025, 1, 4), 80000, 'delhi', 1005)\n",
      "('jumbo', 25, 1006, datetime.date(2025, 1, 5), 50000, 'UP', 1006)\n",
      "('prabu', 26, 1081, datetime.date(2025, 1, 8), 60000, 'madurai', 1081)\n",
      "('valu', 26, 1234, datetime.date(2025, 1, 9), 66000, 'trichy', 1234)\n",
      "('charle', 26, 999, datetime.date(2025, 1, 1), 50000, 'chennai', 999)\n",
      "('gurunathaaa', 26, 1000, datetime.date(2025, 1, 2), 60000, 'thiruvallur', 1000)\n",
      "('dwara', 23, 1001, datetime.date(2025, 1, 3), 70000, 'kanchi', 1001)\n",
      "('harsha', 25, 1005, datetime.date(2025, 1, 4), 80000, 'delhi', 1005)\n",
      "('jumbo', 25, 1006, datetime.date(2025, 1, 5), 50000, 'UP', 1006)\n",
      "('prabu', 26, 1081, datetime.date(2025, 1, 8), 60000, 'madurai', 1081)\n",
      "('valu', 26, 1234, datetime.date(2025, 1, 9), 66000, 'trichy', 1234)\n"
     ]
    }
   ],
   "source": [
    "cursor.execute(\"select * from person inner join employee on person.Id = employee.Id where employee.salary >= 50000\")\n",
    "for i in cursor:\n",
    "    print(i)"
   ]
  },
  {
   "cell_type": "markdown",
   "id": "9d7a6522-c6ea-4166-ad0a-4174065d8298",
   "metadata": {},
   "source": [
    "# cross joins"
   ]
  },
  {
   "cell_type": "code",
   "execution_count": 40,
   "id": "02a20a39-ca73-47c0-b1af-bcdf5a701ac2",
   "metadata": {
    "scrolled": true
   },
   "outputs": [
    {
     "name": "stdout",
     "output_type": "stream",
     "text": [
      "('valu', 26, 1234, datetime.date(2025, 1, 9), 50000, 'chennai', 999)\n",
      "('prabu', 26, 1081, datetime.date(2025, 1, 8), 50000, 'chennai', 999)\n",
      "('amb', 26, 1080, datetime.date(2025, 1, 7), 50000, 'chennai', 999)\n",
      "('dgvc', 26, 1010, datetime.date(2025, 1, 6), 50000, 'chennai', 999)\n",
      "('jumbo', 25, 1006, datetime.date(2025, 1, 5), 50000, 'chennai', 999)\n",
      "('harsha', 25, 1005, datetime.date(2025, 1, 4), 50000, 'chennai', 999)\n",
      "('dwara', 23, 1001, datetime.date(2025, 1, 3), 50000, 'chennai', 999)\n",
      "('gurunathaaa', 26, 1000, datetime.date(2025, 1, 2), 50000, 'chennai', 999)\n",
      "('charle', 26, 999, datetime.date(2025, 1, 1), 50000, 'chennai', 999)\n",
      "('valu', 26, 1234, datetime.date(2025, 1, 9), 60000, 'thiruvallur', 1000)\n",
      "('prabu', 26, 1081, datetime.date(2025, 1, 8), 60000, 'thiruvallur', 1000)\n",
      "('amb', 26, 1080, datetime.date(2025, 1, 7), 60000, 'thiruvallur', 1000)\n",
      "('dgvc', 26, 1010, datetime.date(2025, 1, 6), 60000, 'thiruvallur', 1000)\n",
      "('jumbo', 25, 1006, datetime.date(2025, 1, 5), 60000, 'thiruvallur', 1000)\n",
      "('harsha', 25, 1005, datetime.date(2025, 1, 4), 60000, 'thiruvallur', 1000)\n",
      "('dwara', 23, 1001, datetime.date(2025, 1, 3), 60000, 'thiruvallur', 1000)\n",
      "('gurunathaaa', 26, 1000, datetime.date(2025, 1, 2), 60000, 'thiruvallur', 1000)\n",
      "('charle', 26, 999, datetime.date(2025, 1, 1), 60000, 'thiruvallur', 1000)\n",
      "('valu', 26, 1234, datetime.date(2025, 1, 9), 70000, 'kanchi', 1001)\n",
      "('prabu', 26, 1081, datetime.date(2025, 1, 8), 70000, 'kanchi', 1001)\n",
      "('amb', 26, 1080, datetime.date(2025, 1, 7), 70000, 'kanchi', 1001)\n",
      "('dgvc', 26, 1010, datetime.date(2025, 1, 6), 70000, 'kanchi', 1001)\n",
      "('jumbo', 25, 1006, datetime.date(2025, 1, 5), 70000, 'kanchi', 1001)\n",
      "('harsha', 25, 1005, datetime.date(2025, 1, 4), 70000, 'kanchi', 1001)\n",
      "('dwara', 23, 1001, datetime.date(2025, 1, 3), 70000, 'kanchi', 1001)\n",
      "('gurunathaaa', 26, 1000, datetime.date(2025, 1, 2), 70000, 'kanchi', 1001)\n",
      "('charle', 26, 999, datetime.date(2025, 1, 1), 70000, 'kanchi', 1001)\n",
      "('valu', 26, 1234, datetime.date(2025, 1, 9), 80000, 'delhi', 1005)\n",
      "('prabu', 26, 1081, datetime.date(2025, 1, 8), 80000, 'delhi', 1005)\n",
      "('amb', 26, 1080, datetime.date(2025, 1, 7), 80000, 'delhi', 1005)\n",
      "('dgvc', 26, 1010, datetime.date(2025, 1, 6), 80000, 'delhi', 1005)\n",
      "('jumbo', 25, 1006, datetime.date(2025, 1, 5), 80000, 'delhi', 1005)\n",
      "('harsha', 25, 1005, datetime.date(2025, 1, 4), 80000, 'delhi', 1005)\n",
      "('dwara', 23, 1001, datetime.date(2025, 1, 3), 80000, 'delhi', 1005)\n",
      "('gurunathaaa', 26, 1000, datetime.date(2025, 1, 2), 80000, 'delhi', 1005)\n",
      "('charle', 26, 999, datetime.date(2025, 1, 1), 80000, 'delhi', 1005)\n",
      "('valu', 26, 1234, datetime.date(2025, 1, 9), 50000, 'UP', 1006)\n",
      "('prabu', 26, 1081, datetime.date(2025, 1, 8), 50000, 'UP', 1006)\n",
      "('amb', 26, 1080, datetime.date(2025, 1, 7), 50000, 'UP', 1006)\n",
      "('dgvc', 26, 1010, datetime.date(2025, 1, 6), 50000, 'UP', 1006)\n",
      "('jumbo', 25, 1006, datetime.date(2025, 1, 5), 50000, 'UP', 1006)\n",
      "('harsha', 25, 1005, datetime.date(2025, 1, 4), 50000, 'UP', 1006)\n",
      "('dwara', 23, 1001, datetime.date(2025, 1, 3), 50000, 'UP', 1006)\n",
      "('gurunathaaa', 26, 1000, datetime.date(2025, 1, 2), 50000, 'UP', 1006)\n",
      "('charle', 26, 999, datetime.date(2025, 1, 1), 50000, 'UP', 1006)\n",
      "('valu', 26, 1234, datetime.date(2025, 1, 9), 20000, 'karur', 1010)\n",
      "('prabu', 26, 1081, datetime.date(2025, 1, 8), 20000, 'karur', 1010)\n",
      "('amb', 26, 1080, datetime.date(2025, 1, 7), 20000, 'karur', 1010)\n",
      "('dgvc', 26, 1010, datetime.date(2025, 1, 6), 20000, 'karur', 1010)\n",
      "('jumbo', 25, 1006, datetime.date(2025, 1, 5), 20000, 'karur', 1010)\n",
      "('harsha', 25, 1005, datetime.date(2025, 1, 4), 20000, 'karur', 1010)\n",
      "('dwara', 23, 1001, datetime.date(2025, 1, 3), 20000, 'karur', 1010)\n",
      "('gurunathaaa', 26, 1000, datetime.date(2025, 1, 2), 20000, 'karur', 1010)\n",
      "('charle', 26, 999, datetime.date(2025, 1, 1), 20000, 'karur', 1010)\n",
      "('valu', 26, 1234, datetime.date(2025, 1, 9), 10000, 'thirunaveli', 1080)\n",
      "('prabu', 26, 1081, datetime.date(2025, 1, 8), 10000, 'thirunaveli', 1080)\n",
      "('amb', 26, 1080, datetime.date(2025, 1, 7), 10000, 'thirunaveli', 1080)\n",
      "('dgvc', 26, 1010, datetime.date(2025, 1, 6), 10000, 'thirunaveli', 1080)\n",
      "('jumbo', 25, 1006, datetime.date(2025, 1, 5), 10000, 'thirunaveli', 1080)\n",
      "('harsha', 25, 1005, datetime.date(2025, 1, 4), 10000, 'thirunaveli', 1080)\n",
      "('dwara', 23, 1001, datetime.date(2025, 1, 3), 10000, 'thirunaveli', 1080)\n",
      "('gurunathaaa', 26, 1000, datetime.date(2025, 1, 2), 10000, 'thirunaveli', 1080)\n",
      "('charle', 26, 999, datetime.date(2025, 1, 1), 10000, 'thirunaveli', 1080)\n",
      "('valu', 26, 1234, datetime.date(2025, 1, 9), 60000, 'madurai', 1081)\n",
      "('prabu', 26, 1081, datetime.date(2025, 1, 8), 60000, 'madurai', 1081)\n",
      "('amb', 26, 1080, datetime.date(2025, 1, 7), 60000, 'madurai', 1081)\n",
      "('dgvc', 26, 1010, datetime.date(2025, 1, 6), 60000, 'madurai', 1081)\n",
      "('jumbo', 25, 1006, datetime.date(2025, 1, 5), 60000, 'madurai', 1081)\n",
      "('harsha', 25, 1005, datetime.date(2025, 1, 4), 60000, 'madurai', 1081)\n",
      "('dwara', 23, 1001, datetime.date(2025, 1, 3), 60000, 'madurai', 1081)\n",
      "('gurunathaaa', 26, 1000, datetime.date(2025, 1, 2), 60000, 'madurai', 1081)\n",
      "('charle', 26, 999, datetime.date(2025, 1, 1), 60000, 'madurai', 1081)\n",
      "('valu', 26, 1234, datetime.date(2025, 1, 9), 66000, 'trichy', 1234)\n",
      "('prabu', 26, 1081, datetime.date(2025, 1, 8), 66000, 'trichy', 1234)\n",
      "('amb', 26, 1080, datetime.date(2025, 1, 7), 66000, 'trichy', 1234)\n",
      "('dgvc', 26, 1010, datetime.date(2025, 1, 6), 66000, 'trichy', 1234)\n",
      "('jumbo', 25, 1006, datetime.date(2025, 1, 5), 66000, 'trichy', 1234)\n",
      "('harsha', 25, 1005, datetime.date(2025, 1, 4), 66000, 'trichy', 1234)\n",
      "('dwara', 23, 1001, datetime.date(2025, 1, 3), 66000, 'trichy', 1234)\n",
      "('gurunathaaa', 26, 1000, datetime.date(2025, 1, 2), 66000, 'trichy', 1234)\n",
      "('charle', 26, 999, datetime.date(2025, 1, 1), 66000, 'trichy', 1234)\n",
      "('valu', 26, 1234, datetime.date(2025, 1, 9), 50000, 'chennai', 999)\n",
      "('prabu', 26, 1081, datetime.date(2025, 1, 8), 50000, 'chennai', 999)\n",
      "('amb', 26, 1080, datetime.date(2025, 1, 7), 50000, 'chennai', 999)\n",
      "('dgvc', 26, 1010, datetime.date(2025, 1, 6), 50000, 'chennai', 999)\n",
      "('jumbo', 25, 1006, datetime.date(2025, 1, 5), 50000, 'chennai', 999)\n",
      "('harsha', 25, 1005, datetime.date(2025, 1, 4), 50000, 'chennai', 999)\n",
      "('dwara', 23, 1001, datetime.date(2025, 1, 3), 50000, 'chennai', 999)\n",
      "('gurunathaaa', 26, 1000, datetime.date(2025, 1, 2), 50000, 'chennai', 999)\n",
      "('charle', 26, 999, datetime.date(2025, 1, 1), 50000, 'chennai', 999)\n",
      "('valu', 26, 1234, datetime.date(2025, 1, 9), 60000, 'thiruvallur', 1000)\n",
      "('prabu', 26, 1081, datetime.date(2025, 1, 8), 60000, 'thiruvallur', 1000)\n",
      "('amb', 26, 1080, datetime.date(2025, 1, 7), 60000, 'thiruvallur', 1000)\n",
      "('dgvc', 26, 1010, datetime.date(2025, 1, 6), 60000, 'thiruvallur', 1000)\n",
      "('jumbo', 25, 1006, datetime.date(2025, 1, 5), 60000, 'thiruvallur', 1000)\n",
      "('harsha', 25, 1005, datetime.date(2025, 1, 4), 60000, 'thiruvallur', 1000)\n",
      "('dwara', 23, 1001, datetime.date(2025, 1, 3), 60000, 'thiruvallur', 1000)\n",
      "('gurunathaaa', 26, 1000, datetime.date(2025, 1, 2), 60000, 'thiruvallur', 1000)\n",
      "('charle', 26, 999, datetime.date(2025, 1, 1), 60000, 'thiruvallur', 1000)\n",
      "('valu', 26, 1234, datetime.date(2025, 1, 9), 70000, 'kanchi', 1001)\n",
      "('prabu', 26, 1081, datetime.date(2025, 1, 8), 70000, 'kanchi', 1001)\n",
      "('amb', 26, 1080, datetime.date(2025, 1, 7), 70000, 'kanchi', 1001)\n",
      "('dgvc', 26, 1010, datetime.date(2025, 1, 6), 70000, 'kanchi', 1001)\n",
      "('jumbo', 25, 1006, datetime.date(2025, 1, 5), 70000, 'kanchi', 1001)\n",
      "('harsha', 25, 1005, datetime.date(2025, 1, 4), 70000, 'kanchi', 1001)\n",
      "('dwara', 23, 1001, datetime.date(2025, 1, 3), 70000, 'kanchi', 1001)\n",
      "('gurunathaaa', 26, 1000, datetime.date(2025, 1, 2), 70000, 'kanchi', 1001)\n",
      "('charle', 26, 999, datetime.date(2025, 1, 1), 70000, 'kanchi', 1001)\n",
      "('valu', 26, 1234, datetime.date(2025, 1, 9), 80000, 'delhi', 1005)\n",
      "('prabu', 26, 1081, datetime.date(2025, 1, 8), 80000, 'delhi', 1005)\n",
      "('amb', 26, 1080, datetime.date(2025, 1, 7), 80000, 'delhi', 1005)\n",
      "('dgvc', 26, 1010, datetime.date(2025, 1, 6), 80000, 'delhi', 1005)\n",
      "('jumbo', 25, 1006, datetime.date(2025, 1, 5), 80000, 'delhi', 1005)\n",
      "('harsha', 25, 1005, datetime.date(2025, 1, 4), 80000, 'delhi', 1005)\n",
      "('dwara', 23, 1001, datetime.date(2025, 1, 3), 80000, 'delhi', 1005)\n",
      "('gurunathaaa', 26, 1000, datetime.date(2025, 1, 2), 80000, 'delhi', 1005)\n",
      "('charle', 26, 999, datetime.date(2025, 1, 1), 80000, 'delhi', 1005)\n",
      "('valu', 26, 1234, datetime.date(2025, 1, 9), 50000, 'UP', 1006)\n",
      "('prabu', 26, 1081, datetime.date(2025, 1, 8), 50000, 'UP', 1006)\n",
      "('amb', 26, 1080, datetime.date(2025, 1, 7), 50000, 'UP', 1006)\n",
      "('dgvc', 26, 1010, datetime.date(2025, 1, 6), 50000, 'UP', 1006)\n",
      "('jumbo', 25, 1006, datetime.date(2025, 1, 5), 50000, 'UP', 1006)\n",
      "('harsha', 25, 1005, datetime.date(2025, 1, 4), 50000, 'UP', 1006)\n",
      "('dwara', 23, 1001, datetime.date(2025, 1, 3), 50000, 'UP', 1006)\n",
      "('gurunathaaa', 26, 1000, datetime.date(2025, 1, 2), 50000, 'UP', 1006)\n",
      "('charle', 26, 999, datetime.date(2025, 1, 1), 50000, 'UP', 1006)\n",
      "('valu', 26, 1234, datetime.date(2025, 1, 9), 20000, 'karur', 1010)\n",
      "('prabu', 26, 1081, datetime.date(2025, 1, 8), 20000, 'karur', 1010)\n",
      "('amb', 26, 1080, datetime.date(2025, 1, 7), 20000, 'karur', 1010)\n",
      "('dgvc', 26, 1010, datetime.date(2025, 1, 6), 20000, 'karur', 1010)\n",
      "('jumbo', 25, 1006, datetime.date(2025, 1, 5), 20000, 'karur', 1010)\n",
      "('harsha', 25, 1005, datetime.date(2025, 1, 4), 20000, 'karur', 1010)\n",
      "('dwara', 23, 1001, datetime.date(2025, 1, 3), 20000, 'karur', 1010)\n",
      "('gurunathaaa', 26, 1000, datetime.date(2025, 1, 2), 20000, 'karur', 1010)\n",
      "('charle', 26, 999, datetime.date(2025, 1, 1), 20000, 'karur', 1010)\n",
      "('valu', 26, 1234, datetime.date(2025, 1, 9), 10000, 'thirunaveli', 1080)\n",
      "('prabu', 26, 1081, datetime.date(2025, 1, 8), 10000, 'thirunaveli', 1080)\n",
      "('amb', 26, 1080, datetime.date(2025, 1, 7), 10000, 'thirunaveli', 1080)\n",
      "('dgvc', 26, 1010, datetime.date(2025, 1, 6), 10000, 'thirunaveli', 1080)\n",
      "('jumbo', 25, 1006, datetime.date(2025, 1, 5), 10000, 'thirunaveli', 1080)\n",
      "('harsha', 25, 1005, datetime.date(2025, 1, 4), 10000, 'thirunaveli', 1080)\n",
      "('dwara', 23, 1001, datetime.date(2025, 1, 3), 10000, 'thirunaveli', 1080)\n",
      "('gurunathaaa', 26, 1000, datetime.date(2025, 1, 2), 10000, 'thirunaveli', 1080)\n",
      "('charle', 26, 999, datetime.date(2025, 1, 1), 10000, 'thirunaveli', 1080)\n",
      "('valu', 26, 1234, datetime.date(2025, 1, 9), 60000, 'madurai', 1081)\n",
      "('prabu', 26, 1081, datetime.date(2025, 1, 8), 60000, 'madurai', 1081)\n",
      "('amb', 26, 1080, datetime.date(2025, 1, 7), 60000, 'madurai', 1081)\n",
      "('dgvc', 26, 1010, datetime.date(2025, 1, 6), 60000, 'madurai', 1081)\n",
      "('jumbo', 25, 1006, datetime.date(2025, 1, 5), 60000, 'madurai', 1081)\n",
      "('harsha', 25, 1005, datetime.date(2025, 1, 4), 60000, 'madurai', 1081)\n",
      "('dwara', 23, 1001, datetime.date(2025, 1, 3), 60000, 'madurai', 1081)\n",
      "('gurunathaaa', 26, 1000, datetime.date(2025, 1, 2), 60000, 'madurai', 1081)\n",
      "('charle', 26, 999, datetime.date(2025, 1, 1), 60000, 'madurai', 1081)\n",
      "('valu', 26, 1234, datetime.date(2025, 1, 9), 66000, 'trichy', 1234)\n",
      "('prabu', 26, 1081, datetime.date(2025, 1, 8), 66000, 'trichy', 1234)\n",
      "('amb', 26, 1080, datetime.date(2025, 1, 7), 66000, 'trichy', 1234)\n",
      "('dgvc', 26, 1010, datetime.date(2025, 1, 6), 66000, 'trichy', 1234)\n",
      "('jumbo', 25, 1006, datetime.date(2025, 1, 5), 66000, 'trichy', 1234)\n",
      "('harsha', 25, 1005, datetime.date(2025, 1, 4), 66000, 'trichy', 1234)\n",
      "('dwara', 23, 1001, datetime.date(2025, 1, 3), 66000, 'trichy', 1234)\n",
      "('gurunathaaa', 26, 1000, datetime.date(2025, 1, 2), 66000, 'trichy', 1234)\n",
      "('charle', 26, 999, datetime.date(2025, 1, 1), 66000, 'trichy', 1234)\n"
     ]
    }
   ],
   "source": [
    "cursor.execute(\"SELECT * FROM person CROSS JOIN employee\")\n",
    "for i in cursor:\n",
    "    print(i)"
   ]
  },
  {
   "cell_type": "markdown",
   "id": "790616ff-6a3c-4dfc-9dd4-d9d1cef05a94",
   "metadata": {},
   "source": [
    "# self joins"
   ]
  },
  {
   "cell_type": "code",
   "execution_count": 41,
   "id": "e246a46d-8a3a-4a3c-bbe0-a056a6c2f3bf",
   "metadata": {},
   "outputs": [
    {
     "data": {
      "text/plain": [
       "'employee_id\\tname\\tmanager_id\\n     1\\t        Alice\\t3\\n     2\\t        Bob\\t    3\\n     3\\t        Charlie\\tNULL\\n     4\\t        David\\t2\\n     5\\t        Eve\\t    2                      '"
      ]
     },
     "execution_count": 41,
     "metadata": {},
     "output_type": "execute_result"
    }
   ],
   "source": [
    "'''employee_id\tname\tmanager_id\n",
    "     1\t        Alice\t3\n",
    "     2\t        Bob\t    3\n",
    "     3\t        Charlie\tNULL\n",
    "     4\t        David\t2\n",
    "     5\t        Eve\t    2                      '''"
   ]
  },
  {
   "cell_type": "code",
   "execution_count": 42,
   "id": "1706b2cb-a59e-4269-9cb6-47dc739dbf33",
   "metadata": {},
   "outputs": [
    {
     "ename": "IndentationError",
     "evalue": "unexpected indent (2550196021.py, line 2)",
     "output_type": "error",
     "traceback": [
      "\u001b[1;36m  Cell \u001b[1;32mIn[42], line 2\u001b[1;36m\u001b[0m\n\u001b[1;33m    e1.name AS employee_name,\u001b[0m\n\u001b[1;37m    ^\u001b[0m\n\u001b[1;31mIndentationError\u001b[0m\u001b[1;31m:\u001b[0m unexpected indent\n"
     ]
    }
   ],
   "source": [
    "SELECT \n",
    "    e1.name AS employee_name,\n",
    "    e2.name AS manager_name\n",
    "FROM \n",
    "    employees e1\n",
    "INNER JOIN \n",
    "    employees e2 ON e1.manager_id = e2.employee_id;\n"
   ]
  },
  {
   "cell_type": "code",
   "execution_count": 43,
   "id": "d5b6d9de-1fea-4573-abc6-ef5fed4ea4a6",
   "metadata": {},
   "outputs": [
    {
     "data": {
      "text/plain": [
       "'employee_name\\tmanager_name\\n        Alice\\t     Charlie\\n        Bob\\t         Charlie\\n        David\\t     Bob\\n        Eve\\t         Bob           '"
      ]
     },
     "execution_count": 43,
     "metadata": {},
     "output_type": "execute_result"
    }
   ],
   "source": [
    "'''employee_name\tmanager_name\n",
    "        Alice\t     Charlie\n",
    "        Bob\t         Charlie\n",
    "        David\t     Bob\n",
    "        Eve\t         Bob           '''"
   ]
  },
  {
   "cell_type": "markdown",
   "id": "b29b7add-0d39-4327-942b-66c84e773a6a",
   "metadata": {},
   "source": [
    "# subquery"
   ]
  },
  {
   "cell_type": "code",
   "execution_count": 44,
   "id": "85552ee9-d75d-43cb-9ea5-f2419ffd4086",
   "metadata": {},
   "outputs": [
    {
     "name": "stdout",
     "output_type": "stream",
     "text": [
      "('charle', 26, 999, datetime.date(2025, 1, 1))\n"
     ]
    }
   ],
   "source": [
    "cursor.execute(\"select * from person where Id in (select Id from employee where place = 'chennai')\")\n",
    "for i in cursor:\n",
    "    print(i)"
   ]
  },
  {
   "cell_type": "code",
   "execution_count": 45,
   "id": "17a0971a-adc7-4cef-bf66-bb77f07b7cb8",
   "metadata": {},
   "outputs": [
    {
     "name": "stdout",
     "output_type": "stream",
     "text": [
      "('charle', 26, 999, datetime.date(2025, 1, 1))\n",
      "('jumbo', 25, 1006, datetime.date(2025, 1, 5))\n",
      "('dgvc', 26, 1010, datetime.date(2025, 1, 6))\n",
      "('amb', 26, 1080, datetime.date(2025, 1, 7))\n"
     ]
    }
   ],
   "source": [
    "cursor.execute(\"select * from person where Id in (select Id from employee where salary <= 50000)\")\n",
    "for i in cursor:\n",
    "    print(i)"
   ]
  },
  {
   "cell_type": "markdown",
   "id": "762b2f15-3fc9-4099-ac2b-57b1ed9b3aed",
   "metadata": {},
   "source": [
    "# Data Filtering and Grouping"
   ]
  },
  {
   "cell_type": "code",
   "execution_count": 46,
   "id": "2b0a0a26-bebf-4d6e-929d-2cb7e44f3cc6",
   "metadata": {},
   "outputs": [
    {
     "name": "stdout",
     "output_type": "stream",
     "text": [
      "(50000, 'chennai', 999)\n",
      "(60000, 'thiruvallur', 1000)\n",
      "(70000, 'kanchi', 1001)\n",
      "(80000, 'delhi', 1005)\n",
      "(50000, 'UP', 1006)\n",
      "(60000, 'madurai', 1081)\n",
      "(66000, 'trichy', 1234)\n",
      "(50000, 'chennai', 999)\n",
      "(60000, 'thiruvallur', 1000)\n",
      "(70000, 'kanchi', 1001)\n",
      "(80000, 'delhi', 1005)\n",
      "(50000, 'UP', 1006)\n",
      "(60000, 'madurai', 1081)\n",
      "(66000, 'trichy', 1234)\n"
     ]
    }
   ],
   "source": [
    "cursor.execute(\"SELECT * FROM employee having salary >= 50000\")\n",
    "for i in cursor:\n",
    "    print(i)"
   ]
  },
  {
   "cell_type": "code",
   "execution_count": 47,
   "id": "2e2b7f89-6ad9-4dd4-90db-c29a63d726d2",
   "metadata": {},
   "outputs": [
    {
     "name": "stdout",
     "output_type": "stream",
     "text": [
      "(2025, 9)\n"
     ]
    }
   ],
   "source": [
    "cursor.execute(\"SELECT YEAR(joined_date), COUNT(*) FROM person GROUP BY YEAR(joined_date)\")\n",
    "for i in cursor:\n",
    "    print(i)\n"
   ]
  },
  {
   "cell_type": "markdown",
   "id": "6230e0cd-d2f0-415e-85c4-c25c892c78be",
   "metadata": {},
   "source": [
    "# indexing "
   ]
  },
  {
   "cell_type": "code",
   "execution_count": null,
   "id": "c6f8a5c7-c7fc-4607-8c48-69488f3ea25f",
   "metadata": {},
   "outputs": [],
   "source": [
    "#cursor.execute(\"create index index_name on person (Id)\")"
   ]
  },
  {
   "cell_type": "code",
   "execution_count": 53,
   "id": "351277ed-a9d5-4179-9e9c-41f362a62f3d",
   "metadata": {},
   "outputs": [
    {
     "name": "stdout",
     "output_type": "stream",
     "text": [
      "('person', 0, 'PRIMARY', 1, 'Id', 'A', 5, None, None, '', 'BTREE', '', '', 'YES', None)\n",
      "('person', 1, 'index_name', 1, 'Id', 'A', 9, None, None, '', 'BTREE', '', '', 'YES', None)\n"
     ]
    }
   ],
   "source": [
    "cursor.execute(\"SHOW INDEX FROM person\")\n",
    "for i in cursor:\n",
    "    print(i)"
   ]
  },
  {
   "cell_type": "code",
   "execution_count": null,
   "id": "b57dd812-1641-455d-a601-cb0a8205f894",
   "metadata": {},
   "outputs": [],
   "source": []
  },
  {
   "cell_type": "code",
   "execution_count": null,
   "id": "aacb1814-d59e-4890-bade-13451fb37653",
   "metadata": {},
   "outputs": [],
   "source": []
  },
  {
   "cell_type": "code",
   "execution_count": null,
   "id": "21418595-a6db-4dce-a820-7f0f2e724901",
   "metadata": {},
   "outputs": [],
   "source": []
  },
  {
   "cell_type": "code",
   "execution_count": null,
   "id": "6203a62d-52cd-4479-a2fa-81e79627dad9",
   "metadata": {},
   "outputs": [],
   "source": []
  },
  {
   "cell_type": "code",
   "execution_count": null,
   "id": "ca38b6df-02c7-463f-a3da-86b6f2c91b71",
   "metadata": {},
   "outputs": [],
   "source": []
  },
  {
   "cell_type": "code",
   "execution_count": null,
   "id": "040d8821-551f-4abd-816e-02da8b49a7f3",
   "metadata": {},
   "outputs": [],
   "source": []
  }
 ],
 "metadata": {
  "kernelspec": {
   "display_name": "Python 3 (ipykernel)",
   "language": "python",
   "name": "python3"
  },
  "language_info": {
   "codemirror_mode": {
    "name": "ipython",
    "version": 3
   },
   "file_extension": ".py",
   "mimetype": "text/x-python",
   "name": "python",
   "nbconvert_exporter": "python",
   "pygments_lexer": "ipython3",
   "version": "3.12.3"
  }
 },
 "nbformat": 4,
 "nbformat_minor": 5
}
